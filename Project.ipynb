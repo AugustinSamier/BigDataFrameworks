{
 "cells": [
  {
   "cell_type": "code",
   "execution_count": 54,
   "metadata": {},
   "outputs": [],
   "source": [
    "import pandas as pd\n",
    "import yfinance as yf\n",
    "import yahoo_fin.stock_info as si\n",
    "from yahoo_fin.stock_info import get_data"
   ]
  },
  {
   "cell_type": "markdown",
   "metadata": {},
   "source": [
    "1. Exploration"
   ]
  },
  {
   "cell_type": "markdown",
   "metadata": {},
   "source": [
    "We can start by checking how much tickers there are in the NASDAQ stocks market:"
   ]
  },
  {
   "cell_type": "code",
   "execution_count": 55,
   "metadata": {},
   "outputs": [
    {
     "name": "stdout",
     "output_type": "stream",
     "text": [
      "Tickers in Nasdaq: 4798\n",
      "['AACG', 'AADI', 'AADR', 'AAL', 'AAME', 'AAOI', 'AAON', 'AAPB', 'AAPD', 'AAPL', 'AAPU', 'AAXJ', 'ABAT', 'ABCL', 'ABCS']\n"
     ]
    }
   ],
   "source": [
    "nas_list=si.tickers_nasdaq()\n",
    "print(\"Tickers in Nasdaq:\", len(nas_list))\n",
    "print(nas_list[0:15])\n",
    "nasdaq_list=nas_list[0:15]"
   ]
  },
  {
   "cell_type": "markdown",
   "metadata": {},
   "source": [
    "We can take as an example APPLE:"
   ]
  },
  {
   "cell_type": "code",
   "execution_count": 56,
   "metadata": {},
   "outputs": [
    {
     "data": {
      "text/html": [
       "<div>\n",
       "<style scoped>\n",
       "    .dataframe tbody tr th:only-of-type {\n",
       "        vertical-align: middle;\n",
       "    }\n",
       "\n",
       "    .dataframe tbody tr th {\n",
       "        vertical-align: top;\n",
       "    }\n",
       "\n",
       "    .dataframe thead th {\n",
       "        text-align: right;\n",
       "    }\n",
       "</style>\n",
       "<table border=\"1\" class=\"dataframe\">\n",
       "  <thead>\n",
       "    <tr style=\"text-align: right;\">\n",
       "      <th></th>\n",
       "      <th>open</th>\n",
       "      <th>high</th>\n",
       "      <th>low</th>\n",
       "      <th>close</th>\n",
       "      <th>adjclose</th>\n",
       "      <th>volume</th>\n",
       "      <th>ticker</th>\n",
       "    </tr>\n",
       "  </thead>\n",
       "  <tbody>\n",
       "    <tr>\n",
       "      <th>2019-12-02</th>\n",
       "      <td>66.817497</td>\n",
       "      <td>67.062500</td>\n",
       "      <td>65.862503</td>\n",
       "      <td>66.040001</td>\n",
       "      <td>64.024628</td>\n",
       "      <td>94487200</td>\n",
       "      <td>AAPL</td>\n",
       "    </tr>\n",
       "    <tr>\n",
       "      <th>2019-12-03</th>\n",
       "      <td>64.577499</td>\n",
       "      <td>64.882500</td>\n",
       "      <td>64.072502</td>\n",
       "      <td>64.862503</td>\n",
       "      <td>62.883068</td>\n",
       "      <td>114430400</td>\n",
       "      <td>AAPL</td>\n",
       "    </tr>\n",
       "    <tr>\n",
       "      <th>2019-12-04</th>\n",
       "      <td>65.267502</td>\n",
       "      <td>65.827499</td>\n",
       "      <td>65.169998</td>\n",
       "      <td>65.434998</td>\n",
       "      <td>63.438103</td>\n",
       "      <td>67181600</td>\n",
       "      <td>AAPL</td>\n",
       "    </tr>\n",
       "    <tr>\n",
       "      <th>2019-12-05</th>\n",
       "      <td>65.947502</td>\n",
       "      <td>66.472504</td>\n",
       "      <td>65.682503</td>\n",
       "      <td>66.394997</td>\n",
       "      <td>64.368797</td>\n",
       "      <td>74424400</td>\n",
       "      <td>AAPL</td>\n",
       "    </tr>\n",
       "    <tr>\n",
       "      <th>2019-12-06</th>\n",
       "      <td>66.870003</td>\n",
       "      <td>67.750000</td>\n",
       "      <td>66.824997</td>\n",
       "      <td>67.677498</td>\n",
       "      <td>65.612144</td>\n",
       "      <td>106075600</td>\n",
       "      <td>AAPL</td>\n",
       "    </tr>\n",
       "    <tr>\n",
       "      <th>...</th>\n",
       "      <td>...</td>\n",
       "      <td>...</td>\n",
       "      <td>...</td>\n",
       "      <td>...</td>\n",
       "      <td>...</td>\n",
       "      <td>...</td>\n",
       "      <td>...</td>\n",
       "    </tr>\n",
       "    <tr>\n",
       "      <th>2024-11-22</th>\n",
       "      <td>228.059998</td>\n",
       "      <td>230.720001</td>\n",
       "      <td>228.059998</td>\n",
       "      <td>229.869995</td>\n",
       "      <td>229.869995</td>\n",
       "      <td>38168300</td>\n",
       "      <td>AAPL</td>\n",
       "    </tr>\n",
       "    <tr>\n",
       "      <th>2024-11-25</th>\n",
       "      <td>231.460007</td>\n",
       "      <td>233.250000</td>\n",
       "      <td>229.740005</td>\n",
       "      <td>232.869995</td>\n",
       "      <td>232.869995</td>\n",
       "      <td>90152800</td>\n",
       "      <td>AAPL</td>\n",
       "    </tr>\n",
       "    <tr>\n",
       "      <th>2024-11-26</th>\n",
       "      <td>233.330002</td>\n",
       "      <td>235.570007</td>\n",
       "      <td>233.330002</td>\n",
       "      <td>235.059998</td>\n",
       "      <td>235.059998</td>\n",
       "      <td>45986200</td>\n",
       "      <td>AAPL</td>\n",
       "    </tr>\n",
       "    <tr>\n",
       "      <th>2024-11-27</th>\n",
       "      <td>234.470001</td>\n",
       "      <td>235.690002</td>\n",
       "      <td>233.809998</td>\n",
       "      <td>234.929993</td>\n",
       "      <td>234.929993</td>\n",
       "      <td>33498400</td>\n",
       "      <td>AAPL</td>\n",
       "    </tr>\n",
       "    <tr>\n",
       "      <th>2024-11-29</th>\n",
       "      <td>234.809998</td>\n",
       "      <td>237.809998</td>\n",
       "      <td>233.970001</td>\n",
       "      <td>237.330002</td>\n",
       "      <td>237.330002</td>\n",
       "      <td>28481400</td>\n",
       "      <td>AAPL</td>\n",
       "    </tr>\n",
       "  </tbody>\n",
       "</table>\n",
       "<p>1258 rows × 7 columns</p>\n",
       "</div>"
      ],
      "text/plain": [
       "                  open        high         low       close    adjclose  \\\n",
       "2019-12-02   66.817497   67.062500   65.862503   66.040001   64.024628   \n",
       "2019-12-03   64.577499   64.882500   64.072502   64.862503   62.883068   \n",
       "2019-12-04   65.267502   65.827499   65.169998   65.434998   63.438103   \n",
       "2019-12-05   65.947502   66.472504   65.682503   66.394997   64.368797   \n",
       "2019-12-06   66.870003   67.750000   66.824997   67.677498   65.612144   \n",
       "...                ...         ...         ...         ...         ...   \n",
       "2024-11-22  228.059998  230.720001  228.059998  229.869995  229.869995   \n",
       "2024-11-25  231.460007  233.250000  229.740005  232.869995  232.869995   \n",
       "2024-11-26  233.330002  235.570007  233.330002  235.059998  235.059998   \n",
       "2024-11-27  234.470001  235.690002  233.809998  234.929993  234.929993   \n",
       "2024-11-29  234.809998  237.809998  233.970001  237.330002  237.330002   \n",
       "\n",
       "               volume ticker  \n",
       "2019-12-02   94487200   AAPL  \n",
       "2019-12-03  114430400   AAPL  \n",
       "2019-12-04   67181600   AAPL  \n",
       "2019-12-05   74424400   AAPL  \n",
       "2019-12-06  106075600   AAPL  \n",
       "...               ...    ...  \n",
       "2024-11-22   38168300   AAPL  \n",
       "2024-11-25   90152800   AAPL  \n",
       "2024-11-26   45986200   AAPL  \n",
       "2024-11-27   33498400   AAPL  \n",
       "2024-11-29   28481400   AAPL  \n",
       "\n",
       "[1258 rows x 7 columns]"
      ]
     },
     "execution_count": 56,
     "metadata": {},
     "output_type": "execute_result"
    }
   ],
   "source": [
    "nas_aapl= get_data(\"aapl\", start_date=\"11/30/2019\", end_date=\"11/30/2024\", index_as_date = True, interval=\"1d\") #différents interval (1m to 3months)\n",
    "nas_aapl"
   ]
  },
  {
   "cell_type": "markdown",
   "metadata": {},
   "source": [
    "Informations about the data:"
   ]
  },
  {
   "cell_type": "code",
   "execution_count": 57,
   "metadata": {},
   "outputs": [
    {
     "name": "stdout",
     "output_type": "stream",
     "text": [
      "<class 'pandas.core.frame.DataFrame'>\n",
      "DatetimeIndex: 1258 entries, 2019-12-02 to 2024-11-29\n",
      "Data columns (total 7 columns):\n",
      " #   Column    Non-Null Count  Dtype  \n",
      "---  ------    --------------  -----  \n",
      " 0   open      1258 non-null   float64\n",
      " 1   high      1258 non-null   float64\n",
      " 2   low       1258 non-null   float64\n",
      " 3   close     1258 non-null   float64\n",
      " 4   adjclose  1258 non-null   float64\n",
      " 5   volume    1258 non-null   int64  \n",
      " 6   ticker    1258 non-null   object \n",
      "dtypes: float64(5), int64(1), object(1)\n",
      "memory usage: 78.6+ KB\n",
      "None\n"
     ]
    }
   ],
   "source": [
    "print(nas_aapl.info())"
   ]
  },
  {
   "cell_type": "code",
   "execution_count": 58,
   "metadata": {},
   "outputs": [
    {
     "data": {
      "text/html": [
       "<div>\n",
       "<style scoped>\n",
       "    .dataframe tbody tr th:only-of-type {\n",
       "        vertical-align: middle;\n",
       "    }\n",
       "\n",
       "    .dataframe tbody tr th {\n",
       "        vertical-align: top;\n",
       "    }\n",
       "\n",
       "    .dataframe thead th {\n",
       "        text-align: right;\n",
       "    }\n",
       "</style>\n",
       "<table border=\"1\" class=\"dataframe\">\n",
       "  <thead>\n",
       "    <tr style=\"text-align: right;\">\n",
       "      <th></th>\n",
       "      <th>open</th>\n",
       "      <th>high</th>\n",
       "      <th>low</th>\n",
       "      <th>close</th>\n",
       "      <th>adjclose</th>\n",
       "      <th>volume</th>\n",
       "      <th>ticker</th>\n",
       "    </tr>\n",
       "  </thead>\n",
       "  <tbody>\n",
       "    <tr>\n",
       "      <th>2019-12-02</th>\n",
       "      <td>66.817497</td>\n",
       "      <td>67.062500</td>\n",
       "      <td>65.862503</td>\n",
       "      <td>66.040001</td>\n",
       "      <td>64.024628</td>\n",
       "      <td>94487200</td>\n",
       "      <td>AAPL</td>\n",
       "    </tr>\n",
       "    <tr>\n",
       "      <th>2019-12-03</th>\n",
       "      <td>64.577499</td>\n",
       "      <td>64.882500</td>\n",
       "      <td>64.072502</td>\n",
       "      <td>64.862503</td>\n",
       "      <td>62.883068</td>\n",
       "      <td>114430400</td>\n",
       "      <td>AAPL</td>\n",
       "    </tr>\n",
       "    <tr>\n",
       "      <th>2019-12-04</th>\n",
       "      <td>65.267502</td>\n",
       "      <td>65.827499</td>\n",
       "      <td>65.169998</td>\n",
       "      <td>65.434998</td>\n",
       "      <td>63.438103</td>\n",
       "      <td>67181600</td>\n",
       "      <td>AAPL</td>\n",
       "    </tr>\n",
       "    <tr>\n",
       "      <th>2019-12-05</th>\n",
       "      <td>65.947502</td>\n",
       "      <td>66.472504</td>\n",
       "      <td>65.682503</td>\n",
       "      <td>66.394997</td>\n",
       "      <td>64.368797</td>\n",
       "      <td>74424400</td>\n",
       "      <td>AAPL</td>\n",
       "    </tr>\n",
       "    <tr>\n",
       "      <th>2019-12-06</th>\n",
       "      <td>66.870003</td>\n",
       "      <td>67.750000</td>\n",
       "      <td>66.824997</td>\n",
       "      <td>67.677498</td>\n",
       "      <td>65.612144</td>\n",
       "      <td>106075600</td>\n",
       "      <td>AAPL</td>\n",
       "    </tr>\n",
       "  </tbody>\n",
       "</table>\n",
       "</div>"
      ],
      "text/plain": [
       "                 open       high        low      close   adjclose     volume  \\\n",
       "2019-12-02  66.817497  67.062500  65.862503  66.040001  64.024628   94487200   \n",
       "2019-12-03  64.577499  64.882500  64.072502  64.862503  62.883068  114430400   \n",
       "2019-12-04  65.267502  65.827499  65.169998  65.434998  63.438103   67181600   \n",
       "2019-12-05  65.947502  66.472504  65.682503  66.394997  64.368797   74424400   \n",
       "2019-12-06  66.870003  67.750000  66.824997  67.677498  65.612144  106075600   \n",
       "\n",
       "           ticker  \n",
       "2019-12-02   AAPL  \n",
       "2019-12-03   AAPL  \n",
       "2019-12-04   AAPL  \n",
       "2019-12-05   AAPL  \n",
       "2019-12-06   AAPL  "
      ]
     },
     "execution_count": 58,
     "metadata": {},
     "output_type": "execute_result"
    }
   ],
   "source": [
    "nas_aapl.head()"
   ]
  },
  {
   "cell_type": "markdown",
   "metadata": {},
   "source": [
    "We put all the data about the charts in a dictionnary:"
   ]
  },
  {
   "cell_type": "code",
   "execution_count": 59,
   "metadata": {},
   "outputs": [],
   "source": [
    "ticker_list = [\"amzn\", \"aapl\", \"ba\"]\n",
    "dict_data_tickers = {}\n",
    "for ticker in nasdaq_list:\n",
    "    dict_data_tickers[ticker] = get_data(ticker, start_date=\"11/30/2014\", end_date=\"11/30/2024\", index_as_date = True, interval=\"1d\")"
   ]
  },
  {
   "cell_type": "markdown",
   "metadata": {},
   "source": [
    "Example of how to access it:"
   ]
  },
  {
   "cell_type": "code",
   "execution_count": 60,
   "metadata": {},
   "outputs": [
    {
     "name": "stdout",
     "output_type": "stream",
     "text": [
      "            open  high   low  close  adjclose  volume ticker\n",
      "2014-12-01  3.95  3.98  3.87   3.87  0.371163    6000   AACG\n",
      "2014-12-02  3.72  3.72  3.72   3.72  0.356777     300   AACG\n",
      "2014-12-03  3.70  3.85  3.51   3.51  0.336637   12800   AACG\n",
      "2014-12-04  3.51  3.61  3.26   3.30  0.316496   22100   AACG\n",
      "2014-12-05  3.29  3.45  3.11   3.11  0.298274   15400   AACG\n",
      "...          ...   ...   ...    ...       ...     ...    ...\n",
      "2024-11-22  1.00  1.02  0.98   1.02  1.020000   51000   AACG\n",
      "2024-11-25  1.00  1.02  0.97   1.02  1.020000   56400   AACG\n",
      "2024-11-26  1.02  1.02  0.98   1.02  1.020000   15000   AACG\n",
      "2024-11-27  1.00  1.01  0.94   1.00  1.000000   94100   AACG\n",
      "2024-11-29  0.96  1.01  0.96   1.00  1.000000   24400   AACG\n",
      "\n",
      "[2517 rows x 7 columns]\n"
     ]
    }
   ],
   "source": [
    "print(dict_data_tickers[list(dict_data_tickers)[0]])"
   ]
  },
  {
   "cell_type": "markdown",
   "metadata": {},
   "source": [
    "Dictionary of volumes per charts:"
   ]
  },
  {
   "cell_type": "code",
   "execution_count": 72,
   "metadata": {},
   "outputs": [
    {
     "name": "stdout",
     "output_type": "stream",
     "text": [
      "            Volume\n",
      "AACG     740123200\n",
      "AADI     237083058\n",
      "AADR      25517100\n",
      "AAL    61030886200\n",
      "AAME     188959800\n",
      "AAOI    2942353800\n",
      "AAON     769796100\n",
      "AAPB      37760700\n",
      "AAPD     130427000\n",
      "AAPL  297906658200\n",
      "AAPU     178352300\n",
      "AAXJ    2735189200\n",
      "ABAT     408914717\n",
      "ABCL    1898549200\n",
      "ABCS        905900\n"
     ]
    }
   ],
   "source": [
    "dict_volume={}\n",
    "for ticker in dict_data_tickers:\n",
    "    dict_volume[ticker]=dict_data_tickers[ticker][\"volume\"].sum()\n",
    "volDF=pd.DataFrame.from_dict(dict_volume,orient=\"index\",columns=[\"Volume\"])\n",
    "print(volDF)"
   ]
  },
  {
   "cell_type": "code",
   "execution_count": 76,
   "metadata": {},
   "outputs": [
    {
     "name": "stdout",
     "output_type": "stream",
     "text": [
      "Index(['AACG', 'AADI', 'AADR', 'AAL', 'AAME', 'AAOI', 'AAON', 'AAPB', 'AAPD',\n",
      "       'AAPL', 'AAPU', 'AAXJ', 'ABAT', 'ABCL', 'ABCS'],\n",
      "      dtype='object')\n"
     ]
    }
   ],
   "source": [
    "print(volDF.index)"
   ]
  },
  {
   "cell_type": "markdown",
   "metadata": {},
   "source": [
    "Highest and lowest number of volume and what chart it's from:"
   ]
  },
  {
   "cell_type": "code",
   "execution_count": 83,
   "metadata": {},
   "outputs": [
    {
     "ename": "KeyError",
     "evalue": "297906658200",
     "output_type": "error",
     "traceback": [
      "\u001b[1;31m---------------------------------------------------------------------------\u001b[0m",
      "\u001b[1;31mKeyError\u001b[0m                                  Traceback (most recent call last)",
      "File \u001b[1;32mc:\\Users\\asami\\anaconda3\\Lib\\site-packages\\pandas\\core\\indexes\\base.py:3805\u001b[0m, in \u001b[0;36mIndex.get_loc\u001b[1;34m(self, key)\u001b[0m\n\u001b[0;32m   3804\u001b[0m \u001b[38;5;28;01mtry\u001b[39;00m:\n\u001b[1;32m-> 3805\u001b[0m     \u001b[38;5;28;01mreturn\u001b[39;00m \u001b[38;5;28mself\u001b[39m\u001b[38;5;241m.\u001b[39m_engine\u001b[38;5;241m.\u001b[39mget_loc(casted_key)\n\u001b[0;32m   3806\u001b[0m \u001b[38;5;28;01mexcept\u001b[39;00m \u001b[38;5;167;01mKeyError\u001b[39;00m \u001b[38;5;28;01mas\u001b[39;00m err:\n",
      "File \u001b[1;32mindex.pyx:167\u001b[0m, in \u001b[0;36mpandas._libs.index.IndexEngine.get_loc\u001b[1;34m()\u001b[0m\n",
      "File \u001b[1;32mindex.pyx:196\u001b[0m, in \u001b[0;36mpandas._libs.index.IndexEngine.get_loc\u001b[1;34m()\u001b[0m\n",
      "File \u001b[1;32mpandas\\\\_libs\\\\hashtable_class_helper.pxi:7081\u001b[0m, in \u001b[0;36mpandas._libs.hashtable.PyObjectHashTable.get_item\u001b[1;34m()\u001b[0m\n",
      "File \u001b[1;32mpandas\\\\_libs\\\\hashtable_class_helper.pxi:7089\u001b[0m, in \u001b[0;36mpandas._libs.hashtable.PyObjectHashTable.get_item\u001b[1;34m()\u001b[0m\n",
      "\u001b[1;31mKeyError\u001b[0m: 297906658200",
      "\nThe above exception was the direct cause of the following exception:\n",
      "\u001b[1;31mKeyError\u001b[0m                                  Traceback (most recent call last)",
      "Cell \u001b[1;32mIn[83], line 1\u001b[0m\n\u001b[1;32m----> 1\u001b[0m \u001b[38;5;28mprint\u001b[39m(\u001b[38;5;124mf\u001b[39m\u001b[38;5;124m\"\u001b[39m\u001b[38;5;124mThe stock chart with the biggest volume is \u001b[39m\u001b[38;5;132;01m{\u001b[39;00mvolDF[volDF[\u001b[38;5;124m\"\u001b[39m\u001b[38;5;124mVolume\u001b[39m\u001b[38;5;124m\"\u001b[39m]\u001b[38;5;241m.\u001b[39mmax()]\u001b[38;5;241m.\u001b[39mindex\u001b[38;5;132;01m}\u001b[39;00m\u001b[38;5;124m with \u001b[39m\u001b[38;5;132;01m{\u001b[39;00mvolDF[\u001b[38;5;124m\"\u001b[39m\u001b[38;5;124mVolume\u001b[39m\u001b[38;5;124m\"\u001b[39m]\u001b[38;5;241m.\u001b[39mmax()\u001b[38;5;132;01m}\u001b[39;00m\u001b[38;5;124m.\u001b[39m\u001b[38;5;124m\"\u001b[39m)\n\u001b[0;32m      2\u001b[0m \u001b[38;5;28mprint\u001b[39m(\u001b[38;5;124mf\u001b[39m\u001b[38;5;124m\"\u001b[39m\u001b[38;5;124mThe stock chart with the lowest volume is \u001b[39m\u001b[38;5;132;01m{\u001b[39;00mminL\u001b[38;5;132;01m}\u001b[39;00m\u001b[38;5;124m with \u001b[39m\u001b[38;5;132;01m{\u001b[39;00mminV\u001b[38;5;132;01m}\u001b[39;00m\u001b[38;5;124m.\u001b[39m\u001b[38;5;124m\"\u001b[39m)\n",
      "File \u001b[1;32mc:\\Users\\asami\\anaconda3\\Lib\\site-packages\\pandas\\core\\frame.py:4102\u001b[0m, in \u001b[0;36mDataFrame.__getitem__\u001b[1;34m(self, key)\u001b[0m\n\u001b[0;32m   4100\u001b[0m \u001b[38;5;28;01mif\u001b[39;00m \u001b[38;5;28mself\u001b[39m\u001b[38;5;241m.\u001b[39mcolumns\u001b[38;5;241m.\u001b[39mnlevels \u001b[38;5;241m>\u001b[39m \u001b[38;5;241m1\u001b[39m:\n\u001b[0;32m   4101\u001b[0m     \u001b[38;5;28;01mreturn\u001b[39;00m \u001b[38;5;28mself\u001b[39m\u001b[38;5;241m.\u001b[39m_getitem_multilevel(key)\n\u001b[1;32m-> 4102\u001b[0m indexer \u001b[38;5;241m=\u001b[39m \u001b[38;5;28mself\u001b[39m\u001b[38;5;241m.\u001b[39mcolumns\u001b[38;5;241m.\u001b[39mget_loc(key)\n\u001b[0;32m   4103\u001b[0m \u001b[38;5;28;01mif\u001b[39;00m is_integer(indexer):\n\u001b[0;32m   4104\u001b[0m     indexer \u001b[38;5;241m=\u001b[39m [indexer]\n",
      "File \u001b[1;32mc:\\Users\\asami\\anaconda3\\Lib\\site-packages\\pandas\\core\\indexes\\base.py:3812\u001b[0m, in \u001b[0;36mIndex.get_loc\u001b[1;34m(self, key)\u001b[0m\n\u001b[0;32m   3807\u001b[0m     \u001b[38;5;28;01mif\u001b[39;00m \u001b[38;5;28misinstance\u001b[39m(casted_key, \u001b[38;5;28mslice\u001b[39m) \u001b[38;5;129;01mor\u001b[39;00m (\n\u001b[0;32m   3808\u001b[0m         \u001b[38;5;28misinstance\u001b[39m(casted_key, abc\u001b[38;5;241m.\u001b[39mIterable)\n\u001b[0;32m   3809\u001b[0m         \u001b[38;5;129;01mand\u001b[39;00m \u001b[38;5;28many\u001b[39m(\u001b[38;5;28misinstance\u001b[39m(x, \u001b[38;5;28mslice\u001b[39m) \u001b[38;5;28;01mfor\u001b[39;00m x \u001b[38;5;129;01min\u001b[39;00m casted_key)\n\u001b[0;32m   3810\u001b[0m     ):\n\u001b[0;32m   3811\u001b[0m         \u001b[38;5;28;01mraise\u001b[39;00m InvalidIndexError(key)\n\u001b[1;32m-> 3812\u001b[0m     \u001b[38;5;28;01mraise\u001b[39;00m \u001b[38;5;167;01mKeyError\u001b[39;00m(key) \u001b[38;5;28;01mfrom\u001b[39;00m \u001b[38;5;21;01merr\u001b[39;00m\n\u001b[0;32m   3813\u001b[0m \u001b[38;5;28;01mexcept\u001b[39;00m \u001b[38;5;167;01mTypeError\u001b[39;00m:\n\u001b[0;32m   3814\u001b[0m     \u001b[38;5;66;03m# If we have a listlike key, _check_indexing_error will raise\u001b[39;00m\n\u001b[0;32m   3815\u001b[0m     \u001b[38;5;66;03m#  InvalidIndexError. Otherwise we fall through and re-raise\u001b[39;00m\n\u001b[0;32m   3816\u001b[0m     \u001b[38;5;66;03m#  the TypeError.\u001b[39;00m\n\u001b[0;32m   3817\u001b[0m     \u001b[38;5;28mself\u001b[39m\u001b[38;5;241m.\u001b[39m_check_indexing_error(key)\n",
      "\u001b[1;31mKeyError\u001b[0m: 297906658200"
     ]
    }
   ],
   "source": [
    "print(f\"The stock chart with the biggest volume is {volDF[volDF[\"Volume\"].max()].index} with {volDF[\"Volume\"].max()}.\")\n",
    "print(f\"The stock chart with the lowest volume is {minL} with {minV}.\")"
   ]
  },
  {
   "cell_type": "markdown",
   "metadata": {},
   "source": [
    "2. Pre-processing"
   ]
  },
  {
   "cell_type": "markdown",
   "metadata": {},
   "source": [
    "3. Analysis and visualizations"
   ]
  }
 ],
 "metadata": {
  "kernelspec": {
   "display_name": "base",
   "language": "python",
   "name": "python3"
  },
  "language_info": {
   "codemirror_mode": {
    "name": "ipython",
    "version": 3
   },
   "file_extension": ".py",
   "mimetype": "text/x-python",
   "name": "python",
   "nbconvert_exporter": "python",
   "pygments_lexer": "ipython3",
   "version": "3.12.4"
  }
 },
 "nbformat": 4,
 "nbformat_minor": 2
}
