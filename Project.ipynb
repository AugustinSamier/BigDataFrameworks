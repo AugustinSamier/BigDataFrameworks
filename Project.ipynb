{
 "cells": [
  {
   "cell_type": "code",
   "execution_count": 3,
   "metadata": {},
   "outputs": [],
   "source": [
    "import pandas as pd\n",
    "import yfinance as yf\n",
    "import yahoo_fin.stock_info as si\n",
    "from yahoo_fin.stock_info import get_data"
   ]
  },
  {
   "cell_type": "markdown",
   "metadata": {},
   "source": [
    "1. Exploration"
   ]
  },
  {
   "cell_type": "markdown",
   "metadata": {},
   "source": [
    "We can start by checking how much tickers there are in the NASDAQ stocks market:"
   ]
  },
  {
   "cell_type": "code",
   "execution_count": 2,
   "metadata": {},
   "outputs": [
    {
     "name": "stdout",
     "output_type": "stream",
     "text": [
      "Tickers in Nasdaq: 4798\n"
     ]
    },
    {
     "data": {
      "text/plain": [
       "['AACG',\n",
       " 'AADI',\n",
       " 'AADR',\n",
       " 'AAL',\n",
       " 'AAME',\n",
       " 'AAOI',\n",
       " 'AAON',\n",
       " 'AAPB',\n",
       " 'AAPD',\n",
       " 'AAPL',\n",
       " 'AAPU',\n",
       " 'AAXJ',\n",
       " 'ABAT',\n",
       " 'ABCL',\n",
       " 'ABCS']"
      ]
     },
     "execution_count": 2,
     "metadata": {},
     "output_type": "execute_result"
    }
   ],
   "source": [
    "nas_list=si.tickers_nasdaq()\n",
    "print(\"Tickers in Nasdaq:\", len(nas_list))\n",
    "nas_list[0:15]"
   ]
  },
  {
   "cell_type": "markdown",
   "metadata": {},
   "source": [
    "We can take as an example APPLE:"
   ]
  },
  {
   "cell_type": "code",
   "execution_count": 7,
   "metadata": {},
   "outputs": [
    {
     "data": {
      "text/html": [
       "<div>\n",
       "<style scoped>\n",
       "    .dataframe tbody tr th:only-of-type {\n",
       "        vertical-align: middle;\n",
       "    }\n",
       "\n",
       "    .dataframe tbody tr th {\n",
       "        vertical-align: top;\n",
       "    }\n",
       "\n",
       "    .dataframe thead th {\n",
       "        text-align: right;\n",
       "    }\n",
       "</style>\n",
       "<table border=\"1\" class=\"dataframe\">\n",
       "  <thead>\n",
       "    <tr style=\"text-align: right;\">\n",
       "      <th></th>\n",
       "      <th>open</th>\n",
       "      <th>high</th>\n",
       "      <th>low</th>\n",
       "      <th>close</th>\n",
       "      <th>adjclose</th>\n",
       "      <th>volume</th>\n",
       "      <th>ticker</th>\n",
       "    </tr>\n",
       "  </thead>\n",
       "  <tbody>\n",
       "    <tr>\n",
       "      <th>2009-11-30</th>\n",
       "      <td>7.050714</td>\n",
       "      <td>7.138571</td>\n",
       "      <td>6.795714</td>\n",
       "      <td>6.904286</td>\n",
       "      <td>5.824092</td>\n",
       "      <td>1275604400</td>\n",
       "      <td>AAPL</td>\n",
       "    </tr>\n",
       "    <tr>\n",
       "      <th>2009-12-07</th>\n",
       "      <td>6.904286</td>\n",
       "      <td>7.132143</td>\n",
       "      <td>6.738571</td>\n",
       "      <td>6.952500</td>\n",
       "      <td>5.864760</td>\n",
       "      <td>3009384000</td>\n",
       "      <td>AAPL</td>\n",
       "    </tr>\n",
       "    <tr>\n",
       "      <th>2009-12-14</th>\n",
       "      <td>6.977500</td>\n",
       "      <td>7.053929</td>\n",
       "      <td>6.821429</td>\n",
       "      <td>6.979643</td>\n",
       "      <td>5.887658</td>\n",
       "      <td>2265844000</td>\n",
       "      <td>AAPL</td>\n",
       "    </tr>\n",
       "    <tr>\n",
       "      <th>2009-12-21</th>\n",
       "      <td>7.001786</td>\n",
       "      <td>7.476786</td>\n",
       "      <td>6.988214</td>\n",
       "      <td>7.465714</td>\n",
       "      <td>6.297683</td>\n",
       "      <td>1807836800</td>\n",
       "      <td>AAPL</td>\n",
       "    </tr>\n",
       "    <tr>\n",
       "      <th>2009-12-28</th>\n",
       "      <td>7.561429</td>\n",
       "      <td>7.641071</td>\n",
       "      <td>7.439643</td>\n",
       "      <td>7.526071</td>\n",
       "      <td>6.348596</td>\n",
       "      <td>1854266400</td>\n",
       "      <td>AAPL</td>\n",
       "    </tr>\n",
       "    <tr>\n",
       "      <th>...</th>\n",
       "      <td>...</td>\n",
       "      <td>...</td>\n",
       "      <td>...</td>\n",
       "      <td>...</td>\n",
       "      <td>...</td>\n",
       "      <td>...</td>\n",
       "      <td>...</td>\n",
       "    </tr>\n",
       "    <tr>\n",
       "      <th>2019-11-04</th>\n",
       "      <td>64.332497</td>\n",
       "      <td>65.110001</td>\n",
       "      <td>63.842499</td>\n",
       "      <td>65.035004</td>\n",
       "      <td>62.861572</td>\n",
       "      <td>423960800</td>\n",
       "      <td>AAPL</td>\n",
       "    </tr>\n",
       "    <tr>\n",
       "      <th>2019-11-11</th>\n",
       "      <td>64.574997</td>\n",
       "      <td>66.445000</td>\n",
       "      <td>64.570000</td>\n",
       "      <td>66.440002</td>\n",
       "      <td>64.412422</td>\n",
       "      <td>461333600</td>\n",
       "      <td>AAPL</td>\n",
       "    </tr>\n",
       "    <tr>\n",
       "      <th>2019-11-18</th>\n",
       "      <td>66.449997</td>\n",
       "      <td>67.000000</td>\n",
       "      <td>65.099998</td>\n",
       "      <td>65.445000</td>\n",
       "      <td>63.447777</td>\n",
       "      <td>455825200</td>\n",
       "      <td>AAPL</td>\n",
       "    </tr>\n",
       "    <tr>\n",
       "      <th>2019-11-25</th>\n",
       "      <td>65.677498</td>\n",
       "      <td>67.000000</td>\n",
       "      <td>65.625000</td>\n",
       "      <td>66.812500</td>\n",
       "      <td>64.773552</td>\n",
       "      <td>301081200</td>\n",
       "      <td>AAPL</td>\n",
       "    </tr>\n",
       "    <tr>\n",
       "      <th>2019-12-02</th>\n",
       "      <td>66.817497</td>\n",
       "      <td>67.062500</td>\n",
       "      <td>64.072502</td>\n",
       "      <td>64.862503</td>\n",
       "      <td>62.883064</td>\n",
       "      <td>208917600</td>\n",
       "      <td>AAPL</td>\n",
       "    </tr>\n",
       "  </tbody>\n",
       "</table>\n",
       "<p>523 rows × 7 columns</p>\n",
       "</div>"
      ],
      "text/plain": [
       "                 open       high        low      close   adjclose      volume  \\\n",
       "2009-11-30   7.050714   7.138571   6.795714   6.904286   5.824092  1275604400   \n",
       "2009-12-07   6.904286   7.132143   6.738571   6.952500   5.864760  3009384000   \n",
       "2009-12-14   6.977500   7.053929   6.821429   6.979643   5.887658  2265844000   \n",
       "2009-12-21   7.001786   7.476786   6.988214   7.465714   6.297683  1807836800   \n",
       "2009-12-28   7.561429   7.641071   7.439643   7.526071   6.348596  1854266400   \n",
       "...               ...        ...        ...        ...        ...         ...   \n",
       "2019-11-04  64.332497  65.110001  63.842499  65.035004  62.861572   423960800   \n",
       "2019-11-11  64.574997  66.445000  64.570000  66.440002  64.412422   461333600   \n",
       "2019-11-18  66.449997  67.000000  65.099998  65.445000  63.447777   455825200   \n",
       "2019-11-25  65.677498  67.000000  65.625000  66.812500  64.773552   301081200   \n",
       "2019-12-02  66.817497  67.062500  64.072502  64.862503  62.883064   208917600   \n",
       "\n",
       "           ticker  \n",
       "2009-11-30   AAPL  \n",
       "2009-12-07   AAPL  \n",
       "2009-12-14   AAPL  \n",
       "2009-12-21   AAPL  \n",
       "2009-12-28   AAPL  \n",
       "...           ...  \n",
       "2019-11-04   AAPL  \n",
       "2019-11-11   AAPL  \n",
       "2019-11-18   AAPL  \n",
       "2019-11-25   AAPL  \n",
       "2019-12-02   AAPL  \n",
       "\n",
       "[523 rows x 7 columns]"
      ]
     },
     "execution_count": 7,
     "metadata": {},
     "output_type": "execute_result"
    }
   ],
   "source": [
    "nas_aapl= get_data(\"aapl\", start_date=\"12/04/2009\", end_date=\"12/04/2019\", index_as_date = True, interval=\"1wk\")\n",
    "nas_aapl"
   ]
  },
  {
   "cell_type": "markdown",
   "metadata": {},
   "source": [
    "2. Pre-processing"
   ]
  },
  {
   "cell_type": "markdown",
   "metadata": {},
   "source": [
    "3. Analysis and visualizations"
   ]
  }
 ],
 "metadata": {
  "kernelspec": {
   "display_name": "base",
   "language": "python",
   "name": "python3"
  },
  "language_info": {
   "codemirror_mode": {
    "name": "ipython",
    "version": 3
   },
   "file_extension": ".py",
   "mimetype": "text/x-python",
   "name": "python",
   "nbconvert_exporter": "python",
   "pygments_lexer": "ipython3",
   "version": "3.12.4"
  }
 },
 "nbformat": 4,
 "nbformat_minor": 2
}
