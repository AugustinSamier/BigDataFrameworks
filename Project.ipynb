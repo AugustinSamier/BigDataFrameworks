{
 "cells": [
  {
   "cell_type": "code",
   "execution_count": null,
   "metadata": {},
   "outputs": [],
   "source": [
    "import pandas as pd\n",
    "import yfinance as yf\n",
    "import yahoo_fin.stock_info as si\n",
    "from yahoo_fin.stock_info import get_data\n",
    "import plotly.graph_objects as go\n",
    "from ipywidgets import interact, widgets\n",
    "from datetime import timedelta,datetime\n",
    "from IPython.display import display\n",
    "from pyspark.sql import SparkSession,Row\n",
    "from pyspark.sql.functions import col,to_date,avg,stddev,mean,lit,count,when,corr,lag,udf,last,sum\n",
    "from pyspark.sql.window import Window\n",
    "from pyspark.sql.types import StructType,StructField,StringType,DoubleType,TimestampType,IntegerType"
   ]
  },
  {
   "cell_type": "code",
   "execution_count": null,
   "metadata": {},
   "outputs": [],
   "source": [
    "spark = SparkSession.builder.appName(\"BigData\").getOrCreate()"
   ]
  },
  {
   "cell_type": "markdown",
   "metadata": {},
   "source": [
    "1. Exploration"
   ]
  },
  {
   "cell_type": "markdown",
   "metadata": {},
   "source": [
    "We can take APPLE as a first example:"
   ]
  },
  {
   "cell_type": "code",
   "execution_count": null,
   "metadata": {},
   "outputs": [],
   "source": [
    "nas_aapl=get_data(\"aapl\",start_date=\"11/30/2019\",end_date=\"11/30/2024\",index_as_date =False,interval=\"1d\") #différents interval (1m to 3months)\n",
    "nas_aapl"
   ]
  },
  {
   "cell_type": "code",
   "execution_count": null,
   "metadata": {},
   "outputs": [],
   "source": [
    "print(nas_aapl.info())"
   ]
  },
  {
   "cell_type": "code",
   "execution_count": null,
   "metadata": {},
   "outputs": [],
   "source": [
    "print(nas_aapl[\"close\"].describe())"
   ]
  },
  {
   "cell_type": "markdown",
   "metadata": {},
   "source": [
    "2. Pre-processing"
   ]
  },
  {
   "cell_type": "markdown",
   "metadata": {},
   "source": [
    "First we can check how much different tickers there are in the NASDAQ stock market as we want to work on this specific market"
   ]
  },
  {
   "cell_type": "code",
   "execution_count": null,
   "metadata": {},
   "outputs": [],
   "source": [
    "nas_list=si.tickers_nasdaq()\n",
    "print(\"Tickers in Nasdaq:\",len(nas_list))\n",
    "print(nas_list[0:30])\n",
    "nasdaq_list=nas_list[0:30]"
   ]
  },
  {
   "cell_type": "markdown",
   "metadata": {},
   "source": [
    "We put the tickers we want in a dataframe so we can access it by the name of the ticker:"
   ]
  },
  {
   "cell_type": "code",
   "execution_count": null,
   "metadata": {},
   "outputs": [],
   "source": [
    "structDay=StructType([\n",
    "    StructField(\"date\",TimestampType(),True),\n",
    "    StructField(\"open\",DoubleType(),True),\n",
    "    StructField(\"high\",DoubleType(),True),\n",
    "    StructField(\"low\",DoubleType(),True),\n",
    "    StructField(\"close\",DoubleType(),True),\n",
    "    StructField(\"adjclose\",DoubleType(),True),\n",
    "    StructField(\"volume\",DoubleType(),True),\n",
    "    StructField(\"ticker\",StringType(),True)\n",
    "])\n",
    "\n",
    "structMin=StructType([\n",
    "    StructField(\"date\",TimestampType(),True),\n",
    "    StructField(\"open\",DoubleType(),True),\n",
    "    StructField(\"high\",DoubleType(),True),\n",
    "    StructField(\"low\",DoubleType(),True),\n",
    "    StructField(\"close\",DoubleType(),True),\n",
    "    StructField(\"volume\",DoubleType(),True),\n",
    "    StructField(\"ticker\",StringType(),True)\n",
    "])\n",
    "\n",
    "dfday=spark.createDataFrame([],structDay)\n",
    "dfmin=spark.createDataFrame([],structMin)\n",
    "dateToday=datetime.today().strftime(\"%Y-%m-%d\")\n",
    "date7days=(datetime.today()-timedelta(days=7)).strftime(\"%Y-%m-%d\")\n",
    "valid_nasdaq_list=[]\n",
    "\n",
    "for ticker in nasdaq_list:\n",
    "    try:\n",
    "        data_tickers_min=get_data(ticker,start_date=date7days,index_as_date=True,interval=\"1m\")\n",
    "        data_tickers_d= get_data(ticker,start_date=\"11/30/2014\",index_as_date=True,interval=\"1d\")\n",
    "        data_tickers_min[\"ticker\"] = data_tickers_min[\"ticker\"].astype(\"string\")\n",
    "        data_tickers_d[\"ticker\"] = data_tickers_d[\"ticker\"].astype(\"string\")\n",
    "        if((len(data_tickers_d))and(len(data_tickers_min))): #we put this treshold to remove tickers with small amount of data\n",
    "            data_tickers_min=spark.createDataFrame(data_tickers_min.reset_index())\n",
    "            data_tickers_d=spark.createDataFrame(data_tickers_d.reset_index())\n",
    "            dfmin=dfmin.union(data_tickers_min)\n",
    "            dfday=dfday.union(data_tickers_d)\n",
    "            valid_nasdaq_list.append(ticker)\n",
    "        else:\n",
    "            print(f\"{ticker} removed\")\n",
    "    except Exception as e:\n",
    "        print(f\"{ticker} is not available now : {e}\")\n",
    "def dataEng(data):\n",
    "    df=data\n",
    "    df=df.withColumn(\"date\", to_date(col(\"date\"))) #To put the right date type\n",
    "    df=df.withColumn(\"variation\",col(\"high\")-col(\"low\")) #Variation between the highest value of the day and the lowest\n",
    "    df=df.na.drop()\n",
    "    return df\n",
    "\n",
    "df_day=dataEng(dfday)\n",
    "df_min=dataEng(dfmin)\n",
    "\n",
    "windowReturn=Window.partitionBy(\"ticker\").orderBy(\"date\")\n",
    "window50=Window.partitionBy(\"ticker\").orderBy(\"date\").rowsBetween(-49,0)\n",
    "window200=Window.partitionBy(\"ticker\").orderBy(\"date\").rowsBetween(-199,0)\n",
    "df_day=df_day.withColumn(\"return\",(col(\"close\")-lag(\"close\",1).over(windowReturn))/lag(\"close\",1).over(windowReturn))\n",
    "df_day=df_day.withColumn(\"SMA50\",avg(col(\"close\")).over(window50)) #SMA (Simple Moving Average) for 50 days\n",
    "df_day=df_day.withColumn(\"SMA200\",avg(col(\"close\")).over(window200)) #for 200 days"
   ]
  },
  {
   "cell_type": "code",
   "execution_count": null,
   "metadata": {},
   "outputs": [],
   "source": [
    "df_day.show(5)"
   ]
  },
  {
   "cell_type": "markdown",
   "metadata": {},
   "source": [
    "We calculate the sharp return ratio and explain the meaning of it"
   ]
  },
  {
   "cell_type": "code",
   "execution_count": null,
   "metadata": {},
   "outputs": [],
   "source": [
    "risk_free=0.02/252 #2%/per year cause there are 252 days of open stock market per year\n",
    "sharpReturnData=[]\n",
    "\n",
    "for ticker in valid_nasdaq_list:\n",
    "    tick=yf.Ticker(ticker)\n",
    "    info=tick.info\n",
    "\n",
    "    peRatio=info.get(\"trailingPE\")\n",
    "    betaRatio=info.get(\"beta\")\n",
    "    revenueGrowth=info.get(\"revenueGrowth\")\n",
    "    dailyVolume=info.get(\"volume\")\n",
    "    averageVolume=info.get(\"averageVolume\")\n",
    "\n",
    "    dfreturn=df_day.filter(col(\"ticker\")==ticker)\n",
    "    returnR=dfreturn.agg(avg(\"return\")).collect()[0][0] #average of the return\n",
    "    vola=dfreturn.agg(stddev(\"return\")).collect()[0][0] #standard deviation = \"écart type\"\n",
    "\n",
    "    latestClose=dfreturn.select(last(\"close\",ignorenulls=True).alias(\"latestClose\")).collect()[0][\"latestClose\"]\n",
    "    sma50=dfreturn.select(last(\"SMA50\",ignorenulls=True).alias(\"latestSMA50\")).collect()[0][\"latestSMA50\"] if dfreturn.filter(col(\"SMA50\").isNotNull()).limit(1).count()==1 else None\n",
    "    #We check if there is at least a line with a non-NULL value and if so it takes the last value of it in the column\n",
    "    sma200=dfreturn.select(last(\"SMA200\",ignorenulls=True).alias(\"latestSMA200\")).collect()[0][\"latestSMA200\"] if dfreturn.filter(col(\"SMA200\").isNotNull()).limit(1).count()==1 else None\n",
    "\n",
    "    sharpReturn=((returnR-risk_free)/vola) if vola else None\n",
    "\n",
    "    sharpReturnData.append({\n",
    "        \"ticker\":ticker,\n",
    "        \"latestClose\":latestClose,\n",
    "        \"SMA50\":sma50,\n",
    "        \"SMA200\":sma200,\n",
    "        \"sharpReturn\":sharpReturn,\n",
    "        \"peRatio\":peRatio,\n",
    "        \"betaRatio\":betaRatio,\n",
    "        \"vola\":vola,\n",
    "        \"revenueGrowth\":revenueGrowth,\n",
    "        \"dailyVolume\":dailyVolume,\n",
    "        \"averageVolume\":averageVolume,\n",
    "    })\n",
    "\n",
    "sharpReturnDf=spark.createDataFrame(sharpReturnData)\n",
    "sharpReturnDf.show()"
   ]
  },
  {
   "cell_type": "code",
   "execution_count": null,
   "metadata": {},
   "outputs": [],
   "source": [
    "def sharpRatioLabel(ratio):\n",
    "    if ratio<0:\n",
    "        return \"Bad\"\n",
    "    if ((ratio>0)and(ratio<1)):\n",
    "        return \"Not so bad\"\n",
    "    if ((ratio>=1)and(ratio<2)):\n",
    "        return \"Good\"\n",
    "    if (ratio >=2):\n",
    "        return \"Amazing\"\n",
    "\n",
    "sharpRatioLabelF=udf(sharpRatioLabel,StringType())\n",
    "sharpReturnDf=sharpReturnDf.withColumn(\"sharpRatioMeaning\",sharpRatioLabelF(col(\"sharpReturn\")))\n",
    "\n",
    "sharpReturnDf = sharpReturnDf.withColumn(\"longTermScore\",(\n",
    "    when((col(\"peRatio\").isNotNull())&(col(\"peRatio\")<20),3).otherwise(0)+ #PE ratio is how much investor pays to get a $ of benefice\n",
    "    #PE ratio is 1.5 more important than the revenue growth and the beta ratio -> PE ratio <20 -> company under-evaluated\n",
    "    when((col(\"revenueGrowth\").isNotNull())&(col(\"revenueGrowth\")>0.1),2).otherwise(0)+\n",
    "    #ratio of revenue growth is how much % the revenues of the company grew -> 0.1=10% \n",
    "    when((col(\"betaRatio\").isNotNull())&(col(\"betaRatio\")<1),2).otherwise(0)+\n",
    "    #betaratio is the volability of comparated to the global market -> if < 1 then it's less volatible than the global market\n",
    "    when((col(\"averageVolume\").isNotNull())&(col(\"averageVolume\")>1000000),1).otherwise(0)+\n",
    "    #We count the average volume of transaction as a criteria for long term investments -> meaning it's pretty active\n",
    "    when((col(\"latestClose\").isNotNull())&(col(\"SMA50\").isNotNull())&(col(\"SMA200\").isNotNull())&(col(\"latestClose\")>col(\"SMA200\"))&(col(\"SMA50\")>col(\"SMA200\")),2).otherwise(0))\n",
    "    #checking if the actual price is higher than the moving average on 200 days, meaning it's actually going up, and checking if the\n",
    "    #moving average on 50 days is higher than the moving average on 200 days, meaning it tends to price up\n",
    ")\n",
    "\n",
    "sharpReturnDf = sharpReturnDf.withColumn(\"shortTermScore\",(\n",
    "    when((col(\"sharpReturn\").isNotNull())&(col(\"sharpReturn\")>1),3).otherwise(0)+\n",
    "    #return adjusted to the risk -> we use it to see if the return is worth the risk ->> if it's >1 then the return is worth the risk\n",
    "    when((col(\"betaRatio\").isNotNull())&(col(\"betaRatio\")>1),2).otherwise(0)+\n",
    "    #betaratio >1 so more volatible than the global market\n",
    "    when((col(\"vola\").isNotNull())&(col(\"vola\")>0.02),2).otherwise(0)+\n",
    "    #high volability -> more likely to be good a short term investment -> volability is the \"écart type\" of the return (indicates if it's stable)\n",
    "    when((col(\"dailyVolume\").isNotNull())&(col(\"dailyVolume\")>col(\"averageVolume\")),2).otherwise(0)+\n",
    "    #if there is an un-normal recent activity then it's more likely to be a good short term investment\n",
    "    when((col(\"latestClose\").isNotNull())&(col(\"SMA50\").isNotNull())&(col(\"latestClose\")>col(\"SMA50\")),1).otherwise(0))\n",
    "    #latest close value > MA 50 days -> recent price up and activity\n",
    ")\n",
    "\n",
    "sharpReturnDf=sharpReturnDf.orderBy(col(\"longTermScore\").desc(),col(\"sharpReturn\").desc())\n",
    "sharpReturnDf.show()"
   ]
  },
  {
   "cell_type": "code",
   "execution_count": null,
   "metadata": {},
   "outputs": [],
   "source": [
    "for ticker in valid_nasdaq_list:\n",
    "    count=df_min.filter(col(\"ticker\")==ticker).count()\n",
    "    print(f\"{ticker} : {count}\")"
   ]
  },
  {
   "cell_type": "code",
   "execution_count": null,
   "metadata": {},
   "outputs": [],
   "source": [
    "print(df_min.isna().sum())"
   ]
  },
  {
   "cell_type": "markdown",
   "metadata": {},
   "source": [
    "3. Analysis and visualizations"
   ]
  },
  {
   "cell_type": "markdown",
   "metadata": {},
   "source": [
    "Interface to help you chose a company in fonction of the desired term time:"
   ]
  },
  {
   "cell_type": "code",
   "execution_count": null,
   "metadata": {},
   "outputs": [],
   "source": [
    "def recommandations(termTime):\n",
    "    if termTime==\"Long Term\":\n",
    "        sortDF=sharpReturnDf.orderBy([\"longTermScore\",\"sharpReturn\"],ascending=[False,False])\n",
    "        title=\"Best companies to invest in for long-term investment:\"\n",
    "        print(f\"\\n{title}\\n\")\n",
    "        sortDF.select(\"ticker\",\"longTermScore\").show(truncate=False)\n",
    "    else:\n",
    "        sortDF=sharpReturnDf.orderBy([\"shortTermScore\",\"sharpReturn\"],ascending=[False,False])\n",
    "        title=\"Best companies to invest in for short-term investment:\"\n",
    "        print(f\"\\n{title}\\n\")\n",
    "        sortDF.select(\"ticker\",\"shortTermScore\").show(truncate=False)\n",
    "\n",
    "termTime=widgets.Dropdown(\n",
    "    options=[\"Long Term\",\"Short Term\"],\n",
    "    value=\"Long Term\",\n",
    "    description=\"Term Time: \"\n",
    ")\n",
    "\n",
    "button = widgets.Button(description=\"Display\")\n",
    "def click(button):\n",
    "    recommandations(termTime.value)\n",
    "button.on_click(click)\n",
    "display(termTime, button)"
   ]
  },
  {
   "cell_type": "markdown",
   "metadata": {},
   "source": [
    "Interface to show the variation in stock value of a company:"
   ]
  },
  {
   "cell_type": "code",
   "execution_count": null,
   "metadata": {},
   "outputs": [],
   "source": [
    "def filter_data_by_period(ticker,periode):\n",
    "    dateToday2=datetime.today()\n",
    "\n",
    "    if periode==\"1 Day\":\n",
    "        yesterday=dateToday2-timedelta(days=1)\n",
    "        start_date=yesterday.replace(hour=0,minute=0,second=0,microsecond=0)\n",
    "    elif periode==\"1 Week\":\n",
    "        start_date=dateToday2-timedelta(weeks=1)\n",
    "    elif periode==\"1 Month\":\n",
    "        start_date=dateToday2-timedelta(weeks=4)\n",
    "    elif periode==\"6 Months\":\n",
    "        start_date=dateToday2-timedelta(weeks=26)\n",
    "    elif periode==\"1 Year\":\n",
    "        start_date=dateToday2-timedelta(weeks=52)\n",
    "    elif periode==\"5 Years\":\n",
    "        start_date=dateToday2-timedelta(weeks=260)\n",
    "\n",
    "    if periode in [\"1 Day\",\"1 Week\"]:\n",
    "        filtered=df_min.filter((df_min[\"ticker\"]==ticker)&(df_min[\"date\"]>=start_date))\n",
    "    else:\n",
    "        filtered=df_day.filter((df_day[\"ticker\"]==ticker)&(df_day[\"date\"]>=start_date))\n",
    "    \n",
    "    filteredPandas=filtered.toPandas()\n",
    "    filteredPandas[\"date\"]=pd.to_datetime(filteredPandas[\"date\"],errors=\"coerce\")\n",
    "    filteredPandas=filteredPandas.sort_values(by=\"date\")\n",
    "    return filteredPandas\n",
    "\n",
    "def plot_ticker_with_period(ticker,periode):\n",
    "    sub=filter_data_by_period(ticker,periode)\n",
    "\n",
    "    if not sub.empty:\n",
    "        firstClose=sub[\"close\"].iloc[0]\n",
    "        lastClose=sub[\"close\"].iloc[-1]\n",
    "        var=((lastClose-firstClose)/firstClose)*100\n",
    "    else:\n",
    "        var=0\n",
    "\n",
    "    if var>0:\n",
    "        varClose=f\"+{var:.2f}%\"\n",
    "    else:\n",
    "        varClose=f\"{var:.2f}%\"\n",
    "\n",
    "    if(periode==\"1 Day\"):\n",
    "        sub.loc[sub[\"date\"].diff()>timedelta(hours=12),\"close\"]=None\n",
    "        sub[\"heure\"]=sub[\"date\"].dt.strftime(\"%d %H:%M\")\n",
    "        sub=sub.sort_values(by=\"date\")\n",
    "        x_label=sub[\"heure\"]\n",
    "    elif(periode==\"1 Week\"):\n",
    "        sub.loc[sub[\"date\"].diff()>timedelta(hours=12),\"close\"]=None\n",
    "        sub=sub.sort_values(by=\"date\")\n",
    "        sub[\"day\"]=sub[\"date\"].dt.strftime(\"%d %H:%M\")\n",
    "        x_label=sub[\"day\"]\n",
    "    else:\n",
    "        sub=sub.sort_values(by=\"date\")\n",
    "        x_label=sub[\"date\"]\n",
    "    \n",
    "    fig=go.Figure()\n",
    "    fig.add_trace(go.Scatter(\n",
    "        x=x_label,\n",
    "        y=sub[\"close\"],\n",
    "        mode=\"lines\",\n",
    "        name=f\"Close value ({ticker})\",\n",
    "        line=dict(color=\"blue\",width=2),\n",
    "        connectgaps=False\n",
    "    ))\n",
    "    if(periode==\"1 Day\"):\n",
    "        titlex=\"Hour\"\n",
    "        ntickss=24\n",
    "    elif((periode==\"1 Week\")):\n",
    "        titlex=\"Date\"\n",
    "        ntickss=7\n",
    "    else:\n",
    "        titlex=\"Date\"\n",
    "\n",
    "    if((periode==\"1 Day\")or(periode==\"1 Week\")):\n",
    "        xaxiss=dict(title=titlex,type=\"category\",nticks=ntickss,showgrid=True)\n",
    "    else:\n",
    "        xaxiss=dict(title=titlex,showgrid=True)\n",
    "\n",
    "    fig.update_layout(\n",
    "        title=f\"Close values for {ticker} ({periode}) , {varClose}\",\n",
    "        xaxis=xaxiss,\n",
    "        yaxis_title=\"Close value (in $)\",\n",
    "        template=\"plotly_white\"\n",
    "    )\n",
    "    \n",
    "    fig.show()\n",
    "\n",
    "tickers=valid_nasdaq_list\n",
    "periode=[\"1 Day\",\"1 Week\",\"1 Month\",\"6 Months\",\"1 Year\",\"5 Years\"]\n",
    "\n",
    "interact(\n",
    "    plot_ticker_with_period,\n",
    "    ticker=widgets.Dropdown(options=tickers,description=\"Select Ticker: \"),\n",
    "    periode=widgets.Dropdown(options=periode,description=\"Select Period: \")\n",
    ")"
   ]
  }
 ],
 "metadata": {
  "kernelspec": {
   "display_name": "base",
   "language": "python",
   "name": "python3"
  },
  "language_info": {
   "codemirror_mode": {
    "name": "ipython",
    "version": 3
   },
   "file_extension": ".py",
   "mimetype": "text/x-python",
   "name": "python",
   "nbconvert_exporter": "python",
   "pygments_lexer": "ipython3",
   "version": "3.12.4"
  }
 },
 "nbformat": 4,
 "nbformat_minor": 2
}
