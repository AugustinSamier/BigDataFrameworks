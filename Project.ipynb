{
 "cells": [
  {
   "cell_type": "code",
   "execution_count": 54,
   "metadata": {},
   "outputs": [],
   "source": [
    "import pandas as pd\n",
    "import yfinance as yf\n",
    "import yahoo_fin.stock_info as si\n",
    "from yahoo_fin.stock_info import get_data\n",
    "import matplotlib.pyplot as plt\n",
    "import seaborn as sns\n",
    "import plotly.graph_objects as go\n",
    "from ipywidgets import interact, widgets\n",
    "from datetime import timedelta,datetime"
   ]
  },
  {
   "cell_type": "markdown",
   "metadata": {},
   "source": [
    "1. Exploration"
   ]
  },
  {
   "cell_type": "markdown",
   "metadata": {},
   "source": [
    "We can take APPLE as a first example:"
   ]
  },
  {
   "cell_type": "code",
   "execution_count": 55,
   "metadata": {},
   "outputs": [
    {
     "data": {
      "text/html": [
       "<div>\n",
       "<style scoped>\n",
       "    .dataframe tbody tr th:only-of-type {\n",
       "        vertical-align: middle;\n",
       "    }\n",
       "\n",
       "    .dataframe tbody tr th {\n",
       "        vertical-align: top;\n",
       "    }\n",
       "\n",
       "    .dataframe thead th {\n",
       "        text-align: right;\n",
       "    }\n",
       "</style>\n",
       "<table border=\"1\" class=\"dataframe\">\n",
       "  <thead>\n",
       "    <tr style=\"text-align: right;\">\n",
       "      <th></th>\n",
       "      <th>date</th>\n",
       "      <th>open</th>\n",
       "      <th>high</th>\n",
       "      <th>low</th>\n",
       "      <th>close</th>\n",
       "      <th>adjclose</th>\n",
       "      <th>volume</th>\n",
       "      <th>ticker</th>\n",
       "    </tr>\n",
       "  </thead>\n",
       "  <tbody>\n",
       "    <tr>\n",
       "      <th>0</th>\n",
       "      <td>2019-12-02</td>\n",
       "      <td>66.817497</td>\n",
       "      <td>67.062500</td>\n",
       "      <td>65.862503</td>\n",
       "      <td>66.040001</td>\n",
       "      <td>64.024628</td>\n",
       "      <td>94487200</td>\n",
       "      <td>AAPL</td>\n",
       "    </tr>\n",
       "    <tr>\n",
       "      <th>1</th>\n",
       "      <td>2019-12-03</td>\n",
       "      <td>64.577499</td>\n",
       "      <td>64.882500</td>\n",
       "      <td>64.072502</td>\n",
       "      <td>64.862503</td>\n",
       "      <td>62.883076</td>\n",
       "      <td>114430400</td>\n",
       "      <td>AAPL</td>\n",
       "    </tr>\n",
       "    <tr>\n",
       "      <th>2</th>\n",
       "      <td>2019-12-04</td>\n",
       "      <td>65.267502</td>\n",
       "      <td>65.827499</td>\n",
       "      <td>65.169998</td>\n",
       "      <td>65.434998</td>\n",
       "      <td>63.438084</td>\n",
       "      <td>67181600</td>\n",
       "      <td>AAPL</td>\n",
       "    </tr>\n",
       "    <tr>\n",
       "      <th>3</th>\n",
       "      <td>2019-12-05</td>\n",
       "      <td>65.947502</td>\n",
       "      <td>66.472504</td>\n",
       "      <td>65.682503</td>\n",
       "      <td>66.394997</td>\n",
       "      <td>64.368782</td>\n",
       "      <td>74424400</td>\n",
       "      <td>AAPL</td>\n",
       "    </tr>\n",
       "    <tr>\n",
       "      <th>4</th>\n",
       "      <td>2019-12-06</td>\n",
       "      <td>66.870003</td>\n",
       "      <td>67.750000</td>\n",
       "      <td>66.824997</td>\n",
       "      <td>67.677498</td>\n",
       "      <td>65.612160</td>\n",
       "      <td>106075600</td>\n",
       "      <td>AAPL</td>\n",
       "    </tr>\n",
       "    <tr>\n",
       "      <th>...</th>\n",
       "      <td>...</td>\n",
       "      <td>...</td>\n",
       "      <td>...</td>\n",
       "      <td>...</td>\n",
       "      <td>...</td>\n",
       "      <td>...</td>\n",
       "      <td>...</td>\n",
       "      <td>...</td>\n",
       "    </tr>\n",
       "    <tr>\n",
       "      <th>1253</th>\n",
       "      <td>2024-11-22</td>\n",
       "      <td>228.059998</td>\n",
       "      <td>230.720001</td>\n",
       "      <td>228.059998</td>\n",
       "      <td>229.869995</td>\n",
       "      <td>229.869995</td>\n",
       "      <td>38168300</td>\n",
       "      <td>AAPL</td>\n",
       "    </tr>\n",
       "    <tr>\n",
       "      <th>1254</th>\n",
       "      <td>2024-11-25</td>\n",
       "      <td>231.460007</td>\n",
       "      <td>233.250000</td>\n",
       "      <td>229.740005</td>\n",
       "      <td>232.869995</td>\n",
       "      <td>232.869995</td>\n",
       "      <td>90152800</td>\n",
       "      <td>AAPL</td>\n",
       "    </tr>\n",
       "    <tr>\n",
       "      <th>1255</th>\n",
       "      <td>2024-11-26</td>\n",
       "      <td>233.330002</td>\n",
       "      <td>235.570007</td>\n",
       "      <td>233.330002</td>\n",
       "      <td>235.059998</td>\n",
       "      <td>235.059998</td>\n",
       "      <td>45986200</td>\n",
       "      <td>AAPL</td>\n",
       "    </tr>\n",
       "    <tr>\n",
       "      <th>1256</th>\n",
       "      <td>2024-11-27</td>\n",
       "      <td>234.470001</td>\n",
       "      <td>235.690002</td>\n",
       "      <td>233.809998</td>\n",
       "      <td>234.929993</td>\n",
       "      <td>234.929993</td>\n",
       "      <td>33498400</td>\n",
       "      <td>AAPL</td>\n",
       "    </tr>\n",
       "    <tr>\n",
       "      <th>1257</th>\n",
       "      <td>2024-11-29</td>\n",
       "      <td>234.809998</td>\n",
       "      <td>237.809998</td>\n",
       "      <td>233.970001</td>\n",
       "      <td>237.330002</td>\n",
       "      <td>237.330002</td>\n",
       "      <td>28481400</td>\n",
       "      <td>AAPL</td>\n",
       "    </tr>\n",
       "  </tbody>\n",
       "</table>\n",
       "<p>1258 rows × 8 columns</p>\n",
       "</div>"
      ],
      "text/plain": [
       "           date        open        high         low       close    adjclose  \\\n",
       "0    2019-12-02   66.817497   67.062500   65.862503   66.040001   64.024628   \n",
       "1    2019-12-03   64.577499   64.882500   64.072502   64.862503   62.883076   \n",
       "2    2019-12-04   65.267502   65.827499   65.169998   65.434998   63.438084   \n",
       "3    2019-12-05   65.947502   66.472504   65.682503   66.394997   64.368782   \n",
       "4    2019-12-06   66.870003   67.750000   66.824997   67.677498   65.612160   \n",
       "...         ...         ...         ...         ...         ...         ...   \n",
       "1253 2024-11-22  228.059998  230.720001  228.059998  229.869995  229.869995   \n",
       "1254 2024-11-25  231.460007  233.250000  229.740005  232.869995  232.869995   \n",
       "1255 2024-11-26  233.330002  235.570007  233.330002  235.059998  235.059998   \n",
       "1256 2024-11-27  234.470001  235.690002  233.809998  234.929993  234.929993   \n",
       "1257 2024-11-29  234.809998  237.809998  233.970001  237.330002  237.330002   \n",
       "\n",
       "         volume ticker  \n",
       "0      94487200   AAPL  \n",
       "1     114430400   AAPL  \n",
       "2      67181600   AAPL  \n",
       "3      74424400   AAPL  \n",
       "4     106075600   AAPL  \n",
       "...         ...    ...  \n",
       "1253   38168300   AAPL  \n",
       "1254   90152800   AAPL  \n",
       "1255   45986200   AAPL  \n",
       "1256   33498400   AAPL  \n",
       "1257   28481400   AAPL  \n",
       "\n",
       "[1258 rows x 8 columns]"
      ]
     },
     "execution_count": 55,
     "metadata": {},
     "output_type": "execute_result"
    }
   ],
   "source": [
    "nas_aapl= get_data(\"aapl\", start_date=\"11/30/2019\", end_date=\"11/30/2024\", index_as_date = False, interval=\"1d\") #différents interval (1m to 3months)\n",
    "nas_aapl"
   ]
  },
  {
   "cell_type": "code",
   "execution_count": 56,
   "metadata": {},
   "outputs": [
    {
     "name": "stdout",
     "output_type": "stream",
     "text": [
      "<class 'pandas.core.frame.DataFrame'>\n",
      "RangeIndex: 1258 entries, 0 to 1257\n",
      "Data columns (total 8 columns):\n",
      " #   Column    Non-Null Count  Dtype         \n",
      "---  ------    --------------  -----         \n",
      " 0   date      1258 non-null   datetime64[ns]\n",
      " 1   open      1258 non-null   float64       \n",
      " 2   high      1258 non-null   float64       \n",
      " 3   low       1258 non-null   float64       \n",
      " 4   close     1258 non-null   float64       \n",
      " 5   adjclose  1258 non-null   float64       \n",
      " 6   volume    1258 non-null   int64         \n",
      " 7   ticker    1258 non-null   object        \n",
      "dtypes: datetime64[ns](1), float64(5), int64(1), object(1)\n",
      "memory usage: 78.8+ KB\n",
      "None\n"
     ]
    }
   ],
   "source": [
    "print(nas_aapl.info())"
   ]
  },
  {
   "cell_type": "markdown",
   "metadata": {},
   "source": [
    "2. Pre-processing"
   ]
  },
  {
   "cell_type": "markdown",
   "metadata": {},
   "source": [
    "First we can check how much different tickers there are in the NASDAQ stock market as we want to work on this specific market"
   ]
  },
  {
   "cell_type": "code",
   "execution_count": 57,
   "metadata": {},
   "outputs": [
    {
     "name": "stdout",
     "output_type": "stream",
     "text": [
      "Tickers in Nasdaq: 4811\n",
      "['AACG', 'AADI', 'AADR', 'AAL', 'AAME', 'AAOI', 'AAON', 'AAPB', 'AAPD', 'AAPL', 'AAPU', 'AAXJ', 'ABAT', 'ABCL', 'ABCS']\n"
     ]
    }
   ],
   "source": [
    "nas_list=si.tickers_nasdaq()\n",
    "print(\"Tickers in Nasdaq:\", len(nas_list))\n",
    "print(nas_list[0:15])\n",
    "nasdaq_list=nas_list[0:15]"
   ]
  },
  {
   "cell_type": "markdown",
   "metadata": {},
   "source": [
    "We put the tickers we want in a dataframe so we can access it by the name of the ticker:"
   ]
  },
  {
   "cell_type": "code",
   "execution_count": 120,
   "metadata": {},
   "outputs": [],
   "source": [
    "dfday=pd.DataFrame()\n",
    "dfmin=pd.DataFrame()\n",
    "dateToday=datetime.today().strftime(\"%Y-%m-%d\")\n",
    "date7days=(datetime.today()-timedelta(days=7)).strftime(\"%Y-%m-%d\")\n",
    "for ticker in nasdaq_list:\n",
    "    data_tickers_d= get_data(ticker, start_date=\"11/30/2014\", index_as_date = True, interval=\"1d\")\n",
    "    dfday=pd.concat([dfday,data_tickers_d])\n",
    "    data_tickers_min=get_data(ticker, start_date=date7days, index_as_date = True, interval=\"1m\")\n",
    "    dfmin=pd.concat([dfmin,data_tickers_min])\n",
    "\n",
    "def dataEng(data):\n",
    "    df=data\n",
    "    df.reset_index(inplace=True)\n",
    "    df.rename(columns={\"index\": \"date\"}, inplace=True)\n",
    "    df[\"date\"]=pd.to_datetime(df[\"date\"]) #To put the right date type\n",
    "    df[\"ticker\"]=df[\"ticker\"].astype(\"string\") #Was an object type and we put it as a String type\n",
    "    df[\"variation\"]=df[\"high\"]-df[\"low\"] #Variation between the highest value of the day and the lowest\n",
    "    #df[\"daily_return\"]=df.groupby(\"ticker\")[\"close\"].pct_change()*100\n",
    "    df=df.dropna()\n",
    "    return df\n",
    "\n",
    "df_day=dataEng(dfday)\n",
    "df_min=dataEng(dfmin)\n",
    "\n",
    "df_day[\"return\"]=df_day[\"adjclose\"].pct_change()"
   ]
  },
  {
   "cell_type": "code",
   "execution_count": 130,
   "metadata": {},
   "outputs": [
    {
     "name": "stdout",
     "output_type": "stream",
     "text": [
      "AACG : 0.02503680340082499\n",
      "AADI : 0.023923819324399482\n",
      "AADR : 0.021033329513117226\n",
      "AAL : -0.0030631191520009418\n",
      "AAME : 0.004424933511398399\n",
      "AAOI : 0.032332770117892144\n",
      "AAON : 0.031892019493610355\n",
      "AAPB : -0.00672966718070986\n",
      "AAPD : -0.05655129847651295\n",
      "AAPL : 0.05593845036248192\n",
      "AAPU : -0.005650667463081635\n",
      "AAXJ : 0.018820111710295517\n",
      "ABAT : 0.028799365555500944\n",
      "ABCL : 0.02993012044076507\n",
      "ABCS : 0.06411405397306646\n"
     ]
    }
   ],
   "source": [
    "sharpReturnDict={}\n",
    "risk_free=0.02/252\n",
    "for ticker in nasdaq_list:\n",
    "    dfreturn=pd.DataFrame()\n",
    "    dfreturn=df_day[df_day[\"ticker\"]==ticker]\n",
    "    returnR=dfreturn[\"return\"].mean() #We do a dictionary of return mean\n",
    "    vola=dfreturn[\"return\"].std()\n",
    "    sharpReturnDict[ticker]=(returnR-risk_free)/vola\n",
    "    print(f\"{ticker} : {sharpReturnDict[ticker]}\")"
   ]
  },
  {
   "cell_type": "markdown",
   "metadata": {},
   "source": [
    "Example of how to access the data about a ticker:"
   ]
  },
  {
   "cell_type": "code",
   "execution_count": 59,
   "metadata": {},
   "outputs": [
    {
     "data": {
      "text/html": [
       "<div>\n",
       "<style scoped>\n",
       "    .dataframe tbody tr th:only-of-type {\n",
       "        vertical-align: middle;\n",
       "    }\n",
       "\n",
       "    .dataframe tbody tr th {\n",
       "        vertical-align: top;\n",
       "    }\n",
       "\n",
       "    .dataframe thead th {\n",
       "        text-align: right;\n",
       "    }\n",
       "</style>\n",
       "<table border=\"1\" class=\"dataframe\">\n",
       "  <thead>\n",
       "    <tr style=\"text-align: right;\">\n",
       "      <th></th>\n",
       "      <th>date</th>\n",
       "      <th>open</th>\n",
       "      <th>high</th>\n",
       "      <th>low</th>\n",
       "      <th>close</th>\n",
       "      <th>volume</th>\n",
       "      <th>ticker</th>\n",
       "      <th>variation</th>\n",
       "      <th>daily_return</th>\n",
       "    </tr>\n",
       "  </thead>\n",
       "  <tbody>\n",
       "    <tr>\n",
       "      <th>9</th>\n",
       "      <td>2024-12-13 15:02:00</td>\n",
       "      <td>0.8702</td>\n",
       "      <td>0.8702</td>\n",
       "      <td>0.8702</td>\n",
       "      <td>0.8702</td>\n",
       "      <td>261.0</td>\n",
       "      <td>AACG</td>\n",
       "      <td>0.0000</td>\n",
       "      <td>0.000000</td>\n",
       "    </tr>\n",
       "    <tr>\n",
       "      <th>15</th>\n",
       "      <td>2024-12-13 15:08:00</td>\n",
       "      <td>0.8941</td>\n",
       "      <td>0.8941</td>\n",
       "      <td>0.8941</td>\n",
       "      <td>0.8941</td>\n",
       "      <td>1248.0</td>\n",
       "      <td>AACG</td>\n",
       "      <td>0.0000</td>\n",
       "      <td>2.746499</td>\n",
       "    </tr>\n",
       "    <tr>\n",
       "      <th>47</th>\n",
       "      <td>2024-12-13 15:40:00</td>\n",
       "      <td>0.8743</td>\n",
       "      <td>0.8892</td>\n",
       "      <td>0.8743</td>\n",
       "      <td>0.8892</td>\n",
       "      <td>670.0</td>\n",
       "      <td>AACG</td>\n",
       "      <td>0.0149</td>\n",
       "      <td>-0.548041</td>\n",
       "    </tr>\n",
       "    <tr>\n",
       "      <th>66</th>\n",
       "      <td>2024-12-13 15:59:00</td>\n",
       "      <td>0.8901</td>\n",
       "      <td>0.8901</td>\n",
       "      <td>0.8901</td>\n",
       "      <td>0.8901</td>\n",
       "      <td>295.0</td>\n",
       "      <td>AACG</td>\n",
       "      <td>0.0000</td>\n",
       "      <td>0.101218</td>\n",
       "    </tr>\n",
       "    <tr>\n",
       "      <th>109</th>\n",
       "      <td>2024-12-13 16:42:00</td>\n",
       "      <td>0.8899</td>\n",
       "      <td>0.8899</td>\n",
       "      <td>0.8899</td>\n",
       "      <td>0.8899</td>\n",
       "      <td>1226.0</td>\n",
       "      <td>AACG</td>\n",
       "      <td>0.0000</td>\n",
       "      <td>-0.022466</td>\n",
       "    </tr>\n",
       "  </tbody>\n",
       "</table>\n",
       "</div>"
      ],
      "text/plain": [
       "                   date    open    high     low   close  volume ticker  \\\n",
       "9   2024-12-13 15:02:00  0.8702  0.8702  0.8702  0.8702   261.0   AACG   \n",
       "15  2024-12-13 15:08:00  0.8941  0.8941  0.8941  0.8941  1248.0   AACG   \n",
       "47  2024-12-13 15:40:00  0.8743  0.8892  0.8743  0.8892   670.0   AACG   \n",
       "66  2024-12-13 15:59:00  0.8901  0.8901  0.8901  0.8901   295.0   AACG   \n",
       "109 2024-12-13 16:42:00  0.8899  0.8899  0.8899  0.8899  1226.0   AACG   \n",
       "\n",
       "     variation  daily_return  \n",
       "9       0.0000      0.000000  \n",
       "15      0.0000      2.746499  \n",
       "47      0.0149     -0.548041  \n",
       "66      0.0000      0.101218  \n",
       "109     0.0000     -0.022466  "
      ]
     },
     "execution_count": 59,
     "metadata": {},
     "output_type": "execute_result"
    }
   ],
   "source": [
    "df_min.head()"
   ]
  },
  {
   "cell_type": "code",
   "execution_count": 122,
   "metadata": {},
   "outputs": [
    {
     "name": "stdout",
     "output_type": "stream",
     "text": [
      "date         0\n",
      "open         0\n",
      "high         0\n",
      "low          0\n",
      "close        0\n",
      "adjclose     0\n",
      "volume       0\n",
      "ticker       0\n",
      "variation    0\n",
      "return       1\n",
      "dtype: int64\n"
     ]
    }
   ],
   "source": [
    "print(df_day.isna().sum())"
   ]
  },
  {
   "cell_type": "markdown",
   "metadata": {},
   "source": [
    "3. Analysis and visualizations"
   ]
  },
  {
   "cell_type": "code",
   "execution_count": 115,
   "metadata": {},
   "outputs": [
    {
     "data": {
      "application/vnd.jupyter.widget-view+json": {
       "model_id": "aa1f1f85fab34aa89dce594d2e66fd94",
       "version_major": 2,
       "version_minor": 0
      },
      "text/plain": [
       "interactive(children=(Dropdown(description='Select Ticker: ', options=('AACG', 'AADI', 'AADR', 'AAL', 'AAME', …"
      ]
     },
     "metadata": {},
     "output_type": "display_data"
    },
    {
     "data": {
      "application/vnd.plotly.v1+json": {
       "config": {
        "plotlyServerURL": "https://plot.ly"
       },
       "data": [
        {
         "connectgaps": false,
         "line": {
          "color": "blue",
          "width": 2
         },
         "mode": "lines",
         "name": "Close value (AACG)",
         "type": "scatter",
         "x": [
          "13 19:18",
          "13 20:59",
          "16 14:30",
          "16 14:31",
          "16 15:01",
          "16 15:15",
          "16 15:40",
          "16 16:20",
          "16 17:13",
          "16 17:37",
          "16 17:39",
          "16 17:47",
          "16 18:01",
          "16 18:02",
          "16 18:27",
          "16 18:32",
          "16 18:53",
          "16 19:38",
          "16 19:40",
          "16 20:53",
          "17 14:30",
          "17 14:36",
          "17 14:37",
          "17 14:50",
          "17 15:01",
          "17 15:26",
          "17 16:12",
          "17 17:45",
          "17 17:49",
          "17 18:23",
          "17 18:33",
          "17 18:58",
          "17 20:20",
          "17 20:48",
          "17 20:57",
          "17 20:59",
          "18 14:30",
          "18 14:57",
          "18 15:02",
          "18 15:10",
          "18 16:07",
          "18 16:17",
          "18 17:19",
          "18 18:53",
          "18 18:55",
          "18 19:17",
          "18 20:12",
          "18 20:19",
          "18 20:56",
          "19 14:30",
          "19 14:42",
          "19 14:44",
          "19 15:34",
          "19 15:37",
          "19 16:37",
          "19 16:39",
          "19 17:04",
          "19 17:11",
          "19 17:12",
          "19 17:14",
          "19 17:17",
          "19 17:18",
          "19 17:20",
          "19 17:21",
          "19 17:23",
          "19 17:26",
          "19 17:31",
          "19 17:51",
          "19 17:52",
          "19 17:54",
          "19 18:00",
          "19 18:02",
          "19 18:25",
          "19 18:32",
          "19 18:35",
          "19 18:39",
          "19 18:55",
          "19 18:56",
          "19 18:58",
          "19 19:00",
          "19 19:04",
          "19 19:16",
          "19 19:21",
          "19 19:30",
          "19 19:33",
          "19 19:37",
          "19 19:45",
          "19 19:48",
          "19 19:51",
          "19 19:54",
          "19 20:00",
          "19 20:04",
          "19 20:11",
          "19 20:18",
          "19 20:21",
          "19 20:34",
          "19 20:46",
          "19 20:47",
          "19 20:56",
          "19 20:58",
          "20 14:30",
          "20 14:31",
          "20 14:33",
          "20 14:34",
          "20 14:42",
          "20 14:43",
          "20 15:34",
          "20 16:01",
          "20 16:01"
         ],
         "y": [
          0.8799999952316284,
          0.8899999856948853,
          null,
          0.8999999761581421,
          0.8901000022888184,
          0.8899999856948853,
          0.8901000022888184,
          0.8992000222206116,
          0.894599974155426,
          0.8901000022888184,
          0.8899999856948853,
          0.8901000022888184,
          0.8901000022888184,
          0.8989999890327454,
          0.8991000056266785,
          0.8913999795913696,
          0.8906000256538391,
          0.8799999952316284,
          0.8801000118255615,
          0.8991000056266785,
          null,
          0.9126999974250793,
          0.9106000065803528,
          0.9100000262260437,
          0.9021000266075134,
          0.8812999725341797,
          0.8812000155448914,
          0.8799999952316284,
          0.873199999332428,
          0.8799999952316284,
          0.8799999952316284,
          0.8799999952316284,
          0.8600000143051147,
          0.8560000061988831,
          0.8600999712944031,
          0.8600000143051147,
          null,
          0.8299999833106995,
          0.8450000286102295,
          0.8199999928474426,
          0.8199999928474426,
          0.83160001039505,
          0.8022000193595886,
          0.8100000023841858,
          0.824999988079071,
          0.8399999737739563,
          0.8201000094413757,
          0.8201000094413757,
          0.8101000189781189,
          null,
          0.800000011920929,
          0.7760000228881836,
          0.7760000228881836,
          0.7020000219345093,
          0.7501000165939331,
          0.7998999953269958,
          0.800000011920929,
          0.800000011920929,
          0.800000011920929,
          0.7821999788284302,
          0.7623000144958496,
          0.800000011920929,
          0.8019000291824341,
          0.7742000222206116,
          0.800000011920929,
          0.800000011920929,
          0.800000011920929,
          0.7860999703407288,
          0.7861999869346619,
          0.7903000116348267,
          0.800000011920929,
          0.800000011920929,
          0.7702999711036682,
          0.7997999787330627,
          0.7803000211715698,
          0.7950000166893005,
          0.7997999787330627,
          0.7997999787330627,
          0.800000011920929,
          0.8019999861717224,
          0.8370000123977661,
          0.839900016784668,
          0.8349999785423279,
          0.8399999737739563,
          0.8230999708175659,
          0.8300999999046326,
          0.8299999833106995,
          0.8389999866485596,
          0.830299973487854,
          0.8100000023841858,
          0.8300999999046326,
          0.8398000001907349,
          0.839900016784668,
          0.8202999830245972,
          0.8299999833106995,
          0.8263999819755554,
          0.8289999961853027,
          0.8289999961853027,
          0.8289999961853027,
          0.8289999961853027,
          null,
          0.8349999785423279,
          0.8399999737739563,
          0.8101000189781189,
          0.8457000255584717,
          0.8598999977111816,
          0.8300999999046326,
          0.8399999737739563,
          0.8399999737739563
         ]
        }
       ],
       "layout": {
        "template": {
         "data": {
          "bar": [
           {
            "error_x": {
             "color": "#2a3f5f"
            },
            "error_y": {
             "color": "#2a3f5f"
            },
            "marker": {
             "line": {
              "color": "white",
              "width": 0.5
             },
             "pattern": {
              "fillmode": "overlay",
              "size": 10,
              "solidity": 0.2
             }
            },
            "type": "bar"
           }
          ],
          "barpolar": [
           {
            "marker": {
             "line": {
              "color": "white",
              "width": 0.5
             },
             "pattern": {
              "fillmode": "overlay",
              "size": 10,
              "solidity": 0.2
             }
            },
            "type": "barpolar"
           }
          ],
          "carpet": [
           {
            "aaxis": {
             "endlinecolor": "#2a3f5f",
             "gridcolor": "#C8D4E3",
             "linecolor": "#C8D4E3",
             "minorgridcolor": "#C8D4E3",
             "startlinecolor": "#2a3f5f"
            },
            "baxis": {
             "endlinecolor": "#2a3f5f",
             "gridcolor": "#C8D4E3",
             "linecolor": "#C8D4E3",
             "minorgridcolor": "#C8D4E3",
             "startlinecolor": "#2a3f5f"
            },
            "type": "carpet"
           }
          ],
          "choropleth": [
           {
            "colorbar": {
             "outlinewidth": 0,
             "ticks": ""
            },
            "type": "choropleth"
           }
          ],
          "contour": [
           {
            "colorbar": {
             "outlinewidth": 0,
             "ticks": ""
            },
            "colorscale": [
             [
              0,
              "#0d0887"
             ],
             [
              0.1111111111111111,
              "#46039f"
             ],
             [
              0.2222222222222222,
              "#7201a8"
             ],
             [
              0.3333333333333333,
              "#9c179e"
             ],
             [
              0.4444444444444444,
              "#bd3786"
             ],
             [
              0.5555555555555556,
              "#d8576b"
             ],
             [
              0.6666666666666666,
              "#ed7953"
             ],
             [
              0.7777777777777778,
              "#fb9f3a"
             ],
             [
              0.8888888888888888,
              "#fdca26"
             ],
             [
              1,
              "#f0f921"
             ]
            ],
            "type": "contour"
           }
          ],
          "contourcarpet": [
           {
            "colorbar": {
             "outlinewidth": 0,
             "ticks": ""
            },
            "type": "contourcarpet"
           }
          ],
          "heatmap": [
           {
            "colorbar": {
             "outlinewidth": 0,
             "ticks": ""
            },
            "colorscale": [
             [
              0,
              "#0d0887"
             ],
             [
              0.1111111111111111,
              "#46039f"
             ],
             [
              0.2222222222222222,
              "#7201a8"
             ],
             [
              0.3333333333333333,
              "#9c179e"
             ],
             [
              0.4444444444444444,
              "#bd3786"
             ],
             [
              0.5555555555555556,
              "#d8576b"
             ],
             [
              0.6666666666666666,
              "#ed7953"
             ],
             [
              0.7777777777777778,
              "#fb9f3a"
             ],
             [
              0.8888888888888888,
              "#fdca26"
             ],
             [
              1,
              "#f0f921"
             ]
            ],
            "type": "heatmap"
           }
          ],
          "heatmapgl": [
           {
            "colorbar": {
             "outlinewidth": 0,
             "ticks": ""
            },
            "colorscale": [
             [
              0,
              "#0d0887"
             ],
             [
              0.1111111111111111,
              "#46039f"
             ],
             [
              0.2222222222222222,
              "#7201a8"
             ],
             [
              0.3333333333333333,
              "#9c179e"
             ],
             [
              0.4444444444444444,
              "#bd3786"
             ],
             [
              0.5555555555555556,
              "#d8576b"
             ],
             [
              0.6666666666666666,
              "#ed7953"
             ],
             [
              0.7777777777777778,
              "#fb9f3a"
             ],
             [
              0.8888888888888888,
              "#fdca26"
             ],
             [
              1,
              "#f0f921"
             ]
            ],
            "type": "heatmapgl"
           }
          ],
          "histogram": [
           {
            "marker": {
             "pattern": {
              "fillmode": "overlay",
              "size": 10,
              "solidity": 0.2
             }
            },
            "type": "histogram"
           }
          ],
          "histogram2d": [
           {
            "colorbar": {
             "outlinewidth": 0,
             "ticks": ""
            },
            "colorscale": [
             [
              0,
              "#0d0887"
             ],
             [
              0.1111111111111111,
              "#46039f"
             ],
             [
              0.2222222222222222,
              "#7201a8"
             ],
             [
              0.3333333333333333,
              "#9c179e"
             ],
             [
              0.4444444444444444,
              "#bd3786"
             ],
             [
              0.5555555555555556,
              "#d8576b"
             ],
             [
              0.6666666666666666,
              "#ed7953"
             ],
             [
              0.7777777777777778,
              "#fb9f3a"
             ],
             [
              0.8888888888888888,
              "#fdca26"
             ],
             [
              1,
              "#f0f921"
             ]
            ],
            "type": "histogram2d"
           }
          ],
          "histogram2dcontour": [
           {
            "colorbar": {
             "outlinewidth": 0,
             "ticks": ""
            },
            "colorscale": [
             [
              0,
              "#0d0887"
             ],
             [
              0.1111111111111111,
              "#46039f"
             ],
             [
              0.2222222222222222,
              "#7201a8"
             ],
             [
              0.3333333333333333,
              "#9c179e"
             ],
             [
              0.4444444444444444,
              "#bd3786"
             ],
             [
              0.5555555555555556,
              "#d8576b"
             ],
             [
              0.6666666666666666,
              "#ed7953"
             ],
             [
              0.7777777777777778,
              "#fb9f3a"
             ],
             [
              0.8888888888888888,
              "#fdca26"
             ],
             [
              1,
              "#f0f921"
             ]
            ],
            "type": "histogram2dcontour"
           }
          ],
          "mesh3d": [
           {
            "colorbar": {
             "outlinewidth": 0,
             "ticks": ""
            },
            "type": "mesh3d"
           }
          ],
          "parcoords": [
           {
            "line": {
             "colorbar": {
              "outlinewidth": 0,
              "ticks": ""
             }
            },
            "type": "parcoords"
           }
          ],
          "pie": [
           {
            "automargin": true,
            "type": "pie"
           }
          ],
          "scatter": [
           {
            "fillpattern": {
             "fillmode": "overlay",
             "size": 10,
             "solidity": 0.2
            },
            "type": "scatter"
           }
          ],
          "scatter3d": [
           {
            "line": {
             "colorbar": {
              "outlinewidth": 0,
              "ticks": ""
             }
            },
            "marker": {
             "colorbar": {
              "outlinewidth": 0,
              "ticks": ""
             }
            },
            "type": "scatter3d"
           }
          ],
          "scattercarpet": [
           {
            "marker": {
             "colorbar": {
              "outlinewidth": 0,
              "ticks": ""
             }
            },
            "type": "scattercarpet"
           }
          ],
          "scattergeo": [
           {
            "marker": {
             "colorbar": {
              "outlinewidth": 0,
              "ticks": ""
             }
            },
            "type": "scattergeo"
           }
          ],
          "scattergl": [
           {
            "marker": {
             "colorbar": {
              "outlinewidth": 0,
              "ticks": ""
             }
            },
            "type": "scattergl"
           }
          ],
          "scattermapbox": [
           {
            "marker": {
             "colorbar": {
              "outlinewidth": 0,
              "ticks": ""
             }
            },
            "type": "scattermapbox"
           }
          ],
          "scatterpolar": [
           {
            "marker": {
             "colorbar": {
              "outlinewidth": 0,
              "ticks": ""
             }
            },
            "type": "scatterpolar"
           }
          ],
          "scatterpolargl": [
           {
            "marker": {
             "colorbar": {
              "outlinewidth": 0,
              "ticks": ""
             }
            },
            "type": "scatterpolargl"
           }
          ],
          "scatterternary": [
           {
            "marker": {
             "colorbar": {
              "outlinewidth": 0,
              "ticks": ""
             }
            },
            "type": "scatterternary"
           }
          ],
          "surface": [
           {
            "colorbar": {
             "outlinewidth": 0,
             "ticks": ""
            },
            "colorscale": [
             [
              0,
              "#0d0887"
             ],
             [
              0.1111111111111111,
              "#46039f"
             ],
             [
              0.2222222222222222,
              "#7201a8"
             ],
             [
              0.3333333333333333,
              "#9c179e"
             ],
             [
              0.4444444444444444,
              "#bd3786"
             ],
             [
              0.5555555555555556,
              "#d8576b"
             ],
             [
              0.6666666666666666,
              "#ed7953"
             ],
             [
              0.7777777777777778,
              "#fb9f3a"
             ],
             [
              0.8888888888888888,
              "#fdca26"
             ],
             [
              1,
              "#f0f921"
             ]
            ],
            "type": "surface"
           }
          ],
          "table": [
           {
            "cells": {
             "fill": {
              "color": "#EBF0F8"
             },
             "line": {
              "color": "white"
             }
            },
            "header": {
             "fill": {
              "color": "#C8D4E3"
             },
             "line": {
              "color": "white"
             }
            },
            "type": "table"
           }
          ]
         },
         "layout": {
          "annotationdefaults": {
           "arrowcolor": "#2a3f5f",
           "arrowhead": 0,
           "arrowwidth": 1
          },
          "autotypenumbers": "strict",
          "coloraxis": {
           "colorbar": {
            "outlinewidth": 0,
            "ticks": ""
           }
          },
          "colorscale": {
           "diverging": [
            [
             0,
             "#8e0152"
            ],
            [
             0.1,
             "#c51b7d"
            ],
            [
             0.2,
             "#de77ae"
            ],
            [
             0.3,
             "#f1b6da"
            ],
            [
             0.4,
             "#fde0ef"
            ],
            [
             0.5,
             "#f7f7f7"
            ],
            [
             0.6,
             "#e6f5d0"
            ],
            [
             0.7,
             "#b8e186"
            ],
            [
             0.8,
             "#7fbc41"
            ],
            [
             0.9,
             "#4d9221"
            ],
            [
             1,
             "#276419"
            ]
           ],
           "sequential": [
            [
             0,
             "#0d0887"
            ],
            [
             0.1111111111111111,
             "#46039f"
            ],
            [
             0.2222222222222222,
             "#7201a8"
            ],
            [
             0.3333333333333333,
             "#9c179e"
            ],
            [
             0.4444444444444444,
             "#bd3786"
            ],
            [
             0.5555555555555556,
             "#d8576b"
            ],
            [
             0.6666666666666666,
             "#ed7953"
            ],
            [
             0.7777777777777778,
             "#fb9f3a"
            ],
            [
             0.8888888888888888,
             "#fdca26"
            ],
            [
             1,
             "#f0f921"
            ]
           ],
           "sequentialminus": [
            [
             0,
             "#0d0887"
            ],
            [
             0.1111111111111111,
             "#46039f"
            ],
            [
             0.2222222222222222,
             "#7201a8"
            ],
            [
             0.3333333333333333,
             "#9c179e"
            ],
            [
             0.4444444444444444,
             "#bd3786"
            ],
            [
             0.5555555555555556,
             "#d8576b"
            ],
            [
             0.6666666666666666,
             "#ed7953"
            ],
            [
             0.7777777777777778,
             "#fb9f3a"
            ],
            [
             0.8888888888888888,
             "#fdca26"
            ],
            [
             1,
             "#f0f921"
            ]
           ]
          },
          "colorway": [
           "#636efa",
           "#EF553B",
           "#00cc96",
           "#ab63fa",
           "#FFA15A",
           "#19d3f3",
           "#FF6692",
           "#B6E880",
           "#FF97FF",
           "#FECB52"
          ],
          "font": {
           "color": "#2a3f5f"
          },
          "geo": {
           "bgcolor": "white",
           "lakecolor": "white",
           "landcolor": "white",
           "showlakes": true,
           "showland": true,
           "subunitcolor": "#C8D4E3"
          },
          "hoverlabel": {
           "align": "left"
          },
          "hovermode": "closest",
          "mapbox": {
           "style": "light"
          },
          "paper_bgcolor": "white",
          "plot_bgcolor": "white",
          "polar": {
           "angularaxis": {
            "gridcolor": "#EBF0F8",
            "linecolor": "#EBF0F8",
            "ticks": ""
           },
           "bgcolor": "white",
           "radialaxis": {
            "gridcolor": "#EBF0F8",
            "linecolor": "#EBF0F8",
            "ticks": ""
           }
          },
          "scene": {
           "xaxis": {
            "backgroundcolor": "white",
            "gridcolor": "#DFE8F3",
            "gridwidth": 2,
            "linecolor": "#EBF0F8",
            "showbackground": true,
            "ticks": "",
            "zerolinecolor": "#EBF0F8"
           },
           "yaxis": {
            "backgroundcolor": "white",
            "gridcolor": "#DFE8F3",
            "gridwidth": 2,
            "linecolor": "#EBF0F8",
            "showbackground": true,
            "ticks": "",
            "zerolinecolor": "#EBF0F8"
           },
           "zaxis": {
            "backgroundcolor": "white",
            "gridcolor": "#DFE8F3",
            "gridwidth": 2,
            "linecolor": "#EBF0F8",
            "showbackground": true,
            "ticks": "",
            "zerolinecolor": "#EBF0F8"
           }
          },
          "shapedefaults": {
           "line": {
            "color": "#2a3f5f"
           }
          },
          "ternary": {
           "aaxis": {
            "gridcolor": "#DFE8F3",
            "linecolor": "#A2B1C6",
            "ticks": ""
           },
           "baxis": {
            "gridcolor": "#DFE8F3",
            "linecolor": "#A2B1C6",
            "ticks": ""
           },
           "bgcolor": "white",
           "caxis": {
            "gridcolor": "#DFE8F3",
            "linecolor": "#A2B1C6",
            "ticks": ""
           }
          },
          "title": {
           "x": 0.05
          },
          "xaxis": {
           "automargin": true,
           "gridcolor": "#EBF0F8",
           "linecolor": "#EBF0F8",
           "ticks": "",
           "title": {
            "standoff": 15
           },
           "zerolinecolor": "#EBF0F8",
           "zerolinewidth": 2
          },
          "yaxis": {
           "automargin": true,
           "gridcolor": "#EBF0F8",
           "linecolor": "#EBF0F8",
           "ticks": "",
           "title": {
            "standoff": 15
           },
           "zerolinecolor": "#EBF0F8",
           "zerolinewidth": 2
          }
         }
        },
        "title": {
         "text": "Close values for AACG (1 Week)"
        },
        "xaxis": {
         "nticks": 7,
         "showgrid": true,
         "title": {
          "text": "Date"
         },
         "type": "category"
        },
        "yaxis": {
         "title": {
          "text": "Close value (in $)"
         }
        }
       }
      }
     },
     "metadata": {},
     "output_type": "display_data"
    },
    {
     "data": {
      "text/plain": [
       "<function __main__.plot_ticker_with_period(ticker, periode)>"
      ]
     },
     "execution_count": 115,
     "metadata": {},
     "output_type": "execute_result"
    }
   ],
   "source": [
    "def filter_data_by_period(ticker,periode):\n",
    "    dateToday=datetime.today()\n",
    "\n",
    "    if periode==\"1 Day\":\n",
    "        yesterday=dateToday-timedelta(days=1)\n",
    "        start_date=yesterday.replace(hour=0,minute=0,second=0,microsecond=0)\n",
    "    elif periode==\"1 Week\":\n",
    "        start_date=dateToday-timedelta(weeks=1)\n",
    "    elif periode==\"1 Month\":\n",
    "        start_date=dateToday-timedelta(weeks=4)\n",
    "    elif periode==\"6 Months\":\n",
    "        start_date=dateToday-timedelta(weeks=26)\n",
    "    elif periode==\"1 Year\":\n",
    "        start_date=dateToday-timedelta(weeks=52)\n",
    "    elif periode==\"5 Years\":\n",
    "        start_date=dateToday-timedelta(weeks=260)\n",
    "\n",
    "    if (periode==\"1 Day\") or (periode==\"1 Week\"):\n",
    "        filtered=df_min[(df_min[\"date\"]>=start_date)&(df_min[\"ticker\"]==ticker)]\n",
    "    else:\n",
    "        filtered=df_day[(df_day[\"date\"]>=start_date)&(df_day[\"ticker\"]==ticker)]\n",
    "    \n",
    "    filtered=filtered.sort_values(by=\"date\")\n",
    "    return filtered\n",
    "\n",
    "def plot_ticker_with_period(ticker,periode):\n",
    "    sub=filter_data_by_period(ticker,periode)\n",
    "    if(periode==\"1 Day\"):\n",
    "        sub.loc[sub[\"date\"].diff()>timedelta(hours=12),\"close\"]=None\n",
    "        sub[\"heure\"]=sub[\"date\"].dt.strftime(\"%d %H:%M\")\n",
    "        sub=sub.sort_values(by=\"date\")\n",
    "        x_label=sub[\"heure\"]\n",
    "    elif(periode==\"1 Week\"):\n",
    "        sub.loc[sub[\"date\"].diff()>timedelta(hours=12),\"close\"]=None\n",
    "        sub=sub.sort_values(by=\"date\")\n",
    "        sub[\"day\"]=sub[\"date\"].dt.strftime(\"%d %H:%M\")\n",
    "        x_label=sub[\"day\"]\n",
    "    else:\n",
    "        sub=sub.sort_values(by=\"date\")\n",
    "        x_label=sub[\"date\"]\n",
    "    \n",
    "    fig=go.Figure()\n",
    "    fig.add_trace(go.Scatter(\n",
    "        x=x_label,\n",
    "        y=sub[\"close\"],\n",
    "        mode=\"lines\",\n",
    "        name=f\"Close value ({ticker})\",\n",
    "        line=dict(color=\"blue\",width=2),\n",
    "        connectgaps=False\n",
    "    ))\n",
    "    if(periode==\"1 Day\"):\n",
    "        titlex=\"Hour\"\n",
    "        ntickss=24\n",
    "    elif((periode==\"1 Week\")):\n",
    "        titlex=\"Date\"\n",
    "        ntickss=7\n",
    "    else:\n",
    "        titlex=\"Date\"\n",
    "\n",
    "    if((periode==\"1 Day\")or(periode==\"1 Week\")):\n",
    "        xaxiss=dict(title=titlex,type=\"category\",nticks=ntickss,showgrid=True)\n",
    "    else:\n",
    "        xaxiss=dict(title=titlex,showgrid=True)\n",
    "\n",
    "    fig.update_layout(\n",
    "        title=f\"Close values for {ticker} ({periode})\",\n",
    "        xaxis=xaxiss,\n",
    "        yaxis_title=\"Close value (in $)\",\n",
    "        template=\"plotly_white\"\n",
    "    )\n",
    "    \n",
    "    fig.show()\n",
    "\n",
    "tickers=nasdaq_list\n",
    "periode=[\"1 Day\",\"1 Week\",\"1 Month\",\"6 Months\",\"1 Year\",\"5 Years\"]\n",
    "\n",
    "interact(\n",
    "    plot_ticker_with_period,\n",
    "    ticker=widgets.Dropdown(options=tickers,description=\"Select Ticker: \"),\n",
    "    periode=widgets.Dropdown(options=periode,description=\"Select Period: \")\n",
    ")"
   ]
  }
 ],
 "metadata": {
  "kernelspec": {
   "display_name": "base",
   "language": "python",
   "name": "python3"
  },
  "language_info": {
   "codemirror_mode": {
    "name": "ipython",
    "version": 3
   },
   "file_extension": ".py",
   "mimetype": "text/x-python",
   "name": "python",
   "nbconvert_exporter": "python",
   "pygments_lexer": "ipython3",
   "version": "3.12.4"
  }
 },
 "nbformat": 4,
 "nbformat_minor": 2
}
