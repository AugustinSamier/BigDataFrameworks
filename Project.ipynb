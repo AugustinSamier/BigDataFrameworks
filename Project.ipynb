{
 "cells": [
  {
   "cell_type": "code",
   "execution_count": 1,
   "metadata": {},
   "outputs": [
    {
     "name": "stdout",
     "output_type": "stream",
     "text": [
      "Warning - Certain functionality \n",
      "             requires requests_html, which is not installed.\n",
      "             \n",
      "             Install using: \n",
      "             pip install requests_html\n",
      "             \n",
      "             After installation, you may have to restart your Python session.\n"
     ]
    }
   ],
   "source": [
    "import pandas as pd\n",
    "import yfinance as yf\n",
    "import yahoo_fin.stock_info as si\n",
    "from yahoo_fin.stock_info import get_data\n",
    "import matplotlib.pyplot as plt\n",
    "import seaborn as sns\n",
    "import plotly.graph_objects as go\n",
    "from ipywidgets import interact, widgets\n",
    "from datetime import timedelta,datetime"
   ]
  },
  {
   "cell_type": "markdown",
   "metadata": {},
   "source": [
    "1. Exploration"
   ]
  },
  {
   "cell_type": "markdown",
   "metadata": {},
   "source": [
    "We can take APPLE as a first example:"
   ]
  },
  {
   "cell_type": "code",
   "execution_count": 2,
   "metadata": {},
   "outputs": [
    {
     "data": {
      "text/html": [
       "<div>\n",
       "<style scoped>\n",
       "    .dataframe tbody tr th:only-of-type {\n",
       "        vertical-align: middle;\n",
       "    }\n",
       "\n",
       "    .dataframe tbody tr th {\n",
       "        vertical-align: top;\n",
       "    }\n",
       "\n",
       "    .dataframe thead th {\n",
       "        text-align: right;\n",
       "    }\n",
       "</style>\n",
       "<table border=\"1\" class=\"dataframe\">\n",
       "  <thead>\n",
       "    <tr style=\"text-align: right;\">\n",
       "      <th></th>\n",
       "      <th>date</th>\n",
       "      <th>open</th>\n",
       "      <th>high</th>\n",
       "      <th>low</th>\n",
       "      <th>close</th>\n",
       "      <th>adjclose</th>\n",
       "      <th>volume</th>\n",
       "      <th>ticker</th>\n",
       "    </tr>\n",
       "  </thead>\n",
       "  <tbody>\n",
       "    <tr>\n",
       "      <th>0</th>\n",
       "      <td>2019-12-02</td>\n",
       "      <td>66.817497</td>\n",
       "      <td>67.062500</td>\n",
       "      <td>65.862503</td>\n",
       "      <td>66.040001</td>\n",
       "      <td>64.024643</td>\n",
       "      <td>94487200</td>\n",
       "      <td>AAPL</td>\n",
       "    </tr>\n",
       "    <tr>\n",
       "      <th>1</th>\n",
       "      <td>2019-12-03</td>\n",
       "      <td>64.577499</td>\n",
       "      <td>64.882500</td>\n",
       "      <td>64.072502</td>\n",
       "      <td>64.862503</td>\n",
       "      <td>62.883057</td>\n",
       "      <td>114430400</td>\n",
       "      <td>AAPL</td>\n",
       "    </tr>\n",
       "    <tr>\n",
       "      <th>2</th>\n",
       "      <td>2019-12-04</td>\n",
       "      <td>65.267502</td>\n",
       "      <td>65.827499</td>\n",
       "      <td>65.169998</td>\n",
       "      <td>65.434998</td>\n",
       "      <td>63.438091</td>\n",
       "      <td>67181600</td>\n",
       "      <td>AAPL</td>\n",
       "    </tr>\n",
       "    <tr>\n",
       "      <th>3</th>\n",
       "      <td>2019-12-05</td>\n",
       "      <td>65.947502</td>\n",
       "      <td>66.472504</td>\n",
       "      <td>65.682503</td>\n",
       "      <td>66.394997</td>\n",
       "      <td>64.368774</td>\n",
       "      <td>74424400</td>\n",
       "      <td>AAPL</td>\n",
       "    </tr>\n",
       "    <tr>\n",
       "      <th>4</th>\n",
       "      <td>2019-12-06</td>\n",
       "      <td>66.870003</td>\n",
       "      <td>67.750000</td>\n",
       "      <td>66.824997</td>\n",
       "      <td>67.677498</td>\n",
       "      <td>65.612152</td>\n",
       "      <td>106075600</td>\n",
       "      <td>AAPL</td>\n",
       "    </tr>\n",
       "    <tr>\n",
       "      <th>...</th>\n",
       "      <td>...</td>\n",
       "      <td>...</td>\n",
       "      <td>...</td>\n",
       "      <td>...</td>\n",
       "      <td>...</td>\n",
       "      <td>...</td>\n",
       "      <td>...</td>\n",
       "      <td>...</td>\n",
       "    </tr>\n",
       "    <tr>\n",
       "      <th>1253</th>\n",
       "      <td>2024-11-22</td>\n",
       "      <td>228.059998</td>\n",
       "      <td>230.720001</td>\n",
       "      <td>228.059998</td>\n",
       "      <td>229.869995</td>\n",
       "      <td>229.869995</td>\n",
       "      <td>38168300</td>\n",
       "      <td>AAPL</td>\n",
       "    </tr>\n",
       "    <tr>\n",
       "      <th>1254</th>\n",
       "      <td>2024-11-25</td>\n",
       "      <td>231.460007</td>\n",
       "      <td>233.250000</td>\n",
       "      <td>229.740005</td>\n",
       "      <td>232.869995</td>\n",
       "      <td>232.869995</td>\n",
       "      <td>90152800</td>\n",
       "      <td>AAPL</td>\n",
       "    </tr>\n",
       "    <tr>\n",
       "      <th>1255</th>\n",
       "      <td>2024-11-26</td>\n",
       "      <td>233.330002</td>\n",
       "      <td>235.570007</td>\n",
       "      <td>233.330002</td>\n",
       "      <td>235.059998</td>\n",
       "      <td>235.059998</td>\n",
       "      <td>45986200</td>\n",
       "      <td>AAPL</td>\n",
       "    </tr>\n",
       "    <tr>\n",
       "      <th>1256</th>\n",
       "      <td>2024-11-27</td>\n",
       "      <td>234.470001</td>\n",
       "      <td>235.690002</td>\n",
       "      <td>233.809998</td>\n",
       "      <td>234.929993</td>\n",
       "      <td>234.929993</td>\n",
       "      <td>33498400</td>\n",
       "      <td>AAPL</td>\n",
       "    </tr>\n",
       "    <tr>\n",
       "      <th>1257</th>\n",
       "      <td>2024-11-29</td>\n",
       "      <td>234.809998</td>\n",
       "      <td>237.809998</td>\n",
       "      <td>233.970001</td>\n",
       "      <td>237.330002</td>\n",
       "      <td>237.330002</td>\n",
       "      <td>28481400</td>\n",
       "      <td>AAPL</td>\n",
       "    </tr>\n",
       "  </tbody>\n",
       "</table>\n",
       "<p>1258 rows × 8 columns</p>\n",
       "</div>"
      ],
      "text/plain": [
       "           date        open        high         low       close    adjclose  \\\n",
       "0    2019-12-02   66.817497   67.062500   65.862503   66.040001   64.024643   \n",
       "1    2019-12-03   64.577499   64.882500   64.072502   64.862503   62.883057   \n",
       "2    2019-12-04   65.267502   65.827499   65.169998   65.434998   63.438091   \n",
       "3    2019-12-05   65.947502   66.472504   65.682503   66.394997   64.368774   \n",
       "4    2019-12-06   66.870003   67.750000   66.824997   67.677498   65.612152   \n",
       "...         ...         ...         ...         ...         ...         ...   \n",
       "1253 2024-11-22  228.059998  230.720001  228.059998  229.869995  229.869995   \n",
       "1254 2024-11-25  231.460007  233.250000  229.740005  232.869995  232.869995   \n",
       "1255 2024-11-26  233.330002  235.570007  233.330002  235.059998  235.059998   \n",
       "1256 2024-11-27  234.470001  235.690002  233.809998  234.929993  234.929993   \n",
       "1257 2024-11-29  234.809998  237.809998  233.970001  237.330002  237.330002   \n",
       "\n",
       "         volume ticker  \n",
       "0      94487200   AAPL  \n",
       "1     114430400   AAPL  \n",
       "2      67181600   AAPL  \n",
       "3      74424400   AAPL  \n",
       "4     106075600   AAPL  \n",
       "...         ...    ...  \n",
       "1253   38168300   AAPL  \n",
       "1254   90152800   AAPL  \n",
       "1255   45986200   AAPL  \n",
       "1256   33498400   AAPL  \n",
       "1257   28481400   AAPL  \n",
       "\n",
       "[1258 rows x 8 columns]"
      ]
     },
     "execution_count": 2,
     "metadata": {},
     "output_type": "execute_result"
    }
   ],
   "source": [
    "nas_aapl= get_data(\"aapl\", start_date=\"11/30/2019\", end_date=\"11/30/2024\", index_as_date = False, interval=\"1d\") #différents interval (1m to 3months)\n",
    "nas_aapl"
   ]
  },
  {
   "cell_type": "code",
   "execution_count": 3,
   "metadata": {},
   "outputs": [
    {
     "name": "stdout",
     "output_type": "stream",
     "text": [
      "<class 'pandas.core.frame.DataFrame'>\n",
      "RangeIndex: 1258 entries, 0 to 1257\n",
      "Data columns (total 8 columns):\n",
      " #   Column    Non-Null Count  Dtype         \n",
      "---  ------    --------------  -----         \n",
      " 0   date      1258 non-null   datetime64[ns]\n",
      " 1   open      1258 non-null   float64       \n",
      " 2   high      1258 non-null   float64       \n",
      " 3   low       1258 non-null   float64       \n",
      " 4   close     1258 non-null   float64       \n",
      " 5   adjclose  1258 non-null   float64       \n",
      " 6   volume    1258 non-null   int64         \n",
      " 7   ticker    1258 non-null   object        \n",
      "dtypes: datetime64[ns](1), float64(5), int64(1), object(1)\n",
      "memory usage: 78.8+ KB\n",
      "None\n"
     ]
    }
   ],
   "source": [
    "print(nas_aapl.info())"
   ]
  },
  {
   "cell_type": "markdown",
   "metadata": {},
   "source": [
    "2. Pre-processing"
   ]
  },
  {
   "cell_type": "markdown",
   "metadata": {},
   "source": [
    "First we can check how much different tickers there are in the NASDAQ stock market as we want to work on this specific market"
   ]
  },
  {
   "cell_type": "code",
   "execution_count": 51,
   "metadata": {},
   "outputs": [
    {
     "name": "stdout",
     "output_type": "stream",
     "text": [
      "Tickers in Nasdaq: 4811\n",
      "['AACG', 'AADI', 'AADR', 'AAL', 'AAME', 'AAOI', 'AAON', 'AAPB', 'AAPD', 'AAPL', 'AAPU', 'AAXJ', 'ABAT', 'ABCL', 'ABCS', 'ABEO', 'ABL', 'ABLLL', 'ABLLW', 'ABLV', 'ABLVW', 'ABNB', 'ABOS', 'ABP', 'ABPWW', 'ABSI', 'ABTS', 'ABUS', 'ABVC', 'ABVE']\n"
     ]
    }
   ],
   "source": [
    "nas_list=si.tickers_nasdaq()\n",
    "print(\"Tickers in Nasdaq:\", len(nas_list))\n",
    "print(nas_list[0:30])\n",
    "nasdaq_list=nas_list[0:30]"
   ]
  },
  {
   "cell_type": "markdown",
   "metadata": {},
   "source": [
    "We put the tickers we want in a dataframe so we can access it by the name of the ticker:"
   ]
  },
  {
   "cell_type": "code",
   "execution_count": 54,
   "metadata": {},
   "outputs": [
    {
     "name": "stdout",
     "output_type": "stream",
     "text": [
      "AADR removed\n",
      "AAME removed\n",
      "ABCS removed\n",
      "ABLLW removed\n",
      "ABLV removed\n",
      "ABLVW removed\n",
      "ABPWW removed\n"
     ]
    }
   ],
   "source": [
    "dfday=pd.DataFrame()\n",
    "dfmin=pd.DataFrame()\n",
    "dateToday=datetime.today().strftime(\"%Y-%m-%d\")\n",
    "date7days=(datetime.today()-timedelta(days=7)).strftime(\"%Y-%m-%d\")\n",
    "valid_nasdaq_list=[]\n",
    "for ticker in nasdaq_list:\n",
    "    data_tickers_min=get_data(ticker, start_date=date7days, index_as_date = True, interval=\"1m\")\n",
    "    data_tickers_d= get_data(ticker, start_date=\"11/30/2014\", index_as_date = True, interval=\"1d\")\n",
    "    if((data_tickers_min[\"close\"].count()>100)and(data_tickers_d[\"close\"].count()>100)): #we put this treshold to remove tickers with small amount of data\n",
    "        dfmin=pd.concat([dfmin,data_tickers_min])\n",
    "        dfday=pd.concat([dfday,data_tickers_d])\n",
    "        valid_nasdaq_list.append(ticker)\n",
    "    else:\n",
    "        print(f\"{ticker} removed\")\n",
    "\n",
    "def dataEng(data):\n",
    "    df=data\n",
    "    df.reset_index(inplace=True)\n",
    "    df.rename(columns={\"index\": \"date\"}, inplace=True)\n",
    "    df[\"date\"]=pd.to_datetime(df[\"date\"]) #To put the right date type\n",
    "    df[\"ticker\"]=df[\"ticker\"].astype(\"string\") #Was an object type and we put it as a String type\n",
    "    df[\"variation\"]=df[\"high\"]-df[\"low\"] #Variation between the highest value of the day and the lowest\n",
    "    #df[\"daily_return\"]=df.groupby(\"ticker\")[\"close\"].pct_change()*100\n",
    "    df=df.dropna()\n",
    "    return df\n",
    "\n",
    "df_day=dataEng(dfday)\n",
    "df_min=dataEng(dfmin)\n",
    "\n",
    "df_day[\"return\"]=df_day.groupby(\"ticker\")[\"close\"].pct_change()"
   ]
  },
  {
   "cell_type": "code",
   "execution_count": 55,
   "metadata": {},
   "outputs": [
    {
     "data": {
      "text/html": [
       "<div>\n",
       "<style scoped>\n",
       "    .dataframe tbody tr th:only-of-type {\n",
       "        vertical-align: middle;\n",
       "    }\n",
       "\n",
       "    .dataframe tbody tr th {\n",
       "        vertical-align: top;\n",
       "    }\n",
       "\n",
       "    .dataframe thead th {\n",
       "        text-align: right;\n",
       "    }\n",
       "</style>\n",
       "<table border=\"1\" class=\"dataframe\">\n",
       "  <thead>\n",
       "    <tr style=\"text-align: right;\">\n",
       "      <th></th>\n",
       "      <th>ticker</th>\n",
       "      <th>sharpReturn</th>\n",
       "      <th>sharpRatioMeaning</th>\n",
       "    </tr>\n",
       "  </thead>\n",
       "  <tbody>\n",
       "    <tr>\n",
       "      <th>7</th>\n",
       "      <td>AAPL</td>\n",
       "      <td>0.052604</td>\n",
       "      <td>Not so bad</td>\n",
       "    </tr>\n",
       "    <tr>\n",
       "      <th>4</th>\n",
       "      <td>AAON</td>\n",
       "      <td>0.047165</td>\n",
       "      <td>Not so bad</td>\n",
       "    </tr>\n",
       "    <tr>\n",
       "      <th>8</th>\n",
       "      <td>AAPU</td>\n",
       "      <td>0.039045</td>\n",
       "      <td>Not so bad</td>\n",
       "    </tr>\n",
       "    <tr>\n",
       "      <th>3</th>\n",
       "      <td>AAOI</td>\n",
       "      <td>0.034345</td>\n",
       "      <td>Not so bad</td>\n",
       "    </tr>\n",
       "    <tr>\n",
       "      <th>10</th>\n",
       "      <td>ABAT</td>\n",
       "      <td>0.032833</td>\n",
       "      <td>Not so bad</td>\n",
       "    </tr>\n",
       "  </tbody>\n",
       "</table>\n",
       "</div>"
      ],
      "text/plain": [
       "   ticker  sharpReturn sharpRatioMeaning\n",
       "7    AAPL     0.052604        Not so bad\n",
       "4    AAON     0.047165        Not so bad\n",
       "8    AAPU     0.039045        Not so bad\n",
       "3    AAOI     0.034345        Not so bad\n",
       "10   ABAT     0.032833        Not so bad"
      ]
     },
     "execution_count": 55,
     "metadata": {},
     "output_type": "execute_result"
    }
   ],
   "source": [
    "sharpReturnDf=pd.DataFrame()\n",
    "sharpReturnDf[\"ticker\"]=valid_nasdaq_list\n",
    "risk_free=0.02/252 #2%/per year cause there are 252 days of open stock market per year\n",
    "for ticker in valid_nasdaq_list:\n",
    "    dfreturn=pd.DataFrame()\n",
    "    dfreturn=df_day[df_day[\"ticker\"]==ticker]\n",
    "    returnR=dfreturn[\"return\"].mean()\n",
    "    vola=dfreturn[\"return\"].std()\n",
    "    sharpReturnDf.loc[sharpReturnDf[\"ticker\"]==ticker,\"sharpReturn\"]=(returnR-risk_free)/vola #dataframe of sharpreturn ratio for each chart\n",
    "sharpReturnDf=sharpReturnDf.sort_values(by=\"sharpReturn\",ascending=False)\n",
    "\n",
    "def sharpRatioLabel(ratio):\n",
    "    if ratio<0:\n",
    "        return \"Bad\"\n",
    "    if ((ratio>0) & (ratio<1)):\n",
    "        return \"Not so bad\"\n",
    "    if ((ratio>=1) & (ratio<2)):\n",
    "        return \"Good\"\n",
    "    if (ratio >=2):\n",
    "        return \"Amazing\"\n",
    "\n",
    "sharpReturnDf[\"sharpRatioMeaning\"]=sharpReturnDf[\"sharpReturn\"].apply(sharpRatioLabel)\n",
    "sharpReturnDf.head()"
   ]
  },
  {
   "cell_type": "code",
   "execution_count": 50,
   "metadata": {},
   "outputs": [
    {
     "name": "stdout",
     "output_type": "stream",
     "text": [
      "AACG : 2532\n",
      "AADI : 1723\n",
      "AAL : 2532\n",
      "AAOI : 2532\n",
      "AAON : 2532\n",
      "AAPB : 596\n",
      "AAPD : 596\n",
      "AAPL : 2532\n",
      "AAPU : 597\n",
      "AAXJ : 2532\n",
      "ABAT : 2223\n",
      "ABCL : 1013\n",
      "ABEO : 2532\n",
      "ABL : 1076\n",
      "ABLLL : 271\n",
      "ABLLW : 1\n",
      "ABNB : 1014\n",
      "ABOS : 875\n",
      "ABP : 702\n",
      "ABSI : 861\n",
      "ABTS : 2532\n",
      "ABUS : 2532\n",
      "ABVC : 2532\n",
      "ABVE : 121\n"
     ]
    }
   ],
   "source": [
    "for ticker in valid_nasdaq_list:\n",
    "    counter=df_min[df_min[\"ticker\"]==ticker][\"ticker\"].count()\n",
    "    print(f\"{ticker} : {counter}\")"
   ]
  },
  {
   "cell_type": "markdown",
   "metadata": {},
   "source": [
    "Example of how to access the data about a ticker:"
   ]
  },
  {
   "cell_type": "code",
   "execution_count": null,
   "metadata": {},
   "outputs": [],
   "source": [
    "df_day.head()"
   ]
  },
  {
   "cell_type": "code",
   "execution_count": 122,
   "metadata": {},
   "outputs": [
    {
     "name": "stdout",
     "output_type": "stream",
     "text": [
      "date         0\n",
      "open         0\n",
      "high         0\n",
      "low          0\n",
      "close        0\n",
      "adjclose     0\n",
      "volume       0\n",
      "ticker       0\n",
      "variation    0\n",
      "return       1\n",
      "dtype: int64\n"
     ]
    }
   ],
   "source": [
    "print(df_day.isna().sum())"
   ]
  },
  {
   "cell_type": "markdown",
   "metadata": {},
   "source": [
    "3. Analysis and visualizations"
   ]
  },
  {
   "cell_type": "code",
   "execution_count": 9,
   "metadata": {},
   "outputs": [
    {
     "data": {
      "application/vnd.jupyter.widget-view+json": {
       "model_id": "c647272460ab412db7b6715da4837a67",
       "version_major": 2,
       "version_minor": 0
      },
      "text/plain": [
       "interactive(children=(Dropdown(description='Select Ticker: ', options=('AACG', 'AADI', 'AADR', 'AAL', 'AAME', …"
      ]
     },
     "metadata": {},
     "output_type": "display_data"
    },
    {
     "data": {
      "application/vnd.plotly.v1+json": {
       "config": {
        "plotlyServerURL": "https://plot.ly"
       },
       "data": [
        {
         "connectgaps": false,
         "line": {
          "color": "blue",
          "width": 2
         },
         "mode": "lines",
         "name": "Close value (ABCS)",
         "type": "scatter",
         "x": [
          "2024-06-24T00:00:00",
          "2024-06-25T00:00:00",
          "2024-06-26T00:00:00",
          "2024-06-27T00:00:00",
          "2024-06-28T00:00:00",
          "2024-07-01T00:00:00",
          "2024-07-02T00:00:00",
          "2024-07-03T00:00:00",
          "2024-07-05T00:00:00",
          "2024-07-08T00:00:00",
          "2024-07-09T00:00:00",
          "2024-07-10T00:00:00",
          "2024-07-11T00:00:00",
          "2024-07-12T00:00:00",
          "2024-07-15T00:00:00",
          "2024-07-16T00:00:00",
          "2024-07-17T00:00:00",
          "2024-07-18T00:00:00",
          "2024-07-19T00:00:00",
          "2024-07-22T00:00:00",
          "2024-07-23T00:00:00",
          "2024-07-24T00:00:00",
          "2024-07-25T00:00:00",
          "2024-07-26T00:00:00",
          "2024-07-29T00:00:00",
          "2024-07-30T00:00:00",
          "2024-07-31T00:00:00",
          "2024-08-01T00:00:00",
          "2024-08-02T00:00:00",
          "2024-08-05T00:00:00",
          "2024-08-06T00:00:00",
          "2024-08-07T00:00:00",
          "2024-08-08T00:00:00",
          "2024-08-09T00:00:00",
          "2024-08-12T00:00:00",
          "2024-08-13T00:00:00",
          "2024-08-14T00:00:00",
          "2024-08-15T00:00:00",
          "2024-08-16T00:00:00",
          "2024-08-19T00:00:00",
          "2024-08-20T00:00:00",
          "2024-08-21T00:00:00",
          "2024-08-22T00:00:00",
          "2024-08-23T00:00:00",
          "2024-08-26T00:00:00",
          "2024-08-27T00:00:00",
          "2024-08-28T00:00:00",
          "2024-08-29T00:00:00",
          "2024-08-30T00:00:00",
          "2024-09-03T00:00:00",
          "2024-09-04T00:00:00",
          "2024-09-05T00:00:00",
          "2024-09-06T00:00:00",
          "2024-09-09T00:00:00",
          "2024-09-10T00:00:00",
          "2024-09-11T00:00:00",
          "2024-09-12T00:00:00",
          "2024-09-13T00:00:00",
          "2024-09-16T00:00:00",
          "2024-09-17T00:00:00",
          "2024-09-18T00:00:00",
          "2024-09-19T00:00:00",
          "2024-09-20T00:00:00",
          "2024-09-23T00:00:00",
          "2024-09-24T00:00:00",
          "2024-09-25T00:00:00",
          "2024-09-26T00:00:00",
          "2024-09-27T00:00:00",
          "2024-09-30T00:00:00",
          "2024-10-01T00:00:00",
          "2024-10-02T00:00:00",
          "2024-10-03T00:00:00",
          "2024-10-04T00:00:00",
          "2024-10-07T00:00:00",
          "2024-10-08T00:00:00",
          "2024-10-09T00:00:00",
          "2024-10-10T00:00:00",
          "2024-10-11T00:00:00",
          "2024-10-14T00:00:00",
          "2024-10-15T00:00:00",
          "2024-10-16T00:00:00",
          "2024-10-17T00:00:00",
          "2024-10-18T00:00:00",
          "2024-10-21T00:00:00",
          "2024-10-22T00:00:00",
          "2024-10-23T00:00:00",
          "2024-10-24T00:00:00",
          "2024-10-25T00:00:00",
          "2024-10-28T00:00:00",
          "2024-10-29T00:00:00",
          "2024-10-30T00:00:00",
          "2024-10-31T00:00:00",
          "2024-11-01T00:00:00",
          "2024-11-04T00:00:00",
          "2024-11-05T00:00:00",
          "2024-11-06T00:00:00",
          "2024-11-07T00:00:00",
          "2024-11-08T00:00:00",
          "2024-11-11T00:00:00",
          "2024-11-12T00:00:00",
          "2024-11-13T00:00:00",
          "2024-11-14T00:00:00",
          "2024-11-15T00:00:00",
          "2024-11-18T00:00:00",
          "2024-11-19T00:00:00",
          "2024-11-20T00:00:00",
          "2024-11-21T00:00:00",
          "2024-11-22T00:00:00",
          "2024-11-25T00:00:00",
          "2024-11-26T00:00:00",
          "2024-11-27T00:00:00",
          "2024-11-29T00:00:00",
          "2024-12-02T00:00:00",
          "2024-12-03T00:00:00",
          "2024-12-04T00:00:00",
          "2024-12-05T00:00:00",
          "2024-12-06T00:00:00",
          "2024-12-09T00:00:00",
          "2024-12-10T00:00:00",
          "2024-12-11T00:00:00",
          "2024-12-12T00:00:00",
          "2024-12-13T00:00:00",
          "2024-12-16T00:00:00",
          "2024-12-17T00:00:00",
          "2024-12-18T00:00:00",
          "2024-12-19T00:00:00",
          "2024-12-20T00:00:00"
         ],
         "y": [
          26.229999542236328,
          26.042999267578125,
          25.940000534057617,
          25.858999252319336,
          25.990999221801758,
          25.781999588012695,
          25.89299964904785,
          25.913000106811523,
          25.73900032043457,
          25.75,
          25.715999603271484,
          25.959999084472656,
          26.450000762939453,
          26.73200035095215,
          26.908000946044922,
          27.555999755859375,
          27.39900016784668,
          27.091999053955078,
          26.88599967956543,
          27.160999298095703,
          27.12299919128418,
          26.788000106811523,
          27.0310001373291,
          27.416000366210938,
          27.43199920654297,
          27.650999069213867,
          27.738000869750977,
          27.31999969482422,
          26.56399917602539,
          25.899999618530273,
          26.200000762939453,
          25.989999771118164,
          26.506999969482422,
          26.5310001373291,
          26.305999755859375,
          26.652999877929688,
          26.716999053955078,
          27.141000747680664,
          27.250999450683594,
          27.43600082397461,
          27.246000289916992,
          27.48699951171875,
          27.357999801635742,
          27.92300033569336,
          27.886999130249023,
          27.854000091552734,
          27.768999099731445,
          27.87700080871582,
          28.08300018310547,
          26.315000534057617,
          27.530000686645508,
          27.360000610351562,
          26.952999114990234,
          27.09000015258789,
          26.972999572753906,
          27.01799964904785,
          27.211000442504883,
          27.64699935913086,
          27.854999542236328,
          27.940000534057617,
          28.0049991607666,
          28.395999908447266,
          28.219999313354492,
          28.34000015258789,
          28.27899932861328,
          27.989999771118164,
          28.322999954223633,
          28.3799991607666,
          28.378999710083008,
          28.125,
          28.034000396728516,
          27.8700008392334,
          28.260000228881836,
          27.969999313354492,
          28.006999969482422,
          28.2189998626709,
          28.097999572753906,
          28.454999923706055,
          28.658000946044922,
          28.489999771118164,
          28.801000595092773,
          28.770000457763672,
          28.795000076293945,
          28.511999130249023,
          28.395999908447266,
          28.334999084472656,
          28.3799991607666,
          28.309999465942383,
          28.570999145507812,
          28.420000076293945,
          28.457000732421875,
          28.207000732421875,
          28.22599983215332,
          28.290000915527344,
          28.6560001373291,
          29.690000534057617,
          29.719999313354492,
          29.740999221801758,
          30.027999877929688,
          29.74799919128418,
          29.648000717163086,
          29.49799919128418,
          29.312999725341797,
          29.42300033569336,
          29.329999923706055,
          29.4950008392334,
          29.94499969482422,
          30.325000762939453,
          30.780000686645508,
          30.594999313354492,
          30.597999572753906,
          30.6200008392334,
          30.606000900268555,
          30.454999923706055,
          30.437999725341797,
          30.233999252319336,
          30.329999923706055,
          30.18400001525879,
          29.930999755859375,
          30.07699966430664,
          29.924999237060547,
          29.802000045776367,
          29.687000274658203,
          29.4060001373291,
          28.483999252319336,
          28.40999984741211,
          28.73699951171875
         ]
        }
       ],
       "layout": {
        "template": {
         "data": {
          "bar": [
           {
            "error_x": {
             "color": "#2a3f5f"
            },
            "error_y": {
             "color": "#2a3f5f"
            },
            "marker": {
             "line": {
              "color": "white",
              "width": 0.5
             },
             "pattern": {
              "fillmode": "overlay",
              "size": 10,
              "solidity": 0.2
             }
            },
            "type": "bar"
           }
          ],
          "barpolar": [
           {
            "marker": {
             "line": {
              "color": "white",
              "width": 0.5
             },
             "pattern": {
              "fillmode": "overlay",
              "size": 10,
              "solidity": 0.2
             }
            },
            "type": "barpolar"
           }
          ],
          "carpet": [
           {
            "aaxis": {
             "endlinecolor": "#2a3f5f",
             "gridcolor": "#C8D4E3",
             "linecolor": "#C8D4E3",
             "minorgridcolor": "#C8D4E3",
             "startlinecolor": "#2a3f5f"
            },
            "baxis": {
             "endlinecolor": "#2a3f5f",
             "gridcolor": "#C8D4E3",
             "linecolor": "#C8D4E3",
             "minorgridcolor": "#C8D4E3",
             "startlinecolor": "#2a3f5f"
            },
            "type": "carpet"
           }
          ],
          "choropleth": [
           {
            "colorbar": {
             "outlinewidth": 0,
             "ticks": ""
            },
            "type": "choropleth"
           }
          ],
          "contour": [
           {
            "colorbar": {
             "outlinewidth": 0,
             "ticks": ""
            },
            "colorscale": [
             [
              0,
              "#0d0887"
             ],
             [
              0.1111111111111111,
              "#46039f"
             ],
             [
              0.2222222222222222,
              "#7201a8"
             ],
             [
              0.3333333333333333,
              "#9c179e"
             ],
             [
              0.4444444444444444,
              "#bd3786"
             ],
             [
              0.5555555555555556,
              "#d8576b"
             ],
             [
              0.6666666666666666,
              "#ed7953"
             ],
             [
              0.7777777777777778,
              "#fb9f3a"
             ],
             [
              0.8888888888888888,
              "#fdca26"
             ],
             [
              1,
              "#f0f921"
             ]
            ],
            "type": "contour"
           }
          ],
          "contourcarpet": [
           {
            "colorbar": {
             "outlinewidth": 0,
             "ticks": ""
            },
            "type": "contourcarpet"
           }
          ],
          "heatmap": [
           {
            "colorbar": {
             "outlinewidth": 0,
             "ticks": ""
            },
            "colorscale": [
             [
              0,
              "#0d0887"
             ],
             [
              0.1111111111111111,
              "#46039f"
             ],
             [
              0.2222222222222222,
              "#7201a8"
             ],
             [
              0.3333333333333333,
              "#9c179e"
             ],
             [
              0.4444444444444444,
              "#bd3786"
             ],
             [
              0.5555555555555556,
              "#d8576b"
             ],
             [
              0.6666666666666666,
              "#ed7953"
             ],
             [
              0.7777777777777778,
              "#fb9f3a"
             ],
             [
              0.8888888888888888,
              "#fdca26"
             ],
             [
              1,
              "#f0f921"
             ]
            ],
            "type": "heatmap"
           }
          ],
          "heatmapgl": [
           {
            "colorbar": {
             "outlinewidth": 0,
             "ticks": ""
            },
            "colorscale": [
             [
              0,
              "#0d0887"
             ],
             [
              0.1111111111111111,
              "#46039f"
             ],
             [
              0.2222222222222222,
              "#7201a8"
             ],
             [
              0.3333333333333333,
              "#9c179e"
             ],
             [
              0.4444444444444444,
              "#bd3786"
             ],
             [
              0.5555555555555556,
              "#d8576b"
             ],
             [
              0.6666666666666666,
              "#ed7953"
             ],
             [
              0.7777777777777778,
              "#fb9f3a"
             ],
             [
              0.8888888888888888,
              "#fdca26"
             ],
             [
              1,
              "#f0f921"
             ]
            ],
            "type": "heatmapgl"
           }
          ],
          "histogram": [
           {
            "marker": {
             "pattern": {
              "fillmode": "overlay",
              "size": 10,
              "solidity": 0.2
             }
            },
            "type": "histogram"
           }
          ],
          "histogram2d": [
           {
            "colorbar": {
             "outlinewidth": 0,
             "ticks": ""
            },
            "colorscale": [
             [
              0,
              "#0d0887"
             ],
             [
              0.1111111111111111,
              "#46039f"
             ],
             [
              0.2222222222222222,
              "#7201a8"
             ],
             [
              0.3333333333333333,
              "#9c179e"
             ],
             [
              0.4444444444444444,
              "#bd3786"
             ],
             [
              0.5555555555555556,
              "#d8576b"
             ],
             [
              0.6666666666666666,
              "#ed7953"
             ],
             [
              0.7777777777777778,
              "#fb9f3a"
             ],
             [
              0.8888888888888888,
              "#fdca26"
             ],
             [
              1,
              "#f0f921"
             ]
            ],
            "type": "histogram2d"
           }
          ],
          "histogram2dcontour": [
           {
            "colorbar": {
             "outlinewidth": 0,
             "ticks": ""
            },
            "colorscale": [
             [
              0,
              "#0d0887"
             ],
             [
              0.1111111111111111,
              "#46039f"
             ],
             [
              0.2222222222222222,
              "#7201a8"
             ],
             [
              0.3333333333333333,
              "#9c179e"
             ],
             [
              0.4444444444444444,
              "#bd3786"
             ],
             [
              0.5555555555555556,
              "#d8576b"
             ],
             [
              0.6666666666666666,
              "#ed7953"
             ],
             [
              0.7777777777777778,
              "#fb9f3a"
             ],
             [
              0.8888888888888888,
              "#fdca26"
             ],
             [
              1,
              "#f0f921"
             ]
            ],
            "type": "histogram2dcontour"
           }
          ],
          "mesh3d": [
           {
            "colorbar": {
             "outlinewidth": 0,
             "ticks": ""
            },
            "type": "mesh3d"
           }
          ],
          "parcoords": [
           {
            "line": {
             "colorbar": {
              "outlinewidth": 0,
              "ticks": ""
             }
            },
            "type": "parcoords"
           }
          ],
          "pie": [
           {
            "automargin": true,
            "type": "pie"
           }
          ],
          "scatter": [
           {
            "fillpattern": {
             "fillmode": "overlay",
             "size": 10,
             "solidity": 0.2
            },
            "type": "scatter"
           }
          ],
          "scatter3d": [
           {
            "line": {
             "colorbar": {
              "outlinewidth": 0,
              "ticks": ""
             }
            },
            "marker": {
             "colorbar": {
              "outlinewidth": 0,
              "ticks": ""
             }
            },
            "type": "scatter3d"
           }
          ],
          "scattercarpet": [
           {
            "marker": {
             "colorbar": {
              "outlinewidth": 0,
              "ticks": ""
             }
            },
            "type": "scattercarpet"
           }
          ],
          "scattergeo": [
           {
            "marker": {
             "colorbar": {
              "outlinewidth": 0,
              "ticks": ""
             }
            },
            "type": "scattergeo"
           }
          ],
          "scattergl": [
           {
            "marker": {
             "colorbar": {
              "outlinewidth": 0,
              "ticks": ""
             }
            },
            "type": "scattergl"
           }
          ],
          "scattermapbox": [
           {
            "marker": {
             "colorbar": {
              "outlinewidth": 0,
              "ticks": ""
             }
            },
            "type": "scattermapbox"
           }
          ],
          "scatterpolar": [
           {
            "marker": {
             "colorbar": {
              "outlinewidth": 0,
              "ticks": ""
             }
            },
            "type": "scatterpolar"
           }
          ],
          "scatterpolargl": [
           {
            "marker": {
             "colorbar": {
              "outlinewidth": 0,
              "ticks": ""
             }
            },
            "type": "scatterpolargl"
           }
          ],
          "scatterternary": [
           {
            "marker": {
             "colorbar": {
              "outlinewidth": 0,
              "ticks": ""
             }
            },
            "type": "scatterternary"
           }
          ],
          "surface": [
           {
            "colorbar": {
             "outlinewidth": 0,
             "ticks": ""
            },
            "colorscale": [
             [
              0,
              "#0d0887"
             ],
             [
              0.1111111111111111,
              "#46039f"
             ],
             [
              0.2222222222222222,
              "#7201a8"
             ],
             [
              0.3333333333333333,
              "#9c179e"
             ],
             [
              0.4444444444444444,
              "#bd3786"
             ],
             [
              0.5555555555555556,
              "#d8576b"
             ],
             [
              0.6666666666666666,
              "#ed7953"
             ],
             [
              0.7777777777777778,
              "#fb9f3a"
             ],
             [
              0.8888888888888888,
              "#fdca26"
             ],
             [
              1,
              "#f0f921"
             ]
            ],
            "type": "surface"
           }
          ],
          "table": [
           {
            "cells": {
             "fill": {
              "color": "#EBF0F8"
             },
             "line": {
              "color": "white"
             }
            },
            "header": {
             "fill": {
              "color": "#C8D4E3"
             },
             "line": {
              "color": "white"
             }
            },
            "type": "table"
           }
          ]
         },
         "layout": {
          "annotationdefaults": {
           "arrowcolor": "#2a3f5f",
           "arrowhead": 0,
           "arrowwidth": 1
          },
          "autotypenumbers": "strict",
          "coloraxis": {
           "colorbar": {
            "outlinewidth": 0,
            "ticks": ""
           }
          },
          "colorscale": {
           "diverging": [
            [
             0,
             "#8e0152"
            ],
            [
             0.1,
             "#c51b7d"
            ],
            [
             0.2,
             "#de77ae"
            ],
            [
             0.3,
             "#f1b6da"
            ],
            [
             0.4,
             "#fde0ef"
            ],
            [
             0.5,
             "#f7f7f7"
            ],
            [
             0.6,
             "#e6f5d0"
            ],
            [
             0.7,
             "#b8e186"
            ],
            [
             0.8,
             "#7fbc41"
            ],
            [
             0.9,
             "#4d9221"
            ],
            [
             1,
             "#276419"
            ]
           ],
           "sequential": [
            [
             0,
             "#0d0887"
            ],
            [
             0.1111111111111111,
             "#46039f"
            ],
            [
             0.2222222222222222,
             "#7201a8"
            ],
            [
             0.3333333333333333,
             "#9c179e"
            ],
            [
             0.4444444444444444,
             "#bd3786"
            ],
            [
             0.5555555555555556,
             "#d8576b"
            ],
            [
             0.6666666666666666,
             "#ed7953"
            ],
            [
             0.7777777777777778,
             "#fb9f3a"
            ],
            [
             0.8888888888888888,
             "#fdca26"
            ],
            [
             1,
             "#f0f921"
            ]
           ],
           "sequentialminus": [
            [
             0,
             "#0d0887"
            ],
            [
             0.1111111111111111,
             "#46039f"
            ],
            [
             0.2222222222222222,
             "#7201a8"
            ],
            [
             0.3333333333333333,
             "#9c179e"
            ],
            [
             0.4444444444444444,
             "#bd3786"
            ],
            [
             0.5555555555555556,
             "#d8576b"
            ],
            [
             0.6666666666666666,
             "#ed7953"
            ],
            [
             0.7777777777777778,
             "#fb9f3a"
            ],
            [
             0.8888888888888888,
             "#fdca26"
            ],
            [
             1,
             "#f0f921"
            ]
           ]
          },
          "colorway": [
           "#636efa",
           "#EF553B",
           "#00cc96",
           "#ab63fa",
           "#FFA15A",
           "#19d3f3",
           "#FF6692",
           "#B6E880",
           "#FF97FF",
           "#FECB52"
          ],
          "font": {
           "color": "#2a3f5f"
          },
          "geo": {
           "bgcolor": "white",
           "lakecolor": "white",
           "landcolor": "white",
           "showlakes": true,
           "showland": true,
           "subunitcolor": "#C8D4E3"
          },
          "hoverlabel": {
           "align": "left"
          },
          "hovermode": "closest",
          "mapbox": {
           "style": "light"
          },
          "paper_bgcolor": "white",
          "plot_bgcolor": "white",
          "polar": {
           "angularaxis": {
            "gridcolor": "#EBF0F8",
            "linecolor": "#EBF0F8",
            "ticks": ""
           },
           "bgcolor": "white",
           "radialaxis": {
            "gridcolor": "#EBF0F8",
            "linecolor": "#EBF0F8",
            "ticks": ""
           }
          },
          "scene": {
           "xaxis": {
            "backgroundcolor": "white",
            "gridcolor": "#DFE8F3",
            "gridwidth": 2,
            "linecolor": "#EBF0F8",
            "showbackground": true,
            "ticks": "",
            "zerolinecolor": "#EBF0F8"
           },
           "yaxis": {
            "backgroundcolor": "white",
            "gridcolor": "#DFE8F3",
            "gridwidth": 2,
            "linecolor": "#EBF0F8",
            "showbackground": true,
            "ticks": "",
            "zerolinecolor": "#EBF0F8"
           },
           "zaxis": {
            "backgroundcolor": "white",
            "gridcolor": "#DFE8F3",
            "gridwidth": 2,
            "linecolor": "#EBF0F8",
            "showbackground": true,
            "ticks": "",
            "zerolinecolor": "#EBF0F8"
           }
          },
          "shapedefaults": {
           "line": {
            "color": "#2a3f5f"
           }
          },
          "ternary": {
           "aaxis": {
            "gridcolor": "#DFE8F3",
            "linecolor": "#A2B1C6",
            "ticks": ""
           },
           "baxis": {
            "gridcolor": "#DFE8F3",
            "linecolor": "#A2B1C6",
            "ticks": ""
           },
           "bgcolor": "white",
           "caxis": {
            "gridcolor": "#DFE8F3",
            "linecolor": "#A2B1C6",
            "ticks": ""
           }
          },
          "title": {
           "x": 0.05
          },
          "xaxis": {
           "automargin": true,
           "gridcolor": "#EBF0F8",
           "linecolor": "#EBF0F8",
           "ticks": "",
           "title": {
            "standoff": 15
           },
           "zerolinecolor": "#EBF0F8",
           "zerolinewidth": 2
          },
          "yaxis": {
           "automargin": true,
           "gridcolor": "#EBF0F8",
           "linecolor": "#EBF0F8",
           "ticks": "",
           "title": {
            "standoff": 15
           },
           "zerolinecolor": "#EBF0F8",
           "zerolinewidth": 2
          }
         }
        },
        "title": {
         "text": "Close values for ABCS (6 Months)"
        },
        "xaxis": {
         "showgrid": true,
         "title": {
          "text": "Date"
         }
        },
        "yaxis": {
         "title": {
          "text": "Close value (in $)"
         }
        }
       }
      }
     },
     "metadata": {},
     "output_type": "display_data"
    },
    {
     "data": {
      "text/plain": [
       "<function __main__.plot_ticker_with_period(ticker, periode)>"
      ]
     },
     "execution_count": 9,
     "metadata": {},
     "output_type": "execute_result"
    }
   ],
   "source": [
    "def filter_data_by_period(ticker,periode):\n",
    "    dateToday=datetime.today()\n",
    "\n",
    "    if periode==\"1 Day\":\n",
    "        yesterday=dateToday-timedelta(days=1)\n",
    "        start_date=yesterday.replace(hour=0,minute=0,second=0,microsecond=0)\n",
    "    elif periode==\"1 Week\":\n",
    "        start_date=dateToday-timedelta(weeks=1)\n",
    "    elif periode==\"1 Month\":\n",
    "        start_date=dateToday-timedelta(weeks=4)\n",
    "    elif periode==\"6 Months\":\n",
    "        start_date=dateToday-timedelta(weeks=26)\n",
    "    elif periode==\"1 Year\":\n",
    "        start_date=dateToday-timedelta(weeks=52)\n",
    "    elif periode==\"5 Years\":\n",
    "        start_date=dateToday-timedelta(weeks=260)\n",
    "\n",
    "    if (periode==\"1 Day\") or (periode==\"1 Week\"):\n",
    "        filtered=df_min[(df_min[\"date\"]>=start_date)&(df_min[\"ticker\"]==ticker)]\n",
    "    else:\n",
    "        filtered=df_day[(df_day[\"date\"]>=start_date)&(df_day[\"ticker\"]==ticker)]\n",
    "    \n",
    "    filtered=filtered.sort_values(by=\"date\")\n",
    "    return filtered\n",
    "\n",
    "def plot_ticker_with_period(ticker,periode):\n",
    "    sub=filter_data_by_period(ticker,periode)\n",
    "    if(periode==\"1 Day\"):\n",
    "        sub.loc[sub[\"date\"].diff()>timedelta(hours=12),\"close\"]=None\n",
    "        sub[\"heure\"]=sub[\"date\"].dt.strftime(\"%d %H:%M\")\n",
    "        sub=sub.sort_values(by=\"date\")\n",
    "        x_label=sub[\"heure\"]\n",
    "    elif(periode==\"1 Week\"):\n",
    "        sub.loc[sub[\"date\"].diff()>timedelta(hours=12),\"close\"]=None\n",
    "        sub=sub.sort_values(by=\"date\")\n",
    "        sub[\"day\"]=sub[\"date\"].dt.strftime(\"%d %H:%M\")\n",
    "        x_label=sub[\"day\"]\n",
    "    else:\n",
    "        sub=sub.sort_values(by=\"date\")\n",
    "        x_label=sub[\"date\"]\n",
    "    \n",
    "    fig=go.Figure()\n",
    "    fig.add_trace(go.Scatter(\n",
    "        x=x_label,\n",
    "        y=sub[\"close\"],\n",
    "        mode=\"lines\",\n",
    "        name=f\"Close value ({ticker})\",\n",
    "        line=dict(color=\"blue\",width=2),\n",
    "        connectgaps=False\n",
    "    ))\n",
    "    if(periode==\"1 Day\"):\n",
    "        titlex=\"Hour\"\n",
    "        ntickss=24\n",
    "    elif((periode==\"1 Week\")):\n",
    "        titlex=\"Date\"\n",
    "        ntickss=7\n",
    "    else:\n",
    "        titlex=\"Date\"\n",
    "\n",
    "    if((periode==\"1 Day\")or(periode==\"1 Week\")):\n",
    "        xaxiss=dict(title=titlex,type=\"category\",nticks=ntickss,showgrid=True)\n",
    "    else:\n",
    "        xaxiss=dict(title=titlex,showgrid=True)\n",
    "\n",
    "    fig.update_layout(\n",
    "        title=f\"Close values for {ticker} ({periode})\",\n",
    "        xaxis=xaxiss,\n",
    "        yaxis_title=\"Close value (in $)\",\n",
    "        template=\"plotly_white\"\n",
    "    )\n",
    "    \n",
    "    fig.show()\n",
    "\n",
    "tickers=valid_nasdaq_list\n",
    "periode=[\"1 Day\",\"1 Week\",\"1 Month\",\"6 Months\",\"1 Year\",\"5 Years\"]\n",
    "\n",
    "interact(\n",
    "    plot_ticker_with_period,\n",
    "    ticker=widgets.Dropdown(options=tickers,description=\"Select Ticker: \"),\n",
    "    periode=widgets.Dropdown(options=periode,description=\"Select Period: \")\n",
    ")"
   ]
  }
 ],
 "metadata": {
  "kernelspec": {
   "display_name": "base",
   "language": "python",
   "name": "python3"
  },
  "language_info": {
   "codemirror_mode": {
    "name": "ipython",
    "version": 3
   },
   "file_extension": ".py",
   "mimetype": "text/x-python",
   "name": "python",
   "nbconvert_exporter": "python",
   "pygments_lexer": "ipython3",
   "version": "3.12.4"
  }
 },
 "nbformat": 4,
 "nbformat_minor": 2
}
