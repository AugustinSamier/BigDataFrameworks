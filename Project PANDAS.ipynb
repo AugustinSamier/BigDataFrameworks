{
 "cells": [
  {
   "cell_type": "markdown",
   "metadata": {},
   "source": [
    "Project Big Data Framework by Augustin SAMIER and Benjamin AUER, GR03"
   ]
  },
  {
   "cell_type": "code",
   "execution_count": 29,
   "metadata": {},
   "outputs": [],
   "source": [
    "import pandas as pd\n",
    "import yfinance as yf\n",
    "import yahoo_fin.stock_info as si\n",
    "from yahoo_fin.stock_info import get_data\n",
    "import matplotlib.pyplot as plt\n",
    "import seaborn as sns\n",
    "import plotly.graph_objects as go\n",
    "from ipywidgets import interact, widgets,Output,VBox\n",
    "from datetime import timedelta,datetime\n",
    "from IPython.display import display, clear_output"
   ]
  },
  {
   "cell_type": "markdown",
   "metadata": {},
   "source": [
    "1. Exploration"
   ]
  },
  {
   "cell_type": "markdown",
   "metadata": {},
   "source": [
    "We can take APPLE as a first example:"
   ]
  },
  {
   "cell_type": "code",
   "execution_count": 30,
   "metadata": {},
   "outputs": [
    {
     "data": {
      "text/html": [
       "<div>\n",
       "<style scoped>\n",
       "    .dataframe tbody tr th:only-of-type {\n",
       "        vertical-align: middle;\n",
       "    }\n",
       "\n",
       "    .dataframe tbody tr th {\n",
       "        vertical-align: top;\n",
       "    }\n",
       "\n",
       "    .dataframe thead th {\n",
       "        text-align: right;\n",
       "    }\n",
       "</style>\n",
       "<table border=\"1\" class=\"dataframe\">\n",
       "  <thead>\n",
       "    <tr style=\"text-align: right;\">\n",
       "      <th></th>\n",
       "      <th>date</th>\n",
       "      <th>open</th>\n",
       "      <th>high</th>\n",
       "      <th>low</th>\n",
       "      <th>close</th>\n",
       "      <th>adjclose</th>\n",
       "      <th>volume</th>\n",
       "      <th>ticker</th>\n",
       "    </tr>\n",
       "  </thead>\n",
       "  <tbody>\n",
       "    <tr>\n",
       "      <th>0</th>\n",
       "      <td>2019-12-02</td>\n",
       "      <td>66.817497</td>\n",
       "      <td>67.062500</td>\n",
       "      <td>65.862503</td>\n",
       "      <td>66.040001</td>\n",
       "      <td>64.024628</td>\n",
       "      <td>94487200</td>\n",
       "      <td>AAPL</td>\n",
       "    </tr>\n",
       "    <tr>\n",
       "      <th>1</th>\n",
       "      <td>2019-12-03</td>\n",
       "      <td>64.577499</td>\n",
       "      <td>64.882500</td>\n",
       "      <td>64.072502</td>\n",
       "      <td>64.862503</td>\n",
       "      <td>62.883053</td>\n",
       "      <td>114430400</td>\n",
       "      <td>AAPL</td>\n",
       "    </tr>\n",
       "    <tr>\n",
       "      <th>2</th>\n",
       "      <td>2019-12-04</td>\n",
       "      <td>65.267502</td>\n",
       "      <td>65.827499</td>\n",
       "      <td>65.169998</td>\n",
       "      <td>65.434998</td>\n",
       "      <td>63.438084</td>\n",
       "      <td>67181600</td>\n",
       "      <td>AAPL</td>\n",
       "    </tr>\n",
       "    <tr>\n",
       "      <th>3</th>\n",
       "      <td>2019-12-05</td>\n",
       "      <td>65.947502</td>\n",
       "      <td>66.472504</td>\n",
       "      <td>65.682503</td>\n",
       "      <td>66.394997</td>\n",
       "      <td>64.368782</td>\n",
       "      <td>74424400</td>\n",
       "      <td>AAPL</td>\n",
       "    </tr>\n",
       "    <tr>\n",
       "      <th>4</th>\n",
       "      <td>2019-12-06</td>\n",
       "      <td>66.870003</td>\n",
       "      <td>67.750000</td>\n",
       "      <td>66.824997</td>\n",
       "      <td>67.677498</td>\n",
       "      <td>65.612167</td>\n",
       "      <td>106075600</td>\n",
       "      <td>AAPL</td>\n",
       "    </tr>\n",
       "    <tr>\n",
       "      <th>...</th>\n",
       "      <td>...</td>\n",
       "      <td>...</td>\n",
       "      <td>...</td>\n",
       "      <td>...</td>\n",
       "      <td>...</td>\n",
       "      <td>...</td>\n",
       "      <td>...</td>\n",
       "      <td>...</td>\n",
       "    </tr>\n",
       "    <tr>\n",
       "      <th>1253</th>\n",
       "      <td>2024-11-22</td>\n",
       "      <td>228.059998</td>\n",
       "      <td>230.720001</td>\n",
       "      <td>228.059998</td>\n",
       "      <td>229.869995</td>\n",
       "      <td>229.869995</td>\n",
       "      <td>38168300</td>\n",
       "      <td>AAPL</td>\n",
       "    </tr>\n",
       "    <tr>\n",
       "      <th>1254</th>\n",
       "      <td>2024-11-25</td>\n",
       "      <td>231.460007</td>\n",
       "      <td>233.250000</td>\n",
       "      <td>229.740005</td>\n",
       "      <td>232.869995</td>\n",
       "      <td>232.869995</td>\n",
       "      <td>90152800</td>\n",
       "      <td>AAPL</td>\n",
       "    </tr>\n",
       "    <tr>\n",
       "      <th>1255</th>\n",
       "      <td>2024-11-26</td>\n",
       "      <td>233.330002</td>\n",
       "      <td>235.570007</td>\n",
       "      <td>233.330002</td>\n",
       "      <td>235.059998</td>\n",
       "      <td>235.059998</td>\n",
       "      <td>45986200</td>\n",
       "      <td>AAPL</td>\n",
       "    </tr>\n",
       "    <tr>\n",
       "      <th>1256</th>\n",
       "      <td>2024-11-27</td>\n",
       "      <td>234.470001</td>\n",
       "      <td>235.690002</td>\n",
       "      <td>233.809998</td>\n",
       "      <td>234.929993</td>\n",
       "      <td>234.929993</td>\n",
       "      <td>33498400</td>\n",
       "      <td>AAPL</td>\n",
       "    </tr>\n",
       "    <tr>\n",
       "      <th>1257</th>\n",
       "      <td>2024-11-29</td>\n",
       "      <td>234.809998</td>\n",
       "      <td>237.809998</td>\n",
       "      <td>233.970001</td>\n",
       "      <td>237.330002</td>\n",
       "      <td>237.330002</td>\n",
       "      <td>28481400</td>\n",
       "      <td>AAPL</td>\n",
       "    </tr>\n",
       "  </tbody>\n",
       "</table>\n",
       "<p>1258 rows × 8 columns</p>\n",
       "</div>"
      ],
      "text/plain": [
       "           date        open        high         low       close    adjclose  \\\n",
       "0    2019-12-02   66.817497   67.062500   65.862503   66.040001   64.024628   \n",
       "1    2019-12-03   64.577499   64.882500   64.072502   64.862503   62.883053   \n",
       "2    2019-12-04   65.267502   65.827499   65.169998   65.434998   63.438084   \n",
       "3    2019-12-05   65.947502   66.472504   65.682503   66.394997   64.368782   \n",
       "4    2019-12-06   66.870003   67.750000   66.824997   67.677498   65.612167   \n",
       "...         ...         ...         ...         ...         ...         ...   \n",
       "1253 2024-11-22  228.059998  230.720001  228.059998  229.869995  229.869995   \n",
       "1254 2024-11-25  231.460007  233.250000  229.740005  232.869995  232.869995   \n",
       "1255 2024-11-26  233.330002  235.570007  233.330002  235.059998  235.059998   \n",
       "1256 2024-11-27  234.470001  235.690002  233.809998  234.929993  234.929993   \n",
       "1257 2024-11-29  234.809998  237.809998  233.970001  237.330002  237.330002   \n",
       "\n",
       "         volume ticker  \n",
       "0      94487200   AAPL  \n",
       "1     114430400   AAPL  \n",
       "2      67181600   AAPL  \n",
       "3      74424400   AAPL  \n",
       "4     106075600   AAPL  \n",
       "...         ...    ...  \n",
       "1253   38168300   AAPL  \n",
       "1254   90152800   AAPL  \n",
       "1255   45986200   AAPL  \n",
       "1256   33498400   AAPL  \n",
       "1257   28481400   AAPL  \n",
       "\n",
       "[1258 rows x 8 columns]"
      ]
     },
     "execution_count": 30,
     "metadata": {},
     "output_type": "execute_result"
    }
   ],
   "source": [
    "nas_aapl=get_data(\"aapl\",start_date=\"11/30/2019\",end_date=\"11/30/2024\",index_as_date =False,interval=\"1d\") #différents interval (1m to 3months)\n",
    "nas_aapl"
   ]
  },
  {
   "cell_type": "code",
   "execution_count": 31,
   "metadata": {},
   "outputs": [
    {
     "name": "stdout",
     "output_type": "stream",
     "text": [
      "<class 'pandas.core.frame.DataFrame'>\n",
      "RangeIndex: 1258 entries, 0 to 1257\n",
      "Data columns (total 8 columns):\n",
      " #   Column    Non-Null Count  Dtype         \n",
      "---  ------    --------------  -----         \n",
      " 0   date      1258 non-null   datetime64[ns]\n",
      " 1   open      1258 non-null   float64       \n",
      " 2   high      1258 non-null   float64       \n",
      " 3   low       1258 non-null   float64       \n",
      " 4   close     1258 non-null   float64       \n",
      " 5   adjclose  1258 non-null   float64       \n",
      " 6   volume    1258 non-null   int64         \n",
      " 7   ticker    1258 non-null   object        \n",
      "dtypes: datetime64[ns](1), float64(5), int64(1), object(1)\n",
      "memory usage: 78.8+ KB\n",
      "None\n"
     ]
    }
   ],
   "source": [
    "print(nas_aapl.info())"
   ]
  },
  {
   "cell_type": "code",
   "execution_count": 32,
   "metadata": {},
   "outputs": [
    {
     "name": "stdout",
     "output_type": "stream",
     "text": [
      "count    1258.000000\n",
      "mean      151.100835\n",
      "std        41.033508\n",
      "min        56.092499\n",
      "25%       127.107498\n",
      "50%       151.019997\n",
      "75%       177.244999\n",
      "max       237.330002\n",
      "Name: close, dtype: float64\n"
     ]
    }
   ],
   "source": [
    "print(nas_aapl[\"close\"].describe())"
   ]
  },
  {
   "cell_type": "markdown",
   "metadata": {},
   "source": [
    "2. Pre-processing"
   ]
  },
  {
   "cell_type": "markdown",
   "metadata": {},
   "source": [
    "First we can check how much different tickers there are in the NASDAQ stock market as we want to work on this specific market"
   ]
  },
  {
   "cell_type": "code",
   "execution_count": 33,
   "metadata": {},
   "outputs": [
    {
     "name": "stdout",
     "output_type": "stream",
     "text": [
      "Tickers in Nasdaq: 4790\n",
      "['AACG', 'AADI', 'AADR', 'AAL', 'AAME', 'AAOI', 'AAON', 'AAPB', 'AAPD', 'AAPL', 'AAPU', 'AAXJ', 'ABAT', 'ABCL', 'ABCS', 'ABEO', 'ABL', 'ABLLL', 'ABLLW', 'ABLV', 'ABLVW', 'ABNB', 'ABOS', 'ABP', 'ABPWW', 'ABSI', 'ABTS', 'ABUS', 'ABVC', 'ABVE']\n"
     ]
    }
   ],
   "source": [
    "nas_list=si.tickers_nasdaq()\n",
    "print(\"Tickers in Nasdaq:\",len(nas_list))\n",
    "print(nas_list[0:30])\n",
    "nasdaq_list=nas_list[0:30]"
   ]
  },
  {
   "cell_type": "markdown",
   "metadata": {},
   "source": [
    "We put the tickers we want in a dataframe so we can access it by the name of the ticker:"
   ]
  },
  {
   "cell_type": "code",
   "execution_count": 34,
   "metadata": {},
   "outputs": [
    {
     "name": "stdout",
     "output_type": "stream",
     "text": [
      "AACG removed\n",
      "AADR removed\n",
      "AAME removed\n",
      "ABCS removed\n",
      "ABLLW removed\n",
      "ABLV removed\n",
      "ABLVW not avalaible now\n",
      "ABPWW removed\n",
      "ABTS removed\n"
     ]
    }
   ],
   "source": [
    "dfday=pd.DataFrame()\n",
    "dfmin=pd.DataFrame()\n",
    "dateToday=datetime.today().strftime(\"%Y-%m-%d\")\n",
    "date7days=(datetime.today()-timedelta(days=7)).strftime(\"%Y-%m-%d\")\n",
    "valid_nasdaq_list=[]\n",
    "\n",
    "for ticker in nasdaq_list:\n",
    "    try:\n",
    "        data_tickers_min=get_data(ticker,start_date=date7days,index_as_date=True,interval=\"1m\")\n",
    "        data_tickers_d= get_data(ticker,start_date=\"11/30/2014\",index_as_date=True,interval=\"1d\")\n",
    "        if((data_tickers_min[\"close\"].count()>100)and(data_tickers_d[\"close\"].count()>100)): #we put this treshold to remove tickers with small amount of data\n",
    "            dfmin=pd.concat([dfmin,data_tickers_min])\n",
    "            dfday=pd.concat([dfday,data_tickers_d])\n",
    "            valid_nasdaq_list.append(ticker)\n",
    "        else:\n",
    "            print(f\"{ticker} removed\")\n",
    "    except:\n",
    "        print(f\"{ticker} not avalaible now\")\n",
    "\n",
    "def dataEng(data):\n",
    "    df=data\n",
    "    df.reset_index(inplace=True)\n",
    "    df.rename(columns={\"index\":\"date\"}, inplace=True)\n",
    "    df[\"date\"]=pd.to_datetime(df[\"date\"]) #To put the right date type\n",
    "    df[\"ticker\"]=df[\"ticker\"].astype(\"string\") #Was an object type and we put it as a String type\n",
    "    df=df.dropna()\n",
    "    return df\n",
    "\n",
    "df_day=dataEng(dfday)\n",
    "df_min=dataEng(dfmin)\n",
    "\n",
    "def calculSMA(df,time):\n",
    "    return df.groupby(\"ticker\")[\"close\"].transform(lambda x:x.rolling(window=time).mean())\n",
    "\n",
    "df_day[\"return\"]=df_day.groupby(\"ticker\")[\"close\"].pct_change()\n",
    "df_day[\"SMA50\"]=calculSMA(df_day,50) #SMA (Simple Moving Average) for 50 days\n",
    "df_day[\"SMA200\"]=calculSMA(df_day,200)  #for 200 days\n"
   ]
  },
  {
   "cell_type": "code",
   "execution_count": 35,
   "metadata": {},
   "outputs": [
    {
     "data": {
      "text/html": [
       "<div>\n",
       "<style scoped>\n",
       "    .dataframe tbody tr th:only-of-type {\n",
       "        vertical-align: middle;\n",
       "    }\n",
       "\n",
       "    .dataframe tbody tr th {\n",
       "        vertical-align: top;\n",
       "    }\n",
       "\n",
       "    .dataframe thead th {\n",
       "        text-align: right;\n",
       "    }\n",
       "</style>\n",
       "<table border=\"1\" class=\"dataframe\">\n",
       "  <thead>\n",
       "    <tr style=\"text-align: right;\">\n",
       "      <th></th>\n",
       "      <th>date</th>\n",
       "      <th>open</th>\n",
       "      <th>high</th>\n",
       "      <th>low</th>\n",
       "      <th>close</th>\n",
       "      <th>adjclose</th>\n",
       "      <th>volume</th>\n",
       "      <th>ticker</th>\n",
       "      <th>return</th>\n",
       "      <th>SMA50</th>\n",
       "      <th>SMA200</th>\n",
       "    </tr>\n",
       "  </thead>\n",
       "  <tbody>\n",
       "    <tr>\n",
       "      <th>0</th>\n",
       "      <td>2018-02-16</td>\n",
       "      <td>69.750000</td>\n",
       "      <td>72.750000</td>\n",
       "      <td>64.199997</td>\n",
       "      <td>67.500000</td>\n",
       "      <td>67.500000</td>\n",
       "      <td>1527</td>\n",
       "      <td>AADI</td>\n",
       "      <td>NaN</td>\n",
       "      <td>NaN</td>\n",
       "      <td>NaN</td>\n",
       "    </tr>\n",
       "    <tr>\n",
       "      <th>1</th>\n",
       "      <td>2018-02-20</td>\n",
       "      <td>65.699997</td>\n",
       "      <td>66.000000</td>\n",
       "      <td>63.750000</td>\n",
       "      <td>66.000000</td>\n",
       "      <td>66.000000</td>\n",
       "      <td>353</td>\n",
       "      <td>AADI</td>\n",
       "      <td>-0.022222</td>\n",
       "      <td>NaN</td>\n",
       "      <td>NaN</td>\n",
       "    </tr>\n",
       "    <tr>\n",
       "      <th>2</th>\n",
       "      <td>2018-02-21</td>\n",
       "      <td>60.000000</td>\n",
       "      <td>74.849998</td>\n",
       "      <td>60.000000</td>\n",
       "      <td>71.250000</td>\n",
       "      <td>71.250000</td>\n",
       "      <td>733</td>\n",
       "      <td>AADI</td>\n",
       "      <td>0.079545</td>\n",
       "      <td>NaN</td>\n",
       "      <td>NaN</td>\n",
       "    </tr>\n",
       "    <tr>\n",
       "      <th>3</th>\n",
       "      <td>2018-02-22</td>\n",
       "      <td>67.650002</td>\n",
       "      <td>71.250000</td>\n",
       "      <td>66.750000</td>\n",
       "      <td>68.745003</td>\n",
       "      <td>68.745003</td>\n",
       "      <td>213</td>\n",
       "      <td>AADI</td>\n",
       "      <td>-0.035158</td>\n",
       "      <td>NaN</td>\n",
       "      <td>NaN</td>\n",
       "    </tr>\n",
       "    <tr>\n",
       "      <th>4</th>\n",
       "      <td>2018-02-23</td>\n",
       "      <td>65.250000</td>\n",
       "      <td>67.500000</td>\n",
       "      <td>65.250000</td>\n",
       "      <td>67.500000</td>\n",
       "      <td>67.500000</td>\n",
       "      <td>360</td>\n",
       "      <td>AADI</td>\n",
       "      <td>-0.018110</td>\n",
       "      <td>NaN</td>\n",
       "      <td>NaN</td>\n",
       "    </tr>\n",
       "  </tbody>\n",
       "</table>\n",
       "</div>"
      ],
      "text/plain": [
       "        date       open       high        low      close   adjclose  volume  \\\n",
       "0 2018-02-16  69.750000  72.750000  64.199997  67.500000  67.500000    1527   \n",
       "1 2018-02-20  65.699997  66.000000  63.750000  66.000000  66.000000     353   \n",
       "2 2018-02-21  60.000000  74.849998  60.000000  71.250000  71.250000     733   \n",
       "3 2018-02-22  67.650002  71.250000  66.750000  68.745003  68.745003     213   \n",
       "4 2018-02-23  65.250000  67.500000  65.250000  67.500000  67.500000     360   \n",
       "\n",
       "  ticker    return  SMA50  SMA200  \n",
       "0   AADI       NaN    NaN     NaN  \n",
       "1   AADI -0.022222    NaN     NaN  \n",
       "2   AADI  0.079545    NaN     NaN  \n",
       "3   AADI -0.035158    NaN     NaN  \n",
       "4   AADI -0.018110    NaN     NaN  "
      ]
     },
     "execution_count": 35,
     "metadata": {},
     "output_type": "execute_result"
    }
   ],
   "source": [
    "df_day.head()"
   ]
  },
  {
   "cell_type": "code",
   "execution_count": 36,
   "metadata": {},
   "outputs": [
    {
     "data": {
      "text/html": [
       "<div>\n",
       "<style scoped>\n",
       "    .dataframe tbody tr th:only-of-type {\n",
       "        vertical-align: middle;\n",
       "    }\n",
       "\n",
       "    .dataframe tbody tr th {\n",
       "        vertical-align: top;\n",
       "    }\n",
       "\n",
       "    .dataframe thead th {\n",
       "        text-align: right;\n",
       "    }\n",
       "</style>\n",
       "<table border=\"1\" class=\"dataframe\">\n",
       "  <thead>\n",
       "    <tr style=\"text-align: right;\">\n",
       "      <th></th>\n",
       "      <th>date</th>\n",
       "      <th>open</th>\n",
       "      <th>high</th>\n",
       "      <th>low</th>\n",
       "      <th>close</th>\n",
       "      <th>volume</th>\n",
       "      <th>ticker</th>\n",
       "    </tr>\n",
       "  </thead>\n",
       "  <tbody>\n",
       "    <tr>\n",
       "      <th>0</th>\n",
       "      <td>2024-12-24 14:30:00</td>\n",
       "      <td>2.80</td>\n",
       "      <td>2.8000</td>\n",
       "      <td>2.7519</td>\n",
       "      <td>2.7519</td>\n",
       "      <td>22865.0</td>\n",
       "      <td>AADI</td>\n",
       "    </tr>\n",
       "    <tr>\n",
       "      <th>3</th>\n",
       "      <td>2024-12-24 14:33:00</td>\n",
       "      <td>2.77</td>\n",
       "      <td>2.7700</td>\n",
       "      <td>2.7700</td>\n",
       "      <td>2.7700</td>\n",
       "      <td>523.0</td>\n",
       "      <td>AADI</td>\n",
       "    </tr>\n",
       "    <tr>\n",
       "      <th>4</th>\n",
       "      <td>2024-12-24 14:34:00</td>\n",
       "      <td>2.76</td>\n",
       "      <td>2.7677</td>\n",
       "      <td>2.7600</td>\n",
       "      <td>2.7640</td>\n",
       "      <td>3733.0</td>\n",
       "      <td>AADI</td>\n",
       "    </tr>\n",
       "    <tr>\n",
       "      <th>5</th>\n",
       "      <td>2024-12-24 14:35:00</td>\n",
       "      <td>2.77</td>\n",
       "      <td>2.7700</td>\n",
       "      <td>2.7700</td>\n",
       "      <td>2.7700</td>\n",
       "      <td>394.0</td>\n",
       "      <td>AADI</td>\n",
       "    </tr>\n",
       "    <tr>\n",
       "      <th>6</th>\n",
       "      <td>2024-12-24 14:36:00</td>\n",
       "      <td>2.77</td>\n",
       "      <td>2.7700</td>\n",
       "      <td>2.7700</td>\n",
       "      <td>2.7700</td>\n",
       "      <td>0.0</td>\n",
       "      <td>AADI</td>\n",
       "    </tr>\n",
       "  </tbody>\n",
       "</table>\n",
       "</div>"
      ],
      "text/plain": [
       "                 date  open    high     low   close   volume ticker\n",
       "0 2024-12-24 14:30:00  2.80  2.8000  2.7519  2.7519  22865.0   AADI\n",
       "3 2024-12-24 14:33:00  2.77  2.7700  2.7700  2.7700    523.0   AADI\n",
       "4 2024-12-24 14:34:00  2.76  2.7677  2.7600  2.7640   3733.0   AADI\n",
       "5 2024-12-24 14:35:00  2.77  2.7700  2.7700  2.7700    394.0   AADI\n",
       "6 2024-12-24 14:36:00  2.77  2.7700  2.7700  2.7700      0.0   AADI"
      ]
     },
     "execution_count": 36,
     "metadata": {},
     "output_type": "execute_result"
    }
   ],
   "source": [
    "df_min.head()"
   ]
  },
  {
   "cell_type": "code",
   "execution_count": 37,
   "metadata": {},
   "outputs": [
    {
     "name": "stdout",
     "output_type": "stream",
     "text": [
      "date      0\n",
      "open      0\n",
      "high      0\n",
      "low       0\n",
      "close     0\n",
      "volume    0\n",
      "ticker    0\n",
      "dtype: int64\n"
     ]
    }
   ],
   "source": [
    "print(df_min.isna().sum())"
   ]
  },
  {
   "cell_type": "code",
   "execution_count": 38,
   "metadata": {},
   "outputs": [
    {
     "name": "stdout",
     "output_type": "stream",
     "text": [
      "AADI : 600\n",
      "AAL : 1378\n",
      "AAOI : 1319\n",
      "AAON : 709\n",
      "AAPB : 228\n",
      "AAPD : 724\n",
      "AAPL : 1379\n",
      "AAPU : 770\n",
      "AAXJ : 465\n",
      "ABAT : 1378\n",
      "ABCL : 1274\n",
      "ABEO : 395\n",
      "ABL : 533\n",
      "ABLLL : 201\n",
      "ABNB : 1365\n",
      "ABOS : 875\n",
      "ABP : 1041\n",
      "ABSI : 1289\n",
      "ABUS : 927\n",
      "ABVC : 223\n",
      "ABVE : 102\n"
     ]
    }
   ],
   "source": [
    "for ticker in valid_nasdaq_list:\n",
    "    counter=df_min[df_min[\"ticker\"]==ticker][\"ticker\"].count()\n",
    "    print(f\"{ticker} : {counter}\")"
   ]
  },
  {
   "cell_type": "markdown",
   "metadata": {},
   "source": [
    "We calculate the sharp return ratio and explain the meaning of it"
   ]
  },
  {
   "cell_type": "code",
   "execution_count": 39,
   "metadata": {},
   "outputs": [],
   "source": [
    "sharpReturnDf=pd.DataFrame()\n",
    "sharpReturnDf[\"ticker\"]=valid_nasdaq_list\n",
    "risk_free=0.02/252 #2%/per year cause there are 252 days of open stock market per year\n",
    "\n",
    "for ticker in valid_nasdaq_list:\n",
    "    tick=yf.Ticker(ticker)\n",
    "    info=tick.info\n",
    "    \n",
    "    peRatio=info.get(\"trailingPE\")\n",
    "    betaRatio=info.get(\"beta\")\n",
    "    revenueGrowth=info.get(\"revenueGrowth\")\n",
    "    dailyVolume=info.get(\"volume\")\n",
    "    averageVolume=info.get(\"averageVolume\")\n",
    "    \n",
    "    dfreturn=df_day[df_day[\"ticker\"]==ticker]\n",
    "    returnR=dfreturn[\"return\"].mean()\n",
    "    vola=dfreturn[\"return\"].std()\n",
    "\n",
    "    latestClose=dfreturn[\"close\"].iloc[-1]\n",
    "    sma50=dfreturn[\"SMA50\"].iloc[-1]if not dfreturn[\"SMA50\"].isna().all() else None\n",
    "    sma200=dfreturn[\"SMA200\"].iloc[-1]if not dfreturn[\"SMA200\"].isna().all() else None\n",
    "\n",
    "    sharpReturnDf.loc[sharpReturnDf[\"ticker\"]==ticker,\"latestClose\"]=latestClose\n",
    "    sharpReturnDf.loc[sharpReturnDf[\"ticker\"]==ticker,\"SMA50\"]=sma50\n",
    "    sharpReturnDf.loc[sharpReturnDf[\"ticker\"]==ticker,\"SMA200\"]=sma200\n",
    "    sharpReturnDf.loc[sharpReturnDf[\"ticker\"]==ticker,\"sharpReturn\"]=(returnR-risk_free)/vola\n",
    "    sharpReturnDf.loc[sharpReturnDf[\"ticker\"]==ticker,\"peRatio\"]=peRatio\n",
    "    sharpReturnDf.loc[sharpReturnDf[\"ticker\"]==ticker,\"betaRatio\"]=betaRatio\n",
    "    sharpReturnDf.loc[sharpReturnDf[\"ticker\"]==ticker,\"vola\"]=vola\n",
    "    sharpReturnDf.loc[sharpReturnDf[\"ticker\"]==ticker,\"revenueGrowth\"]=revenueGrowth\n",
    "    sharpReturnDf.loc[sharpReturnDf[\"ticker\"]==ticker,\"dailyVolume\"]=dailyVolume\n",
    "    sharpReturnDf.loc[sharpReturnDf[\"ticker\"]==ticker,\"averageVolume\"]=averageVolume"
   ]
  },
  {
   "cell_type": "code",
   "execution_count": 40,
   "metadata": {},
   "outputs": [
    {
     "data": {
      "text/html": [
       "<div>\n",
       "<style scoped>\n",
       "    .dataframe tbody tr th:only-of-type {\n",
       "        vertical-align: middle;\n",
       "    }\n",
       "\n",
       "    .dataframe tbody tr th {\n",
       "        vertical-align: top;\n",
       "    }\n",
       "\n",
       "    .dataframe thead th {\n",
       "        text-align: right;\n",
       "    }\n",
       "</style>\n",
       "<table border=\"1\" class=\"dataframe\">\n",
       "  <thead>\n",
       "    <tr style=\"text-align: right;\">\n",
       "      <th></th>\n",
       "      <th>ticker</th>\n",
       "      <th>latestClose</th>\n",
       "      <th>SMA50</th>\n",
       "      <th>SMA200</th>\n",
       "      <th>sharpReturn</th>\n",
       "      <th>peRatio</th>\n",
       "      <th>betaRatio</th>\n",
       "      <th>vola</th>\n",
       "      <th>revenueGrowth</th>\n",
       "      <th>dailyVolume</th>\n",
       "      <th>averageVolume</th>\n",
       "      <th>sharpRatioMeaning</th>\n",
       "      <th>longTermScore</th>\n",
       "      <th>shortTermScore</th>\n",
       "    </tr>\n",
       "  </thead>\n",
       "  <tbody>\n",
       "    <tr>\n",
       "      <th>3</th>\n",
       "      <td>AAON</td>\n",
       "      <td>119.650002</td>\n",
       "      <td>126.132400</td>\n",
       "      <td>97.842700</td>\n",
       "      <td>0.046438</td>\n",
       "      <td>52.24891</td>\n",
       "      <td>0.791</td>\n",
       "      <td>0.021741</td>\n",
       "      <td>0.168</td>\n",
       "      <td>359378.0</td>\n",
       "      <td>416425.0</td>\n",
       "      <td>Not so bad</td>\n",
       "      <td>6</td>\n",
       "      <td>2</td>\n",
       "    </tr>\n",
       "    <tr>\n",
       "      <th>0</th>\n",
       "      <td>AADI</td>\n",
       "      <td>2.960000</td>\n",
       "      <td>2.310700</td>\n",
       "      <td>1.920125</td>\n",
       "      <td>-0.002669</td>\n",
       "      <td>None</td>\n",
       "      <td>0.369</td>\n",
       "      <td>0.055998</td>\n",
       "      <td>0.210</td>\n",
       "      <td>333411.0</td>\n",
       "      <td>300940.0</td>\n",
       "      <td>Bad</td>\n",
       "      <td>6</td>\n",
       "      <td>5</td>\n",
       "    </tr>\n",
       "    <tr>\n",
       "      <th>19</th>\n",
       "      <td>ABVC</td>\n",
       "      <td>0.591000</td>\n",
       "      <td>0.556460</td>\n",
       "      <td>0.787455</td>\n",
       "      <td>0.019930</td>\n",
       "      <td>None</td>\n",
       "      <td>0.816</td>\n",
       "      <td>82.720282</td>\n",
       "      <td>18.175</td>\n",
       "      <td>232463.0</td>\n",
       "      <td>263367.0</td>\n",
       "      <td>Not so bad</td>\n",
       "      <td>4</td>\n",
       "      <td>3</td>\n",
       "    </tr>\n",
       "    <tr>\n",
       "      <th>12</th>\n",
       "      <td>ABL</td>\n",
       "      <td>7.750000</td>\n",
       "      <td>8.284800</td>\n",
       "      <td>9.988730</td>\n",
       "      <td>0.001942</td>\n",
       "      <td>None</td>\n",
       "      <td>0.148</td>\n",
       "      <td>0.026260</td>\n",
       "      <td>0.333</td>\n",
       "      <td>136281.0</td>\n",
       "      <td>188753.0</td>\n",
       "      <td>Not so bad</td>\n",
       "      <td>4</td>\n",
       "      <td>2</td>\n",
       "    </tr>\n",
       "    <tr>\n",
       "      <th>6</th>\n",
       "      <td>AAPL</td>\n",
       "      <td>252.199997</td>\n",
       "      <td>237.294599</td>\n",
       "      <td>213.019550</td>\n",
       "      <td>0.052333</td>\n",
       "      <td>41.480263</td>\n",
       "      <td>1.240</td>\n",
       "      <td>0.017914</td>\n",
       "      <td>0.061</td>\n",
       "      <td>33997956.0</td>\n",
       "      <td>43821504.0</td>\n",
       "      <td>Not so bad</td>\n",
       "      <td>3</td>\n",
       "      <td>3</td>\n",
       "    </tr>\n",
       "  </tbody>\n",
       "</table>\n",
       "</div>"
      ],
      "text/plain": [
       "   ticker  latestClose       SMA50      SMA200  sharpReturn    peRatio  \\\n",
       "3    AAON   119.650002  126.132400   97.842700     0.046438   52.24891   \n",
       "0    AADI     2.960000    2.310700    1.920125    -0.002669       None   \n",
       "19   ABVC     0.591000    0.556460    0.787455     0.019930       None   \n",
       "12    ABL     7.750000    8.284800    9.988730     0.001942       None   \n",
       "6    AAPL   252.199997  237.294599  213.019550     0.052333  41.480263   \n",
       "\n",
       "    betaRatio       vola  revenueGrowth  dailyVolume  averageVolume  \\\n",
       "3       0.791   0.021741          0.168     359378.0       416425.0   \n",
       "0       0.369   0.055998          0.210     333411.0       300940.0   \n",
       "19      0.816  82.720282         18.175     232463.0       263367.0   \n",
       "12      0.148   0.026260          0.333     136281.0       188753.0   \n",
       "6       1.240   0.017914          0.061   33997956.0     43821504.0   \n",
       "\n",
       "   sharpRatioMeaning  longTermScore  shortTermScore  \n",
       "3         Not so bad              6               2  \n",
       "0                Bad              6               5  \n",
       "19        Not so bad              4               3  \n",
       "12        Not so bad              4               2  \n",
       "6         Not so bad              3               3  "
      ]
     },
     "execution_count": 40,
     "metadata": {},
     "output_type": "execute_result"
    }
   ],
   "source": [
    "def sharpRatioLabel(ratio):\n",
    "    if ratio<0:\n",
    "        return \"Bad\"\n",
    "    if ((ratio>0) & (ratio<1)):\n",
    "        return \"Not so bad\"\n",
    "    if ((ratio>=1) & (ratio<2)):\n",
    "        return \"Good\"\n",
    "    if (ratio >=2):\n",
    "        return \"Amazing\"\n",
    "\n",
    "def longTermScore(line):\n",
    "    score=0\n",
    "    if ((line[\"peRatio\"]!=None) and (line[\"peRatio\"]<20)): #PE ratio is how much investor pays to get a $ of benefice\n",
    "        score+=3 #PE ratio is 1.5 more important than the revenue growth and the beta ratio -> PE ratio <20 -> company under-evaluated\n",
    "    if ((line[\"revenueGrowth\"]!=None)and(line[\"revenueGrowth\"]>0.1)):\n",
    "        score+=2 #ratio of revenue growth is how much % the revenues of the company grew -> 0.1=10% \n",
    "    if ((line[\"betaRatio\"]!=None)and(line[\"betaRatio\"]<1)):\n",
    "        score+=2 #betaratio is the volability of comparated to the global market -> if < 1 then it's less volatible than the global market\n",
    "    if ((line[\"averageVolume\"]!=None)and(line[\"averageVolume\"]>1000000)):\n",
    "        score += 1 #We count the average volume of transaction as a criteria for long term investments -> meaning it's pretty active\n",
    "    if ((line[\"latestClose\"]!=None)and(line[\"SMA50\"]!=None)and(line[\"SMA200\"]!=None)and(line[\"latestClose\"]>line[\"SMA200\"])and(line[\"SMA50\"]>line[\"SMA200\"])):\n",
    "        #checking if the actual price is higher than the moving average on 200 days, meaning it's actually going up, and checking if the\n",
    "        #moving average on 50 days is higher than the moving average on 200 days, meaning it tends to price up\n",
    "        score+=2\n",
    "    return score\n",
    "\n",
    "def shortTermScore(line):\n",
    "    score=0\n",
    "    if ((line[\"sharpReturn\"]!=None)and(line[\"sharpReturn\"]>1)):\n",
    "        score+=3 #return adjusted to the risk -> we use it to see if the return is worth the risk ->> if it's >1 then the return is worth the risk\n",
    "    if ((line[\"betaRatio\"]!=None)and(line[\"betaRatio\"]>1)):\n",
    "        score+=2 #betaratio >1 so more volatible than the global market\n",
    "    if ((line[\"vola\"]!=None)and(line[\"vola\"]>0.02)):\n",
    "        score+=2 #high volability -> more likely to be good a short term investment -> volability is the \"écart type\" of the return (indicates if it's stable)\n",
    "    if ((line[\"dailyVolume\"]!=None)and(line[\"dailyVolume\"]>line[\"averageVolume\"])):\n",
    "        score+=2 #if there is an un-normal recent activity then it's more likely to be a good short term investment\n",
    "    if ((line[\"latestClose\"]!=None)and(line[\"SMA50\"]!=None)and(line[\"latestClose\"]>line[\"SMA50\"])): #latest close value > MA 50 days -> recent price up and activity\n",
    "        score+=1\n",
    "    return score\n",
    "\n",
    "sharpReturnDf[\"sharpRatioMeaning\"]=sharpReturnDf[\"sharpReturn\"].apply(sharpRatioLabel)\n",
    "sharpReturnDf[\"longTermScore\"]=sharpReturnDf.apply(longTermScore,axis=1)\n",
    "sharpReturnDf[\"shortTermScore\"]=sharpReturnDf.apply(shortTermScore,axis=1)\n",
    "\n",
    "sharpReturnDf=sharpReturnDf.sort_values(by=[\"longTermScore\",\"sharpReturn\"],ascending=[False,False])\n",
    "sharpReturnDf.head()"
   ]
  },
  {
   "cell_type": "markdown",
   "metadata": {},
   "source": [
    "3. Analysis and visualizations"
   ]
  },
  {
   "cell_type": "markdown",
   "metadata": {},
   "source": [
    "Interface to help you chose a company in fonction of the desired term time:"
   ]
  },
  {
   "cell_type": "code",
   "execution_count": 41,
   "metadata": {},
   "outputs": [
    {
     "data": {
      "application/vnd.jupyter.widget-view+json": {
       "model_id": "b650f9c3b7484c7599ccab52dc0c4aa1",
       "version_major": 2,
       "version_minor": 0
      },
      "text/plain": [
       "Dropdown(description='Term Time : ', options=('Long Term', 'Short Term'), value='Long Term')"
      ]
     },
     "metadata": {},
     "output_type": "display_data"
    },
    {
     "data": {
      "application/vnd.jupyter.widget-view+json": {
       "model_id": "8dec698c23894afd8d34227ad553a3fc",
       "version_major": 2,
       "version_minor": 0
      },
      "text/plain": [
       "Button(description='Display', style=ButtonStyle())"
      ]
     },
     "metadata": {},
     "output_type": "display_data"
    },
    {
     "name": "stdout",
     "output_type": "stream",
     "text": [
      "Best companies to invest in for long time term investment: \n",
      "\n",
      "   ticker  longTermScore\n",
      "3    AAON              6\n",
      "0    AADI              6\n",
      "19   ABVC              4\n",
      "12    ABL              4\n",
      "6    AAPL              3\n",
      "2    AAOI              3\n",
      "8    AAXJ              3\n",
      "1     AAL              3\n",
      "17   ABSI              3\n",
      "10   ABCL              3\n",
      "13  ABLLL              2\n",
      "7    AAPU              2\n",
      "4    AAPB              2\n",
      "11   ABEO              2\n",
      "15   ABOS              2\n",
      "20   ABVE              2\n",
      "9    ABAT              1\n",
      "14   ABNB              1\n",
      "18   ABUS              0\n",
      "16    ABP              0\n",
      "5    AAPD              0\n"
     ]
    }
   ],
   "source": [
    "def recommandations(termTime):\n",
    "    \n",
    "    if(termTime==\"Long Term\"):\n",
    "        sortDF=sharpReturnDf.sort_values(by=[\"longTermScore\",\"sharpReturn\"],ascending=[False,False])\n",
    "        title=\"Best companies to invest in for long time term investment: \"\n",
    "        print(f\"{title}\\n\")\n",
    "        print(sortDF[[\"ticker\",\"longTermScore\"]])\n",
    "    else:\n",
    "        sortDF=sharpReturnDf.sort_values(by=[\"shortTermScore\",\"sharpReturn\"],ascending=[False,False])\n",
    "        title=\"Best companies to invest in for short time term investment: \"\n",
    "        print(f\"{title}\\n\")\n",
    "        print(sortDF[[\"ticker\",\"shortTermScore\"]])\n",
    "\n",
    "termTime=widgets.Dropdown(\n",
    "    options=[\"Long Term\",\"Short Term\"],\n",
    "    value=\"Long Term\",\n",
    "    description=\"Term Time : \"\n",
    ")\n",
    "\n",
    "def click(button):\n",
    "    recommandations(termTime.value)\n",
    "\n",
    "button=widgets.Button(description=\"Display\")\n",
    "button.on_click(click)\n",
    "display(termTime,button)"
   ]
  },
  {
   "cell_type": "markdown",
   "metadata": {},
   "source": [
    "Interface to show the variation in stock value of a company:"
   ]
  },
  {
   "cell_type": "code",
   "execution_count": 42,
   "metadata": {},
   "outputs": [
    {
     "data": {
      "application/vnd.jupyter.widget-view+json": {
       "model_id": "3088b5b89bff4a109fd50ceb3d59e82b",
       "version_major": 2,
       "version_minor": 0
      },
      "text/plain": [
       "interactive(children=(Dropdown(description='Select Ticker: ', options=('AADI', 'AAL', 'AAOI', 'AAON', 'AAPB', …"
      ]
     },
     "metadata": {},
     "output_type": "display_data"
    },
    {
     "data": {
      "application/vnd.plotly.v1+json": {
       "config": {
        "plotlyServerURL": "https://plot.ly"
       },
       "data": [
        {
         "connectgaps": false,
         "line": {
          "color": "blue",
          "width": 2
         },
         "mode": "lines",
         "name": "Close value (AADI)",
         "type": "scatter",
         "x": [
          "30 14:30",
          "30 14:32",
          "30 14:33",
          "30 14:35",
          "30 14:36",
          "30 14:38",
          "30 14:39",
          "30 14:41",
          "30 14:42",
          "30 14:43",
          "30 14:44",
          "30 14:46",
          "30 14:47",
          "30 14:48",
          "30 14:50",
          "30 14:52",
          "30 14:53",
          "30 14:54",
          "30 14:56",
          "30 14:57",
          "30 15:00",
          "30 15:04",
          "30 15:05",
          "30 15:09",
          "30 15:18",
          "30 15:21",
          "30 15:22",
          "30 15:23",
          "30 15:24",
          "30 15:27",
          "30 15:32",
          "30 15:33",
          "30 15:36",
          "30 15:37",
          "30 15:45",
          "30 15:46",
          "30 15:55",
          "30 15:56",
          "30 16:02",
          "30 16:03",
          "30 16:05",
          "30 16:07",
          "30 16:08",
          "30 16:09",
          "30 16:10",
          "30 16:11",
          "30 16:18",
          "30 16:19",
          "30 16:21",
          "30 16:33",
          "30 16:36",
          "30 16:39",
          "30 16:40",
          "30 16:41",
          "30 16:47",
          "30 17:00",
          "30 17:01",
          "30 17:05",
          "30 17:09",
          "30 17:10",
          "30 17:14",
          "30 17:17",
          "30 17:19",
          "30 17:29",
          "30 17:30",
          "30 17:32",
          "30 17:33",
          "30 17:37",
          "30 17:46",
          "30 17:47",
          "30 17:51",
          "30 17:53",
          "30 17:54",
          "30 17:57",
          "30 18:02",
          "30 18:03",
          "30 18:04",
          "30 18:05",
          "30 18:07",
          "30 18:08",
          "30 18:10",
          "30 18:11",
          "30 18:12",
          "30 18:15",
          "30 18:16",
          "30 18:17",
          "30 18:19",
          "30 18:20",
          "30 18:21",
          "30 18:22",
          "30 18:24",
          "30 18:25",
          "30 18:26",
          "30 18:27",
          "30 18:32",
          "30 18:33",
          "30 18:35",
          "30 18:36",
          "30 18:39",
          "30 18:40",
          "30 18:41",
          "30 18:44",
          "30 18:46",
          "30 18:49",
          "30 18:53",
          "30 18:55",
          "30 18:56",
          "30 18:57",
          "30 18:58",
          "30 18:59",
          "30 19:00",
          "30 19:01",
          "30 19:02",
          "30 19:05",
          "30 19:07",
          "30 19:09",
          "30 19:11",
          "30 19:12",
          "30 19:15",
          "30 19:16",
          "30 19:17",
          "30 19:19",
          "30 19:20",
          "30 19:22",
          "30 19:24",
          "30 19:25",
          "30 19:26",
          "30 19:27",
          "30 19:28",
          "30 19:29",
          "30 19:31",
          "30 19:33",
          "30 19:34",
          "30 19:35",
          "30 19:39",
          "30 19:44",
          "30 19:48",
          "30 19:49",
          "30 19:50",
          "30 19:51",
          "30 19:52",
          "30 19:55",
          "30 19:56",
          "30 19:57",
          "30 19:59",
          "30 20:00",
          "30 20:02",
          "30 20:04",
          "30 20:05",
          "30 20:06",
          "30 20:07",
          "30 20:09",
          "30 20:10",
          "30 20:15",
          "30 20:16",
          "30 20:19",
          "30 20:25",
          "30 20:26",
          "30 20:27",
          "30 20:28",
          "30 20:30",
          "30 20:32",
          "30 20:35",
          "30 20:38",
          "30 20:39",
          "30 20:40",
          "30 20:41",
          "30 20:42",
          "30 20:43",
          "30 20:44",
          "30 20:45",
          "30 20:48",
          "30 20:49",
          "30 20:50",
          "30 20:52",
          "30 20:53",
          "30 20:54",
          "30 20:55",
          "30 20:56",
          "30 20:57",
          "30 20:58",
          "30 20:59",
          "30 21:00"
         ],
         "y": [
          3.2100000381469727,
          3.180000066757202,
          3.109999895095825,
          3.109999895095825,
          3.1268999576568604,
          3.128000020980835,
          3.0799999237060547,
          3.0299999713897705,
          3.0299999713897705,
          3.055000066757202,
          3.01200008392334,
          3.0739998817443848,
          3.0799999237060547,
          3.009999990463257,
          3.0699000358581543,
          3.109999895095825,
          3.010499954223633,
          3.0199999809265137,
          3.0350000858306885,
          3.01200008392334,
          3.009999990463257,
          3.0399999618530273,
          3.0199999809265137,
          3.0199999809265137,
          3.0199999809265137,
          3.0590999126434326,
          3.049999952316284,
          3.059999942779541,
          3.073499917984009,
          3.0564000606536865,
          3.1033999919891357,
          3.0899999141693115,
          3.0889999866485596,
          3.069999933242798,
          3.069999933242798,
          3.0299999713897705,
          3.059999942779541,
          3.0887999534606934,
          3.075000047683716,
          3.0899999141693115,
          3.069999933242798,
          3.069999933242798,
          3.0799999237060547,
          3.069999933242798,
          3.059999942779541,
          3.059999942779541,
          3.059999942779541,
          3.049999952316284,
          3.059999942779541,
          3.059999942779541,
          3.0799999237060547,
          3.119999885559082,
          3.119999885559082,
          3.109499931335449,
          3.0899999141693115,
          3.0850000381469727,
          3.0999999046325684,
          3.049999952316284,
          3.065000057220459,
          3.0975000858306885,
          3.0999999046325684,
          3.081700086593628,
          3.0968000888824463,
          3.0999999046325684,
          3.109999895095825,
          3.1050000190734863,
          3.0899999141693115,
          3.0992000102996826,
          3.0950000286102295,
          3.0899999141693115,
          3.0950000286102295,
          3.0899999141693115,
          3.0799999237060547,
          3.069999933242798,
          3.0399999618530273,
          3.0399999618530273,
          3.0299999713897705,
          3.0299999713897705,
          3.0299999713897705,
          3.0299999713897705,
          3.0399999618530273,
          3.0490000247955322,
          3.0490000247955322,
          3.0399999618530273,
          3.0399999618530273,
          3.0399999618530273,
          3.0199999809265137,
          3.0199999809265137,
          3.015000104904175,
          3.015000104904175,
          3.015000104904175,
          2.9892001152038574,
          2.990000009536743,
          2.9700000286102295,
          2.9800000190734863,
          2.9800000190734863,
          3,
          3.0199999809265137,
          3.0199999809265137,
          3.0136001110076904,
          3.0199999809265137,
          3.009999990463257,
          3.0199999809265137,
          3.0199999809265137,
          3.0250000953674316,
          3.0199999809265137,
          3.0199999809265137,
          3.0199999809265137,
          3.0199999809265137,
          3.0199999809265137,
          3,
          3,
          3.009999990463257,
          3.0350000858306885,
          3.0299999713897705,
          3.0299999713897705,
          3.0299999713897705,
          3.0250000953674316,
          3.0250000953674316,
          3.0250000953674316,
          3.0299999713897705,
          3.0299999713897705,
          3.0299999713897705,
          3.0299999713897705,
          3.0250000953674316,
          3.0299999713897705,
          3.0350000858306885,
          3.0350000858306885,
          3.0350000858306885,
          3.0299999713897705,
          3.0313000679016113,
          3.0250000953674316,
          3.0299999713897705,
          3.0250000953674316,
          3.0299999713897705,
          3.0299999713897705,
          3.0250000953674316,
          3.0299999713897705,
          3.0299999713897705,
          3.0199999809265137,
          3.0199999809265137,
          3.0250000953674316,
          3.0250000953674316,
          3.0299999713897705,
          3.0201001167297363,
          3.015000104904175,
          3.009999990463257,
          3.009999990463257,
          3.009999990463257,
          3.0199999809265137,
          3.029900074005127,
          3.009999990463257,
          3.015000104904175,
          3.009999990463257,
          3.009999990463257,
          3.0199999809265137,
          3.009999990463257,
          2.9800000190734863,
          2.970099925994873,
          2.9700000286102295,
          2.9700000286102295,
          2.9881999492645264,
          2.9600000381469727,
          2.950000047683716,
          2.9149999618530273,
          2.930000066757202,
          2.9100000858306885,
          2.869999885559082,
          2.869999885559082,
          2.869999885559082,
          2.9000000953674316,
          2.9100000858306885,
          2.9189999103546143,
          2.930000066757202,
          2.9700000286102295,
          2.950000047683716,
          2.9700000286102295,
          2.9800000190734863,
          2.9886999130249023,
          2.990000009536743,
          2.9800000190734863,
          2.9600000381469727,
          2.9600000381469727
         ]
        }
       ],
       "layout": {
        "template": {
         "data": {
          "bar": [
           {
            "error_x": {
             "color": "#2a3f5f"
            },
            "error_y": {
             "color": "#2a3f5f"
            },
            "marker": {
             "line": {
              "color": "white",
              "width": 0.5
             },
             "pattern": {
              "fillmode": "overlay",
              "size": 10,
              "solidity": 0.2
             }
            },
            "type": "bar"
           }
          ],
          "barpolar": [
           {
            "marker": {
             "line": {
              "color": "white",
              "width": 0.5
             },
             "pattern": {
              "fillmode": "overlay",
              "size": 10,
              "solidity": 0.2
             }
            },
            "type": "barpolar"
           }
          ],
          "carpet": [
           {
            "aaxis": {
             "endlinecolor": "#2a3f5f",
             "gridcolor": "#C8D4E3",
             "linecolor": "#C8D4E3",
             "minorgridcolor": "#C8D4E3",
             "startlinecolor": "#2a3f5f"
            },
            "baxis": {
             "endlinecolor": "#2a3f5f",
             "gridcolor": "#C8D4E3",
             "linecolor": "#C8D4E3",
             "minorgridcolor": "#C8D4E3",
             "startlinecolor": "#2a3f5f"
            },
            "type": "carpet"
           }
          ],
          "choropleth": [
           {
            "colorbar": {
             "outlinewidth": 0,
             "ticks": ""
            },
            "type": "choropleth"
           }
          ],
          "contour": [
           {
            "colorbar": {
             "outlinewidth": 0,
             "ticks": ""
            },
            "colorscale": [
             [
              0,
              "#0d0887"
             ],
             [
              0.1111111111111111,
              "#46039f"
             ],
             [
              0.2222222222222222,
              "#7201a8"
             ],
             [
              0.3333333333333333,
              "#9c179e"
             ],
             [
              0.4444444444444444,
              "#bd3786"
             ],
             [
              0.5555555555555556,
              "#d8576b"
             ],
             [
              0.6666666666666666,
              "#ed7953"
             ],
             [
              0.7777777777777778,
              "#fb9f3a"
             ],
             [
              0.8888888888888888,
              "#fdca26"
             ],
             [
              1,
              "#f0f921"
             ]
            ],
            "type": "contour"
           }
          ],
          "contourcarpet": [
           {
            "colorbar": {
             "outlinewidth": 0,
             "ticks": ""
            },
            "type": "contourcarpet"
           }
          ],
          "heatmap": [
           {
            "colorbar": {
             "outlinewidth": 0,
             "ticks": ""
            },
            "colorscale": [
             [
              0,
              "#0d0887"
             ],
             [
              0.1111111111111111,
              "#46039f"
             ],
             [
              0.2222222222222222,
              "#7201a8"
             ],
             [
              0.3333333333333333,
              "#9c179e"
             ],
             [
              0.4444444444444444,
              "#bd3786"
             ],
             [
              0.5555555555555556,
              "#d8576b"
             ],
             [
              0.6666666666666666,
              "#ed7953"
             ],
             [
              0.7777777777777778,
              "#fb9f3a"
             ],
             [
              0.8888888888888888,
              "#fdca26"
             ],
             [
              1,
              "#f0f921"
             ]
            ],
            "type": "heatmap"
           }
          ],
          "heatmapgl": [
           {
            "colorbar": {
             "outlinewidth": 0,
             "ticks": ""
            },
            "colorscale": [
             [
              0,
              "#0d0887"
             ],
             [
              0.1111111111111111,
              "#46039f"
             ],
             [
              0.2222222222222222,
              "#7201a8"
             ],
             [
              0.3333333333333333,
              "#9c179e"
             ],
             [
              0.4444444444444444,
              "#bd3786"
             ],
             [
              0.5555555555555556,
              "#d8576b"
             ],
             [
              0.6666666666666666,
              "#ed7953"
             ],
             [
              0.7777777777777778,
              "#fb9f3a"
             ],
             [
              0.8888888888888888,
              "#fdca26"
             ],
             [
              1,
              "#f0f921"
             ]
            ],
            "type": "heatmapgl"
           }
          ],
          "histogram": [
           {
            "marker": {
             "pattern": {
              "fillmode": "overlay",
              "size": 10,
              "solidity": 0.2
             }
            },
            "type": "histogram"
           }
          ],
          "histogram2d": [
           {
            "colorbar": {
             "outlinewidth": 0,
             "ticks": ""
            },
            "colorscale": [
             [
              0,
              "#0d0887"
             ],
             [
              0.1111111111111111,
              "#46039f"
             ],
             [
              0.2222222222222222,
              "#7201a8"
             ],
             [
              0.3333333333333333,
              "#9c179e"
             ],
             [
              0.4444444444444444,
              "#bd3786"
             ],
             [
              0.5555555555555556,
              "#d8576b"
             ],
             [
              0.6666666666666666,
              "#ed7953"
             ],
             [
              0.7777777777777778,
              "#fb9f3a"
             ],
             [
              0.8888888888888888,
              "#fdca26"
             ],
             [
              1,
              "#f0f921"
             ]
            ],
            "type": "histogram2d"
           }
          ],
          "histogram2dcontour": [
           {
            "colorbar": {
             "outlinewidth": 0,
             "ticks": ""
            },
            "colorscale": [
             [
              0,
              "#0d0887"
             ],
             [
              0.1111111111111111,
              "#46039f"
             ],
             [
              0.2222222222222222,
              "#7201a8"
             ],
             [
              0.3333333333333333,
              "#9c179e"
             ],
             [
              0.4444444444444444,
              "#bd3786"
             ],
             [
              0.5555555555555556,
              "#d8576b"
             ],
             [
              0.6666666666666666,
              "#ed7953"
             ],
             [
              0.7777777777777778,
              "#fb9f3a"
             ],
             [
              0.8888888888888888,
              "#fdca26"
             ],
             [
              1,
              "#f0f921"
             ]
            ],
            "type": "histogram2dcontour"
           }
          ],
          "mesh3d": [
           {
            "colorbar": {
             "outlinewidth": 0,
             "ticks": ""
            },
            "type": "mesh3d"
           }
          ],
          "parcoords": [
           {
            "line": {
             "colorbar": {
              "outlinewidth": 0,
              "ticks": ""
             }
            },
            "type": "parcoords"
           }
          ],
          "pie": [
           {
            "automargin": true,
            "type": "pie"
           }
          ],
          "scatter": [
           {
            "fillpattern": {
             "fillmode": "overlay",
             "size": 10,
             "solidity": 0.2
            },
            "type": "scatter"
           }
          ],
          "scatter3d": [
           {
            "line": {
             "colorbar": {
              "outlinewidth": 0,
              "ticks": ""
             }
            },
            "marker": {
             "colorbar": {
              "outlinewidth": 0,
              "ticks": ""
             }
            },
            "type": "scatter3d"
           }
          ],
          "scattercarpet": [
           {
            "marker": {
             "colorbar": {
              "outlinewidth": 0,
              "ticks": ""
             }
            },
            "type": "scattercarpet"
           }
          ],
          "scattergeo": [
           {
            "marker": {
             "colorbar": {
              "outlinewidth": 0,
              "ticks": ""
             }
            },
            "type": "scattergeo"
           }
          ],
          "scattergl": [
           {
            "marker": {
             "colorbar": {
              "outlinewidth": 0,
              "ticks": ""
             }
            },
            "type": "scattergl"
           }
          ],
          "scattermapbox": [
           {
            "marker": {
             "colorbar": {
              "outlinewidth": 0,
              "ticks": ""
             }
            },
            "type": "scattermapbox"
           }
          ],
          "scatterpolar": [
           {
            "marker": {
             "colorbar": {
              "outlinewidth": 0,
              "ticks": ""
             }
            },
            "type": "scatterpolar"
           }
          ],
          "scatterpolargl": [
           {
            "marker": {
             "colorbar": {
              "outlinewidth": 0,
              "ticks": ""
             }
            },
            "type": "scatterpolargl"
           }
          ],
          "scatterternary": [
           {
            "marker": {
             "colorbar": {
              "outlinewidth": 0,
              "ticks": ""
             }
            },
            "type": "scatterternary"
           }
          ],
          "surface": [
           {
            "colorbar": {
             "outlinewidth": 0,
             "ticks": ""
            },
            "colorscale": [
             [
              0,
              "#0d0887"
             ],
             [
              0.1111111111111111,
              "#46039f"
             ],
             [
              0.2222222222222222,
              "#7201a8"
             ],
             [
              0.3333333333333333,
              "#9c179e"
             ],
             [
              0.4444444444444444,
              "#bd3786"
             ],
             [
              0.5555555555555556,
              "#d8576b"
             ],
             [
              0.6666666666666666,
              "#ed7953"
             ],
             [
              0.7777777777777778,
              "#fb9f3a"
             ],
             [
              0.8888888888888888,
              "#fdca26"
             ],
             [
              1,
              "#f0f921"
             ]
            ],
            "type": "surface"
           }
          ],
          "table": [
           {
            "cells": {
             "fill": {
              "color": "#EBF0F8"
             },
             "line": {
              "color": "white"
             }
            },
            "header": {
             "fill": {
              "color": "#C8D4E3"
             },
             "line": {
              "color": "white"
             }
            },
            "type": "table"
           }
          ]
         },
         "layout": {
          "annotationdefaults": {
           "arrowcolor": "#2a3f5f",
           "arrowhead": 0,
           "arrowwidth": 1
          },
          "autotypenumbers": "strict",
          "coloraxis": {
           "colorbar": {
            "outlinewidth": 0,
            "ticks": ""
           }
          },
          "colorscale": {
           "diverging": [
            [
             0,
             "#8e0152"
            ],
            [
             0.1,
             "#c51b7d"
            ],
            [
             0.2,
             "#de77ae"
            ],
            [
             0.3,
             "#f1b6da"
            ],
            [
             0.4,
             "#fde0ef"
            ],
            [
             0.5,
             "#f7f7f7"
            ],
            [
             0.6,
             "#e6f5d0"
            ],
            [
             0.7,
             "#b8e186"
            ],
            [
             0.8,
             "#7fbc41"
            ],
            [
             0.9,
             "#4d9221"
            ],
            [
             1,
             "#276419"
            ]
           ],
           "sequential": [
            [
             0,
             "#0d0887"
            ],
            [
             0.1111111111111111,
             "#46039f"
            ],
            [
             0.2222222222222222,
             "#7201a8"
            ],
            [
             0.3333333333333333,
             "#9c179e"
            ],
            [
             0.4444444444444444,
             "#bd3786"
            ],
            [
             0.5555555555555556,
             "#d8576b"
            ],
            [
             0.6666666666666666,
             "#ed7953"
            ],
            [
             0.7777777777777778,
             "#fb9f3a"
            ],
            [
             0.8888888888888888,
             "#fdca26"
            ],
            [
             1,
             "#f0f921"
            ]
           ],
           "sequentialminus": [
            [
             0,
             "#0d0887"
            ],
            [
             0.1111111111111111,
             "#46039f"
            ],
            [
             0.2222222222222222,
             "#7201a8"
            ],
            [
             0.3333333333333333,
             "#9c179e"
            ],
            [
             0.4444444444444444,
             "#bd3786"
            ],
            [
             0.5555555555555556,
             "#d8576b"
            ],
            [
             0.6666666666666666,
             "#ed7953"
            ],
            [
             0.7777777777777778,
             "#fb9f3a"
            ],
            [
             0.8888888888888888,
             "#fdca26"
            ],
            [
             1,
             "#f0f921"
            ]
           ]
          },
          "colorway": [
           "#636efa",
           "#EF553B",
           "#00cc96",
           "#ab63fa",
           "#FFA15A",
           "#19d3f3",
           "#FF6692",
           "#B6E880",
           "#FF97FF",
           "#FECB52"
          ],
          "font": {
           "color": "#2a3f5f"
          },
          "geo": {
           "bgcolor": "white",
           "lakecolor": "white",
           "landcolor": "white",
           "showlakes": true,
           "showland": true,
           "subunitcolor": "#C8D4E3"
          },
          "hoverlabel": {
           "align": "left"
          },
          "hovermode": "closest",
          "mapbox": {
           "style": "light"
          },
          "paper_bgcolor": "white",
          "plot_bgcolor": "white",
          "polar": {
           "angularaxis": {
            "gridcolor": "#EBF0F8",
            "linecolor": "#EBF0F8",
            "ticks": ""
           },
           "bgcolor": "white",
           "radialaxis": {
            "gridcolor": "#EBF0F8",
            "linecolor": "#EBF0F8",
            "ticks": ""
           }
          },
          "scene": {
           "xaxis": {
            "backgroundcolor": "white",
            "gridcolor": "#DFE8F3",
            "gridwidth": 2,
            "linecolor": "#EBF0F8",
            "showbackground": true,
            "ticks": "",
            "zerolinecolor": "#EBF0F8"
           },
           "yaxis": {
            "backgroundcolor": "white",
            "gridcolor": "#DFE8F3",
            "gridwidth": 2,
            "linecolor": "#EBF0F8",
            "showbackground": true,
            "ticks": "",
            "zerolinecolor": "#EBF0F8"
           },
           "zaxis": {
            "backgroundcolor": "white",
            "gridcolor": "#DFE8F3",
            "gridwidth": 2,
            "linecolor": "#EBF0F8",
            "showbackground": true,
            "ticks": "",
            "zerolinecolor": "#EBF0F8"
           }
          },
          "shapedefaults": {
           "line": {
            "color": "#2a3f5f"
           }
          },
          "ternary": {
           "aaxis": {
            "gridcolor": "#DFE8F3",
            "linecolor": "#A2B1C6",
            "ticks": ""
           },
           "baxis": {
            "gridcolor": "#DFE8F3",
            "linecolor": "#A2B1C6",
            "ticks": ""
           },
           "bgcolor": "white",
           "caxis": {
            "gridcolor": "#DFE8F3",
            "linecolor": "#A2B1C6",
            "ticks": ""
           }
          },
          "title": {
           "x": 0.05
          },
          "xaxis": {
           "automargin": true,
           "gridcolor": "#EBF0F8",
           "linecolor": "#EBF0F8",
           "ticks": "",
           "title": {
            "standoff": 15
           },
           "zerolinecolor": "#EBF0F8",
           "zerolinewidth": 2
          },
          "yaxis": {
           "automargin": true,
           "gridcolor": "#EBF0F8",
           "linecolor": "#EBF0F8",
           "ticks": "",
           "title": {
            "standoff": 15
           },
           "zerolinecolor": "#EBF0F8",
           "zerolinewidth": 2
          }
         }
        },
        "title": {
         "text": "Close values for AADI (1 Day) , -7.79%, SMA50 : 2.31, SMA200: 1.92"
        },
        "xaxis": {
         "nticks": 24,
         "showgrid": true,
         "title": {
          "text": "Hour"
         },
         "type": "category"
        },
        "yaxis": {
         "title": {
          "text": "Close value (in $)"
         }
        }
       }
      }
     },
     "metadata": {},
     "output_type": "display_data"
    },
    {
     "data": {
      "text/plain": [
       "<function __main__.plot_ticker_with_period(ticker, periode)>"
      ]
     },
     "execution_count": 42,
     "metadata": {},
     "output_type": "execute_result"
    }
   ],
   "source": [
    "def filter_data_by_period(ticker,periode):\n",
    "    dateToday=datetime.today()\n",
    "\n",
    "    if periode==\"1 Day\":\n",
    "        yesterday=dateToday-timedelta(days=1)\n",
    "        start_date=yesterday.replace(hour=0,minute=0,second=0,microsecond=0)\n",
    "    elif periode==\"1 Week\":\n",
    "        start_date=dateToday-timedelta(weeks=1)\n",
    "    elif periode==\"1 Month\":\n",
    "        start_date=dateToday-timedelta(weeks=4)\n",
    "    elif periode==\"6 Months\":\n",
    "        start_date=dateToday-timedelta(weeks=26)\n",
    "    elif periode==\"1 Year\":\n",
    "        start_date=dateToday-timedelta(weeks=52)\n",
    "    elif periode==\"5 Years\":\n",
    "        start_date=dateToday-timedelta(weeks=260)\n",
    "\n",
    "    if (periode==\"1 Day\") or (periode==\"1 Week\"):\n",
    "        filtered=df_min[(df_min[\"date\"]>=start_date)&(df_min[\"ticker\"]==ticker)]\n",
    "    else:\n",
    "        filtered=df_day[(df_day[\"date\"]>=start_date)&(df_day[\"ticker\"]==ticker)]\n",
    "    \n",
    "    filtered=filtered.sort_values(by=\"date\")\n",
    "    return filtered\n",
    "\n",
    "def plot_ticker_with_period(ticker,periode):\n",
    "    sub=filter_data_by_period(ticker,periode)\n",
    "\n",
    "    if not sub.empty:\n",
    "        firstClose=sub[\"close\"].iloc[0]\n",
    "        lastClose=sub[\"close\"].iloc[-1]\n",
    "        var=((lastClose-firstClose)/firstClose)*100\n",
    "        sma50=sharpReturnDf[sharpReturnDf[\"ticker\"]==ticker][\"SMA50\"].iloc[0]\n",
    "        sma200=sharpReturnDf[sharpReturnDf[\"ticker\"]==ticker][\"SMA200\"].iloc[0]\n",
    "    else:\n",
    "        var=0\n",
    "\n",
    "    if var>0:\n",
    "        varClose=f\"+{var:.2f}%\"\n",
    "    else:\n",
    "        varClose=f\"{var:.2f}%\"\n",
    "\n",
    "    if(periode==\"1 Day\"):\n",
    "        sub.loc[sub[\"date\"].diff()>timedelta(hours=12),\"close\"]=None\n",
    "        sub[\"heure\"]=sub[\"date\"].dt.strftime(\"%d %H:%M\")\n",
    "        sub=sub.sort_values(by=\"date\")\n",
    "        x_label=sub[\"heure\"]\n",
    "    elif(periode==\"1 Week\"):\n",
    "        sub.loc[sub[\"date\"].diff()>timedelta(hours=12),\"close\"]=None\n",
    "        sub=sub.sort_values(by=\"date\")\n",
    "        sub[\"day\"]=sub[\"date\"].dt.strftime(\"%d %H:%M\")\n",
    "        x_label=sub[\"day\"]\n",
    "    else:\n",
    "        sub=sub.sort_values(by=\"date\")\n",
    "        x_label=sub[\"date\"]\n",
    "    \n",
    "    fig =go.Figure()\n",
    "    fig.add_trace(go.Scatter(\n",
    "        x=x_label,\n",
    "        y=sub[\"close\"],\n",
    "        mode=\"lines\",\n",
    "        name=f\"Close value ({ticker})\",\n",
    "        line=dict(color=\"blue\",width=2),\n",
    "        connectgaps=False\n",
    "    ))\n",
    "    if(periode==\"1 Day\"):\n",
    "        titlex=\"Hour\"\n",
    "        ntickss=24\n",
    "    elif((periode==\"1 Week\")):\n",
    "        titlex=\"Date\"\n",
    "        ntickss=7\n",
    "    else:\n",
    "        titlex=\"Date\"\n",
    "\n",
    "    if((periode==\"1 Day\")or(periode==\"1 Week\")):\n",
    "        xaxiss=dict(title=titlex,type=\"category\",nticks=ntickss,showgrid=True)\n",
    "    else:\n",
    "        xaxiss=dict(title=titlex,showgrid=True)\n",
    "\n",
    "    fig.update_layout(\n",
    "        title=f\"Close values for {ticker} ({periode}) , {varClose}, SMA50 : {sma50:.2f}, SMA200: {sma200:.2f}\",\n",
    "        xaxis=xaxiss,\n",
    "        yaxis_title=\"Close value (in $)\",\n",
    "        template=\"plotly_white\"\n",
    "    )\n",
    "    \n",
    "    fig.show()\n",
    "\n",
    "tickers=valid_nasdaq_list\n",
    "periode=[\"1 Day\",\"1 Week\",\"1 Month\",\"6 Months\",\"1 Year\",\"5 Years\"]\n",
    "\n",
    "interact(\n",
    "    plot_ticker_with_period,\n",
    "    ticker=widgets.Dropdown(options=tickers,description=\"Select Ticker: \"),\n",
    "    periode=widgets.Dropdown(options=periode,description=\"Select Period: \")\n",
    ")"
   ]
  }
 ],
 "metadata": {
  "kernelspec": {
   "display_name": "base",
   "language": "python",
   "name": "python3"
  },
  "language_info": {
   "codemirror_mode": {
    "name": "ipython",
    "version": 3
   },
   "file_extension": ".py",
   "mimetype": "text/x-python",
   "name": "python",
   "nbconvert_exporter": "python",
   "pygments_lexer": "ipython3",
   "version": "3.12.4"
  }
 },
 "nbformat": 4,
 "nbformat_minor": 2
}
