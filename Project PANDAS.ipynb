{
 "cells": [
  {
   "cell_type": "code",
   "execution_count": 1,
   "metadata": {},
   "outputs": [
    {
     "name": "stdout",
     "output_type": "stream",
     "text": [
      "Warning - Certain functionality \n",
      "             requires requests_html, which is not installed.\n",
      "             \n",
      "             Install using: \n",
      "             pip install requests_html\n",
      "             \n",
      "             After installation, you may have to restart your Python session.\n"
     ]
    }
   ],
   "source": [
    "import pandas as pd\n",
    "import yfinance as yf\n",
    "import yahoo_fin.stock_info as si\n",
    "from yahoo_fin.stock_info import get_data\n",
    "import matplotlib.pyplot as plt\n",
    "import seaborn as sns\n",
    "import plotly.graph_objects as go\n",
    "from ipywidgets import interact, widgets,Output,VBox\n",
    "from datetime import timedelta,datetime\n",
    "from IPython.display import display, clear_output"
   ]
  },
  {
   "cell_type": "markdown",
   "metadata": {},
   "source": [
    "1. Exploration"
   ]
  },
  {
   "cell_type": "markdown",
   "metadata": {},
   "source": [
    "We can take APPLE as a first example:"
   ]
  },
  {
   "cell_type": "code",
   "execution_count": 2,
   "metadata": {},
   "outputs": [
    {
     "data": {
      "text/html": [
       "<div>\n",
       "<style scoped>\n",
       "    .dataframe tbody tr th:only-of-type {\n",
       "        vertical-align: middle;\n",
       "    }\n",
       "\n",
       "    .dataframe tbody tr th {\n",
       "        vertical-align: top;\n",
       "    }\n",
       "\n",
       "    .dataframe thead th {\n",
       "        text-align: right;\n",
       "    }\n",
       "</style>\n",
       "<table border=\"1\" class=\"dataframe\">\n",
       "  <thead>\n",
       "    <tr style=\"text-align: right;\">\n",
       "      <th></th>\n",
       "      <th>date</th>\n",
       "      <th>open</th>\n",
       "      <th>high</th>\n",
       "      <th>low</th>\n",
       "      <th>close</th>\n",
       "      <th>adjclose</th>\n",
       "      <th>volume</th>\n",
       "      <th>ticker</th>\n",
       "    </tr>\n",
       "  </thead>\n",
       "  <tbody>\n",
       "    <tr>\n",
       "      <th>0</th>\n",
       "      <td>2019-12-02</td>\n",
       "      <td>66.817497</td>\n",
       "      <td>67.062500</td>\n",
       "      <td>65.862503</td>\n",
       "      <td>66.040001</td>\n",
       "      <td>64.024628</td>\n",
       "      <td>94487200</td>\n",
       "      <td>AAPL</td>\n",
       "    </tr>\n",
       "    <tr>\n",
       "      <th>1</th>\n",
       "      <td>2019-12-03</td>\n",
       "      <td>64.577499</td>\n",
       "      <td>64.882500</td>\n",
       "      <td>64.072502</td>\n",
       "      <td>64.862503</td>\n",
       "      <td>62.883049</td>\n",
       "      <td>114430400</td>\n",
       "      <td>AAPL</td>\n",
       "    </tr>\n",
       "    <tr>\n",
       "      <th>2</th>\n",
       "      <td>2019-12-04</td>\n",
       "      <td>65.267502</td>\n",
       "      <td>65.827499</td>\n",
       "      <td>65.169998</td>\n",
       "      <td>65.434998</td>\n",
       "      <td>63.438080</td>\n",
       "      <td>67181600</td>\n",
       "      <td>AAPL</td>\n",
       "    </tr>\n",
       "    <tr>\n",
       "      <th>3</th>\n",
       "      <td>2019-12-05</td>\n",
       "      <td>65.947502</td>\n",
       "      <td>66.472504</td>\n",
       "      <td>65.682503</td>\n",
       "      <td>66.394997</td>\n",
       "      <td>64.368797</td>\n",
       "      <td>74424400</td>\n",
       "      <td>AAPL</td>\n",
       "    </tr>\n",
       "    <tr>\n",
       "      <th>4</th>\n",
       "      <td>2019-12-06</td>\n",
       "      <td>66.870003</td>\n",
       "      <td>67.750000</td>\n",
       "      <td>66.824997</td>\n",
       "      <td>67.677498</td>\n",
       "      <td>65.612160</td>\n",
       "      <td>106075600</td>\n",
       "      <td>AAPL</td>\n",
       "    </tr>\n",
       "    <tr>\n",
       "      <th>...</th>\n",
       "      <td>...</td>\n",
       "      <td>...</td>\n",
       "      <td>...</td>\n",
       "      <td>...</td>\n",
       "      <td>...</td>\n",
       "      <td>...</td>\n",
       "      <td>...</td>\n",
       "      <td>...</td>\n",
       "    </tr>\n",
       "    <tr>\n",
       "      <th>1253</th>\n",
       "      <td>2024-11-22</td>\n",
       "      <td>228.059998</td>\n",
       "      <td>230.720001</td>\n",
       "      <td>228.059998</td>\n",
       "      <td>229.869995</td>\n",
       "      <td>229.869995</td>\n",
       "      <td>38168300</td>\n",
       "      <td>AAPL</td>\n",
       "    </tr>\n",
       "    <tr>\n",
       "      <th>1254</th>\n",
       "      <td>2024-11-25</td>\n",
       "      <td>231.460007</td>\n",
       "      <td>233.250000</td>\n",
       "      <td>229.740005</td>\n",
       "      <td>232.869995</td>\n",
       "      <td>232.869995</td>\n",
       "      <td>90152800</td>\n",
       "      <td>AAPL</td>\n",
       "    </tr>\n",
       "    <tr>\n",
       "      <th>1255</th>\n",
       "      <td>2024-11-26</td>\n",
       "      <td>233.330002</td>\n",
       "      <td>235.570007</td>\n",
       "      <td>233.330002</td>\n",
       "      <td>235.059998</td>\n",
       "      <td>235.059998</td>\n",
       "      <td>45986200</td>\n",
       "      <td>AAPL</td>\n",
       "    </tr>\n",
       "    <tr>\n",
       "      <th>1256</th>\n",
       "      <td>2024-11-27</td>\n",
       "      <td>234.470001</td>\n",
       "      <td>235.690002</td>\n",
       "      <td>233.809998</td>\n",
       "      <td>234.929993</td>\n",
       "      <td>234.929993</td>\n",
       "      <td>33498400</td>\n",
       "      <td>AAPL</td>\n",
       "    </tr>\n",
       "    <tr>\n",
       "      <th>1257</th>\n",
       "      <td>2024-11-29</td>\n",
       "      <td>234.809998</td>\n",
       "      <td>237.809998</td>\n",
       "      <td>233.970001</td>\n",
       "      <td>237.330002</td>\n",
       "      <td>237.330002</td>\n",
       "      <td>28481400</td>\n",
       "      <td>AAPL</td>\n",
       "    </tr>\n",
       "  </tbody>\n",
       "</table>\n",
       "<p>1258 rows × 8 columns</p>\n",
       "</div>"
      ],
      "text/plain": [
       "           date        open        high         low       close    adjclose  \\\n",
       "0    2019-12-02   66.817497   67.062500   65.862503   66.040001   64.024628   \n",
       "1    2019-12-03   64.577499   64.882500   64.072502   64.862503   62.883049   \n",
       "2    2019-12-04   65.267502   65.827499   65.169998   65.434998   63.438080   \n",
       "3    2019-12-05   65.947502   66.472504   65.682503   66.394997   64.368797   \n",
       "4    2019-12-06   66.870003   67.750000   66.824997   67.677498   65.612160   \n",
       "...         ...         ...         ...         ...         ...         ...   \n",
       "1253 2024-11-22  228.059998  230.720001  228.059998  229.869995  229.869995   \n",
       "1254 2024-11-25  231.460007  233.250000  229.740005  232.869995  232.869995   \n",
       "1255 2024-11-26  233.330002  235.570007  233.330002  235.059998  235.059998   \n",
       "1256 2024-11-27  234.470001  235.690002  233.809998  234.929993  234.929993   \n",
       "1257 2024-11-29  234.809998  237.809998  233.970001  237.330002  237.330002   \n",
       "\n",
       "         volume ticker  \n",
       "0      94487200   AAPL  \n",
       "1     114430400   AAPL  \n",
       "2      67181600   AAPL  \n",
       "3      74424400   AAPL  \n",
       "4     106075600   AAPL  \n",
       "...         ...    ...  \n",
       "1253   38168300   AAPL  \n",
       "1254   90152800   AAPL  \n",
       "1255   45986200   AAPL  \n",
       "1256   33498400   AAPL  \n",
       "1257   28481400   AAPL  \n",
       "\n",
       "[1258 rows x 8 columns]"
      ]
     },
     "execution_count": 2,
     "metadata": {},
     "output_type": "execute_result"
    }
   ],
   "source": [
    "nas_aapl=get_data(\"aapl\",start_date=\"11/30/2019\",end_date=\"11/30/2024\",index_as_date =False,interval=\"1d\") #différents interval (1m to 3months)\n",
    "nas_aapl"
   ]
  },
  {
   "cell_type": "code",
   "execution_count": 3,
   "metadata": {},
   "outputs": [
    {
     "name": "stdout",
     "output_type": "stream",
     "text": [
      "<class 'pandas.core.frame.DataFrame'>\n",
      "RangeIndex: 1258 entries, 0 to 1257\n",
      "Data columns (total 8 columns):\n",
      " #   Column    Non-Null Count  Dtype         \n",
      "---  ------    --------------  -----         \n",
      " 0   date      1258 non-null   datetime64[ns]\n",
      " 1   open      1258 non-null   float64       \n",
      " 2   high      1258 non-null   float64       \n",
      " 3   low       1258 non-null   float64       \n",
      " 4   close     1258 non-null   float64       \n",
      " 5   adjclose  1258 non-null   float64       \n",
      " 6   volume    1258 non-null   int64         \n",
      " 7   ticker    1258 non-null   object        \n",
      "dtypes: datetime64[ns](1), float64(5), int64(1), object(1)\n",
      "memory usage: 78.8+ KB\n",
      "None\n"
     ]
    }
   ],
   "source": [
    "print(nas_aapl.info())"
   ]
  },
  {
   "cell_type": "code",
   "execution_count": 15,
   "metadata": {},
   "outputs": [
    {
     "name": "stdout",
     "output_type": "stream",
     "text": [
      "count    1258.000000\n",
      "mean      151.100835\n",
      "std        41.033508\n",
      "min        56.092499\n",
      "25%       127.107498\n",
      "50%       151.019997\n",
      "75%       177.244999\n",
      "max       237.330002\n",
      "Name: close, dtype: float64\n"
     ]
    }
   ],
   "source": [
    "print(nas_aapl[\"close\"].describe())"
   ]
  },
  {
   "cell_type": "markdown",
   "metadata": {},
   "source": [
    "2. Pre-processing"
   ]
  },
  {
   "cell_type": "markdown",
   "metadata": {},
   "source": [
    "First we can check how much different tickers there are in the NASDAQ stock market as we want to work on this specific market"
   ]
  },
  {
   "cell_type": "code",
   "execution_count": 4,
   "metadata": {},
   "outputs": [
    {
     "name": "stdout",
     "output_type": "stream",
     "text": [
      "Tickers in Nasdaq: 4791\n",
      "['AACG', 'AADI', 'AADR', 'AAL', 'AAME', 'AAOI', 'AAON', 'AAPB', 'AAPD', 'AAPL', 'AAPU', 'AAXJ', 'ABAT', 'ABCL', 'ABCS', 'ABEO', 'ABL', 'ABLLL', 'ABLLW', 'ABLV', 'ABLVW', 'ABNB', 'ABOS', 'ABP', 'ABPWW', 'ABSI', 'ABTS', 'ABUS', 'ABVC', 'ABVE']\n"
     ]
    }
   ],
   "source": [
    "nas_list=si.tickers_nasdaq()\n",
    "print(\"Tickers in Nasdaq:\",len(nas_list))\n",
    "print(nas_list[0:30])\n",
    "nasdaq_list=nas_list[0:30]"
   ]
  },
  {
   "cell_type": "markdown",
   "metadata": {},
   "source": [
    "We put the tickers we want in a dataframe so we can access it by the name of the ticker:"
   ]
  },
  {
   "cell_type": "code",
   "execution_count": null,
   "metadata": {},
   "outputs": [
    {
     "name": "stdout",
     "output_type": "stream",
     "text": [
      "AACG removed\n",
      "AADR removed\n",
      "AAME removed\n",
      "ABCS removed\n",
      "ABLLW removed\n",
      "ABLV removed\n",
      "ABLVW not avalaible now\n",
      "ABPWW removed\n",
      "ABTS removed\n",
      "ABVE removed\n"
     ]
    }
   ],
   "source": [
    "dfday=pd.DataFrame()\n",
    "dfmin=pd.DataFrame()\n",
    "dateToday=datetime.today().strftime(\"%Y-%m-%d\")\n",
    "date7days=(datetime.today()-timedelta(days=7)).strftime(\"%Y-%m-%d\")\n",
    "valid_nasdaq_list=[]\n",
    "\n",
    "for ticker in nasdaq_list:\n",
    "    try:\n",
    "        data_tickers_min=get_data(ticker,start_date=date7days,index_as_date=True,interval=\"1m\")\n",
    "        data_tickers_d= get_data(ticker,start_date=\"11/30/2014\",index_as_date=True,interval=\"1d\")\n",
    "        if((data_tickers_min[\"close\"].count()>100)and(data_tickers_d[\"close\"].count()>100)): #we put this treshold to remove tickers with small amount of data\n",
    "            dfmin=pd.concat([dfmin,data_tickers_min])\n",
    "            dfday=pd.concat([dfday,data_tickers_d])\n",
    "            valid_nasdaq_list.append(ticker)\n",
    "        else:\n",
    "            print(f\"{ticker} removed\")\n",
    "    except:\n",
    "        print(f\"{ticker} not avalaible now\")\n",
    "\n",
    "def dataEng(data):\n",
    "    df=data\n",
    "    df.reset_index(inplace=True)\n",
    "    df.rename(columns={\"index\":\"date\"}, inplace=True)\n",
    "    df[\"date\"]=pd.to_datetime(df[\"date\"]) #To put the right date type\n",
    "    df[\"ticker\"]=df[\"ticker\"].astype(\"string\") #Was an object type and we put it as a String type\n",
    "    df=df.dropna()\n",
    "    return df\n",
    "\n",
    "df_day=dataEng(dfday)\n",
    "df_min=dataEng(dfmin)\n",
    "\n",
    "df_day[\"return\"]=df_day.groupby(\"ticker\")[\"close\"].pct_change()\n",
    "df_day[\"SMA50\"]=df_day.groupby(\"ticker\")[\"close\"].transform(lambda x:x.rolling(window=50).mean()) #SMA (Simple Moving Average) for 50 days\n",
    "df_day[\"SMA200\"]=df_day.groupby(\"ticker\")[\"close\"].transform(lambda x:x.rolling(window=200).mean()) #for 200 days\n"
   ]
  },
  {
   "cell_type": "code",
   "execution_count": 6,
   "metadata": {},
   "outputs": [
    {
     "data": {
      "text/html": [
       "<div>\n",
       "<style scoped>\n",
       "    .dataframe tbody tr th:only-of-type {\n",
       "        vertical-align: middle;\n",
       "    }\n",
       "\n",
       "    .dataframe tbody tr th {\n",
       "        vertical-align: top;\n",
       "    }\n",
       "\n",
       "    .dataframe thead th {\n",
       "        text-align: right;\n",
       "    }\n",
       "</style>\n",
       "<table border=\"1\" class=\"dataframe\">\n",
       "  <thead>\n",
       "    <tr style=\"text-align: right;\">\n",
       "      <th></th>\n",
       "      <th>date</th>\n",
       "      <th>open</th>\n",
       "      <th>high</th>\n",
       "      <th>low</th>\n",
       "      <th>close</th>\n",
       "      <th>adjclose</th>\n",
       "      <th>volume</th>\n",
       "      <th>ticker</th>\n",
       "      <th>variation</th>\n",
       "      <th>return</th>\n",
       "      <th>SMA50</th>\n",
       "      <th>SMA200</th>\n",
       "    </tr>\n",
       "  </thead>\n",
       "  <tbody>\n",
       "    <tr>\n",
       "      <th>0</th>\n",
       "      <td>2018-02-16</td>\n",
       "      <td>69.750000</td>\n",
       "      <td>72.750000</td>\n",
       "      <td>64.199997</td>\n",
       "      <td>67.500000</td>\n",
       "      <td>67.500000</td>\n",
       "      <td>1527</td>\n",
       "      <td>AADI</td>\n",
       "      <td>8.550003</td>\n",
       "      <td>NaN</td>\n",
       "      <td>NaN</td>\n",
       "      <td>NaN</td>\n",
       "    </tr>\n",
       "    <tr>\n",
       "      <th>1</th>\n",
       "      <td>2018-02-20</td>\n",
       "      <td>65.699997</td>\n",
       "      <td>66.000000</td>\n",
       "      <td>63.750000</td>\n",
       "      <td>66.000000</td>\n",
       "      <td>66.000000</td>\n",
       "      <td>353</td>\n",
       "      <td>AADI</td>\n",
       "      <td>2.250000</td>\n",
       "      <td>-0.022222</td>\n",
       "      <td>NaN</td>\n",
       "      <td>NaN</td>\n",
       "    </tr>\n",
       "    <tr>\n",
       "      <th>2</th>\n",
       "      <td>2018-02-21</td>\n",
       "      <td>60.000000</td>\n",
       "      <td>74.849998</td>\n",
       "      <td>60.000000</td>\n",
       "      <td>71.250000</td>\n",
       "      <td>71.250000</td>\n",
       "      <td>733</td>\n",
       "      <td>AADI</td>\n",
       "      <td>14.849998</td>\n",
       "      <td>0.079545</td>\n",
       "      <td>NaN</td>\n",
       "      <td>NaN</td>\n",
       "    </tr>\n",
       "    <tr>\n",
       "      <th>3</th>\n",
       "      <td>2018-02-22</td>\n",
       "      <td>67.650002</td>\n",
       "      <td>71.250000</td>\n",
       "      <td>66.750000</td>\n",
       "      <td>68.745003</td>\n",
       "      <td>68.745003</td>\n",
       "      <td>213</td>\n",
       "      <td>AADI</td>\n",
       "      <td>4.500000</td>\n",
       "      <td>-0.035158</td>\n",
       "      <td>NaN</td>\n",
       "      <td>NaN</td>\n",
       "    </tr>\n",
       "    <tr>\n",
       "      <th>4</th>\n",
       "      <td>2018-02-23</td>\n",
       "      <td>65.250000</td>\n",
       "      <td>67.500000</td>\n",
       "      <td>65.250000</td>\n",
       "      <td>67.500000</td>\n",
       "      <td>67.500000</td>\n",
       "      <td>360</td>\n",
       "      <td>AADI</td>\n",
       "      <td>2.250000</td>\n",
       "      <td>-0.018110</td>\n",
       "      <td>NaN</td>\n",
       "      <td>NaN</td>\n",
       "    </tr>\n",
       "  </tbody>\n",
       "</table>\n",
       "</div>"
      ],
      "text/plain": [
       "        date       open       high        low      close   adjclose  volume  \\\n",
       "0 2018-02-16  69.750000  72.750000  64.199997  67.500000  67.500000    1527   \n",
       "1 2018-02-20  65.699997  66.000000  63.750000  66.000000  66.000000     353   \n",
       "2 2018-02-21  60.000000  74.849998  60.000000  71.250000  71.250000     733   \n",
       "3 2018-02-22  67.650002  71.250000  66.750000  68.745003  68.745003     213   \n",
       "4 2018-02-23  65.250000  67.500000  65.250000  67.500000  67.500000     360   \n",
       "\n",
       "  ticker  variation    return  SMA50  SMA200  \n",
       "0   AADI   8.550003       NaN    NaN     NaN  \n",
       "1   AADI   2.250000 -0.022222    NaN     NaN  \n",
       "2   AADI  14.849998  0.079545    NaN     NaN  \n",
       "3   AADI   4.500000 -0.035158    NaN     NaN  \n",
       "4   AADI   2.250000 -0.018110    NaN     NaN  "
      ]
     },
     "execution_count": 6,
     "metadata": {},
     "output_type": "execute_result"
    }
   ],
   "source": [
    "df_day.head()"
   ]
  },
  {
   "cell_type": "code",
   "execution_count": null,
   "metadata": {},
   "outputs": [],
   "source": [
    "df_min.head()"
   ]
  },
  {
   "cell_type": "code",
   "execution_count": 11,
   "metadata": {},
   "outputs": [
    {
     "name": "stdout",
     "output_type": "stream",
     "text": [
      "AADI : 714\n",
      "AAL : 1554\n",
      "AAOI : 1497\n",
      "AAON : 805\n",
      "AAPB : 277\n",
      "AAPD : 794\n",
      "AAPL : 1555\n",
      "AAPU : 896\n",
      "AAXJ : 573\n",
      "ABAT : 1555\n",
      "ABCL : 1425\n",
      "ABEO : 467\n",
      "ABL : 641\n",
      "ABLLL : 212\n",
      "ABNB : 1544\n",
      "ABOS : 1132\n",
      "ABP : 1167\n",
      "ABSI : 1454\n",
      "ABUS : 1009\n",
      "ABVC : 251\n"
     ]
    }
   ],
   "source": [
    "for ticker in valid_nasdaq_list:\n",
    "    counter=df_min[df_min[\"ticker\"]==ticker][\"ticker\"].count()\n",
    "    print(f\"{ticker} : {counter}\")"
   ]
  },
  {
   "cell_type": "markdown",
   "metadata": {},
   "source": [
    "We calculate the sharp return ratio and explain the meaning of it"
   ]
  },
  {
   "cell_type": "code",
   "execution_count": 7,
   "metadata": {},
   "outputs": [],
   "source": [
    "sharpReturnDf=pd.DataFrame()\n",
    "sharpReturnDf[\"ticker\"]=valid_nasdaq_list\n",
    "risk_free=0.02/252 #2%/per year cause there are 252 days of open stock market per year\n",
    "\n",
    "for ticker in valid_nasdaq_list:\n",
    "    tick=yf.Ticker(ticker)\n",
    "    info=tick.info\n",
    "    \n",
    "    peRatio=info.get(\"trailingPE\")\n",
    "    betaRatio=info.get(\"beta\")\n",
    "    revenueGrowth=info.get(\"revenueGrowth\")\n",
    "    dailyVolume=info.get(\"volume\")\n",
    "    averageVolume=info.get(\"averageVolume\")\n",
    "    \n",
    "    dfreturn=df_day[df_day[\"ticker\"]==ticker]\n",
    "    returnR=dfreturn[\"return\"].mean()\n",
    "    vola=dfreturn[\"return\"].std()\n",
    "\n",
    "    latestClose=dfreturn[\"close\"].iloc[-1]\n",
    "    sma50=dfreturn[\"SMA50\"].iloc[-1]if not dfreturn[\"SMA50\"].isna().all() else None\n",
    "    sma200=dfreturn[\"SMA200\"].iloc[-1]if not dfreturn[\"SMA200\"].isna().all() else None\n",
    "\n",
    "    sharpReturnDf.loc[sharpReturnDf[\"ticker\"]==ticker,\"latestClose\"]=latestClose\n",
    "    sharpReturnDf.loc[sharpReturnDf[\"ticker\"]==ticker,\"SMA50\"]=sma50\n",
    "    sharpReturnDf.loc[sharpReturnDf[\"ticker\"]==ticker,\"SMA200\"]=sma200\n",
    "    sharpReturnDf.loc[sharpReturnDf[\"ticker\"]==ticker,\"sharpReturn\"]=(returnR-risk_free)/vola\n",
    "    sharpReturnDf.loc[sharpReturnDf[\"ticker\"]==ticker,\"peRatio\"]=peRatio\n",
    "    sharpReturnDf.loc[sharpReturnDf[\"ticker\"]==ticker,\"betaRatio\"]=betaRatio\n",
    "    sharpReturnDf.loc[sharpReturnDf[\"ticker\"]==ticker,\"vola\"]=vola\n",
    "    sharpReturnDf.loc[sharpReturnDf[\"ticker\"]==ticker,\"revenueGrowth\"]=revenueGrowth\n",
    "    sharpReturnDf.loc[sharpReturnDf[\"ticker\"]==ticker,\"dailyVolume\"]=dailyVolume\n",
    "    sharpReturnDf.loc[sharpReturnDf[\"ticker\"]==ticker,\"averageVolume\"]=averageVolume"
   ]
  },
  {
   "cell_type": "code",
   "execution_count": 10,
   "metadata": {},
   "outputs": [
    {
     "data": {
      "text/html": [
       "<div>\n",
       "<style scoped>\n",
       "    .dataframe tbody tr th:only-of-type {\n",
       "        vertical-align: middle;\n",
       "    }\n",
       "\n",
       "    .dataframe tbody tr th {\n",
       "        vertical-align: top;\n",
       "    }\n",
       "\n",
       "    .dataframe thead th {\n",
       "        text-align: right;\n",
       "    }\n",
       "</style>\n",
       "<table border=\"1\" class=\"dataframe\">\n",
       "  <thead>\n",
       "    <tr style=\"text-align: right;\">\n",
       "      <th></th>\n",
       "      <th>ticker</th>\n",
       "      <th>latestClose</th>\n",
       "      <th>SMA50</th>\n",
       "      <th>SMA200</th>\n",
       "      <th>sharpReturn</th>\n",
       "      <th>peRatio</th>\n",
       "      <th>betaRatio</th>\n",
       "      <th>vola</th>\n",
       "      <th>revenueGrowth</th>\n",
       "      <th>dailyVolume</th>\n",
       "      <th>averageVolume</th>\n",
       "      <th>sharpRatioMeaning</th>\n",
       "      <th>longTermScore</th>\n",
       "      <th>shortTermScore</th>\n",
       "    </tr>\n",
       "  </thead>\n",
       "  <tbody>\n",
       "    <tr>\n",
       "      <th>3</th>\n",
       "      <td>AAON</td>\n",
       "      <td>120.184998</td>\n",
       "      <td>126.143100</td>\n",
       "      <td>97.845375</td>\n",
       "      <td>0.046520</td>\n",
       "      <td>52.71272</td>\n",
       "      <td>0.791</td>\n",
       "      <td>0.021740</td>\n",
       "      <td>0.168</td>\n",
       "      <td>139052.0</td>\n",
       "      <td>417241.0</td>\n",
       "      <td>Not so bad</td>\n",
       "      <td>6</td>\n",
       "      <td>2</td>\n",
       "    </tr>\n",
       "    <tr>\n",
       "      <th>0</th>\n",
       "      <td>AADI</td>\n",
       "      <td>3.096800</td>\n",
       "      <td>2.313436</td>\n",
       "      <td>1.920809</td>\n",
       "      <td>-0.002229</td>\n",
       "      <td>None</td>\n",
       "      <td>0.369</td>\n",
       "      <td>0.055973</td>\n",
       "      <td>0.210</td>\n",
       "      <td>92998.0</td>\n",
       "      <td>300940.0</td>\n",
       "      <td>Bad</td>\n",
       "      <td>6</td>\n",
       "      <td>3</td>\n",
       "    </tr>\n",
       "    <tr>\n",
       "      <th>19</th>\n",
       "      <td>ABVC</td>\n",
       "      <td>0.580000</td>\n",
       "      <td>0.556240</td>\n",
       "      <td>0.787400</td>\n",
       "      <td>0.019929</td>\n",
       "      <td>None</td>\n",
       "      <td>0.816</td>\n",
       "      <td>82.720283</td>\n",
       "      <td>18.175</td>\n",
       "      <td>117585.0</td>\n",
       "      <td>263367.0</td>\n",
       "      <td>Not so bad</td>\n",
       "      <td>4</td>\n",
       "      <td>3</td>\n",
       "    </tr>\n",
       "    <tr>\n",
       "      <th>12</th>\n",
       "      <td>ABL</td>\n",
       "      <td>7.703400</td>\n",
       "      <td>8.283868</td>\n",
       "      <td>9.988497</td>\n",
       "      <td>0.001730</td>\n",
       "      <td>None</td>\n",
       "      <td>0.148</td>\n",
       "      <td>0.026261</td>\n",
       "      <td>0.333</td>\n",
       "      <td>41737.0</td>\n",
       "      <td>188753.0</td>\n",
       "      <td>Not so bad</td>\n",
       "      <td>4</td>\n",
       "      <td>2</td>\n",
       "    </tr>\n",
       "    <tr>\n",
       "      <th>6</th>\n",
       "      <td>AAPL</td>\n",
       "      <td>252.949997</td>\n",
       "      <td>237.309599</td>\n",
       "      <td>213.023300</td>\n",
       "      <td>0.052400</td>\n",
       "      <td>41.595394</td>\n",
       "      <td>1.240</td>\n",
       "      <td>0.017913</td>\n",
       "      <td>0.061</td>\n",
       "      <td>14123600.0</td>\n",
       "      <td>43955101.0</td>\n",
       "      <td>Not so bad</td>\n",
       "      <td>3</td>\n",
       "      <td>3</td>\n",
       "    </tr>\n",
       "  </tbody>\n",
       "</table>\n",
       "</div>"
      ],
      "text/plain": [
       "   ticker  latestClose       SMA50      SMA200  sharpReturn    peRatio  \\\n",
       "3    AAON   120.184998  126.143100   97.845375     0.046520   52.71272   \n",
       "0    AADI     3.096800    2.313436    1.920809    -0.002229       None   \n",
       "19   ABVC     0.580000    0.556240    0.787400     0.019929       None   \n",
       "12    ABL     7.703400    8.283868    9.988497     0.001730       None   \n",
       "6    AAPL   252.949997  237.309599  213.023300     0.052400  41.595394   \n",
       "\n",
       "    betaRatio       vola  revenueGrowth  dailyVolume  averageVolume  \\\n",
       "3       0.791   0.021740          0.168     139052.0       417241.0   \n",
       "0       0.369   0.055973          0.210      92998.0       300940.0   \n",
       "19      0.816  82.720283         18.175     117585.0       263367.0   \n",
       "12      0.148   0.026261          0.333      41737.0       188753.0   \n",
       "6       1.240   0.017913          0.061   14123600.0     43955101.0   \n",
       "\n",
       "   sharpRatioMeaning  longTermScore  shortTermScore  \n",
       "3         Not so bad              6               2  \n",
       "0                Bad              6               3  \n",
       "19        Not so bad              4               3  \n",
       "12        Not so bad              4               2  \n",
       "6         Not so bad              3               3  "
      ]
     },
     "execution_count": 10,
     "metadata": {},
     "output_type": "execute_result"
    }
   ],
   "source": [
    "def sharpRatioLabel(ratio):\n",
    "    if ratio<0:\n",
    "        return \"Bad\"\n",
    "    if ((ratio>0) & (ratio<1)):\n",
    "        return \"Not so bad\"\n",
    "    if ((ratio>=1) & (ratio<2)):\n",
    "        return \"Good\"\n",
    "    if (ratio >=2):\n",
    "        return \"Amazing\"\n",
    "\n",
    "def longTermScore(line):\n",
    "    score=0\n",
    "    if ((line[\"peRatio\"]!=None) and (line[\"peRatio\"]<20)): #PE ratio is how much investor pays to get a $ of benefice\n",
    "        score+=3 #PE ratio is 1.5 more important than the revenue growth and the beta ratio -> PE ratio <20 -> company under-evaluated\n",
    "    if ((line[\"revenueGrowth\"]!=None)and(line[\"revenueGrowth\"]>0.1)):\n",
    "        score+=2 #ratio of revenue growth is how much % the revenues of the company grew -> 0.1=10% \n",
    "    if ((line[\"betaRatio\"]!=None)and(line[\"betaRatio\"]<1)):\n",
    "        score+=2 #betaratio is the volability of comparated to the global market -> if < 1 then it's less volatible than the global market\n",
    "    if ((line[\"averageVolume\"]!=None)and(line[\"averageVolume\"]>1000000)):\n",
    "        score += 1 #We count the average volume of transaction as a criteria for long term investments -> meaning it's pretty active\n",
    "    if ((line[\"latestClose\"]!=None)and(line[\"SMA50\"]!=None)and(line[\"SMA200\"]!=None)and(line[\"latestClose\"]>line[\"SMA200\"])and(line[\"SMA50\"]>line[\"SMA200\"])):\n",
    "        #checking if the actual price is higher than the moving average on 200 days, meaning it's actually going up, and checking if the\n",
    "        #moving average on 50 days is higher than the moving average on 200 days, meaning it tends to price up\n",
    "        score+=2\n",
    "    return score\n",
    "\n",
    "def shortTermScore(line):\n",
    "    score=0\n",
    "    if ((line[\"sharpReturn\"]!=None)and(line[\"sharpReturn\"]>1)):\n",
    "        score+=3 #return adjusted to the risk -> we use it to see if the return is worth the risk ->> if it's >1 then the return is worth the risk\n",
    "    if ((line[\"betaRatio\"]!=None)and(line[\"betaRatio\"]>1)):\n",
    "        score+=2 #betaratio >1 so more volatible than the global market\n",
    "    if ((line[\"vola\"]!=None)and(line[\"vola\"]>0.02)):\n",
    "        score+=2 #high volability -> more likely to be good a short term investment -> volability is the \"écart type\" of the return (indicates if it's stable)\n",
    "    if ((line[\"dailyVolume\"]!=None)and(line[\"dailyVolume\"]>line[\"averageVolume\"])):\n",
    "        score+=2 #if there is an un-normal recent activity then it's more likely to be a good short term investment\n",
    "    if ((line[\"latestClose\"]!=None)and(line[\"SMA50\"]!=None)and(line[\"latestClose\"]>line[\"SMA50\"])): #latest close value > MA 50 days -> recent price up and activity\n",
    "        score+=1\n",
    "    return score\n",
    "\n",
    "sharpReturnDf[\"sharpRatioMeaning\"]=sharpReturnDf[\"sharpReturn\"].apply(sharpRatioLabel)\n",
    "sharpReturnDf[\"longTermScore\"]=sharpReturnDf.apply(longTermScore,axis=1)\n",
    "sharpReturnDf[\"shortTermScore\"]=sharpReturnDf.apply(shortTermScore,axis=1)\n",
    "\n",
    "sharpReturnDf=sharpReturnDf.sort_values(by=[\"longTermScore\",\"sharpReturn\"],ascending=[False,False])\n",
    "sharpReturnDf.head()"
   ]
  },
  {
   "cell_type": "code",
   "execution_count": 12,
   "metadata": {},
   "outputs": [
    {
     "name": "stdout",
     "output_type": "stream",
     "text": [
      "date         0\n",
      "open         0\n",
      "high         0\n",
      "low          0\n",
      "close        0\n",
      "volume       0\n",
      "ticker       0\n",
      "variation    0\n",
      "dtype: int64\n"
     ]
    }
   ],
   "source": [
    "print(df_min.isna().sum())"
   ]
  },
  {
   "cell_type": "markdown",
   "metadata": {},
   "source": [
    "3. Analysis and visualizations"
   ]
  },
  {
   "cell_type": "markdown",
   "metadata": {},
   "source": [
    "Interface to help you chose a company in fonction of the desired term time:"
   ]
  },
  {
   "cell_type": "code",
   "execution_count": 13,
   "metadata": {},
   "outputs": [
    {
     "data": {
      "application/vnd.jupyter.widget-view+json": {
       "model_id": "20a9645320384ae9ba18e73b73454750",
       "version_major": 2,
       "version_minor": 0
      },
      "text/plain": [
       "Dropdown(description='Term Time : ', options=('Long Term', 'Short Term'), value='Long Term')"
      ]
     },
     "metadata": {},
     "output_type": "display_data"
    },
    {
     "data": {
      "application/vnd.jupyter.widget-view+json": {
       "model_id": "f53d77d586a841d4a936ff1eecb98c25",
       "version_major": 2,
       "version_minor": 0
      },
      "text/plain": [
       "Button(description='Display', style=ButtonStyle())"
      ]
     },
     "metadata": {},
     "output_type": "display_data"
    },
    {
     "name": "stdout",
     "output_type": "stream",
     "text": [
      "Best companies to invest in for long time term investment: \n",
      "\n",
      "   ticker  longTermScore\n",
      "3    AAON              6\n",
      "0    AADI              6\n",
      "19   ABVC              4\n",
      "12    ABL              4\n",
      "6    AAPL              3\n",
      "2    AAOI              3\n",
      "8    AAXJ              3\n",
      "1     AAL              3\n",
      "17   ABSI              3\n",
      "10   ABCL              3\n",
      "13  ABLLL              2\n",
      "7    AAPU              2\n",
      "4    AAPB              2\n",
      "11   ABEO              2\n",
      "15   ABOS              2\n",
      "9    ABAT              1\n",
      "14   ABNB              1\n",
      "18   ABUS              0\n",
      "16    ABP              0\n",
      "5    AAPD              0\n"
     ]
    }
   ],
   "source": [
    "def recommandations(termTime):\n",
    "    \n",
    "    if(termTime==\"Long Term\"):\n",
    "        sortDF=sharpReturnDf.sort_values(by=[\"longTermScore\",\"sharpReturn\"],ascending=[False,False])\n",
    "        title=\"Best companies to invest in for long time term investment: \"\n",
    "        print(f\"{title}\\n\")\n",
    "        print(sortDF[[\"ticker\",\"longTermScore\"]])\n",
    "    else:\n",
    "        sortDF=sharpReturnDf.sort_values(by=[\"shortTermScore\",\"sharpReturn\"],ascending=[False,False])\n",
    "        title=\"Best companies to invest in for short time term investment: \"\n",
    "        print(f\"{title}\\n\")\n",
    "        print(sortDF[[\"ticker\",\"shortTermScore\"]])\n",
    "\n",
    "termTime=widgets.Dropdown(\n",
    "    options=[\"Long Term\",\"Short Term\"],\n",
    "    value=\"Long Term\",\n",
    "    description=\"Term Time : \"\n",
    ")\n",
    "\n",
    "def click(button):\n",
    "    recommandations(termTime.value)\n",
    "\n",
    "button=widgets.Button(description=\"Display\")\n",
    "button.on_click(click)\n",
    "display(termTime,button)"
   ]
  },
  {
   "cell_type": "markdown",
   "metadata": {},
   "source": [
    "Interface to show the variation in stock value of a company:"
   ]
  },
  {
   "cell_type": "code",
   "execution_count": null,
   "metadata": {},
   "outputs": [
    {
     "data": {
      "application/vnd.jupyter.widget-view+json": {
       "model_id": "01c1fe1645d14f129fedc766489c9279",
       "version_major": 2,
       "version_minor": 0
      },
      "text/plain": [
       "interactive(children=(Dropdown(description='Select Ticker: ', options=('AADI', 'AAL', 'AAOI', 'AAON', 'AAPB', …"
      ]
     },
     "metadata": {},
     "output_type": "display_data"
    },
    {
     "data": {
      "application/vnd.plotly.v1+json": {
       "config": {
        "plotlyServerURL": "https://plot.ly"
       },
       "data": [
        {
         "connectgaps": false,
         "line": {
          "color": "blue",
          "width": 2
         },
         "mode": "lines",
         "name": "Close value (AADI)",
         "type": "scatter",
         "x": [
          "23 18:31",
          "23 18:32",
          "23 18:35",
          "23 18:36",
          "23 18:37",
          "23 18:41",
          "23 18:42",
          "23 18:44",
          "23 18:45",
          "23 18:47",
          "23 18:48",
          "23 18:49",
          "23 18:50",
          "23 18:51",
          "23 18:52",
          "23 18:55",
          "23 18:57",
          "23 18:59",
          "23 19:00",
          "23 19:04",
          "23 19:05",
          "23 19:07",
          "23 19:08",
          "23 19:17",
          "23 19:19",
          "23 19:22",
          "23 19:23",
          "23 19:24",
          "23 19:25",
          "23 19:26",
          "23 19:27",
          "23 19:29",
          "23 19:30",
          "23 19:31",
          "23 19:33",
          "23 19:35",
          "23 19:36",
          "23 19:37",
          "23 19:41",
          "23 19:46",
          "23 19:47",
          "23 19:49",
          "23 19:52",
          "23 19:54",
          "23 19:55",
          "23 19:59",
          "23 20:03",
          "23 20:04",
          "23 20:10",
          "23 20:11",
          "23 20:12",
          "23 20:14",
          "23 20:17",
          "23 20:18",
          "23 20:20",
          "23 20:23",
          "23 20:24",
          "23 20:26",
          "23 20:27",
          "23 20:28",
          "23 20:29",
          "23 20:30",
          "23 20:34",
          "23 20:35",
          "23 20:36",
          "23 20:38",
          "23 20:39",
          "23 20:40",
          "23 20:41",
          "23 20:42",
          "23 20:45",
          "23 20:47",
          "23 20:48",
          "23 20:49",
          "23 20:50",
          "23 20:51",
          "23 20:52",
          "23 20:53",
          "23 20:54",
          "23 20:55",
          "23 20:56",
          "23 20:57",
          "23 20:58",
          "23 20:59",
          "24 14:30",
          "24 14:33",
          "24 14:34",
          "24 14:35",
          "24 14:36",
          "24 14:37",
          "24 14:39",
          "24 14:40",
          "24 14:41",
          "24 14:42",
          "24 14:43",
          "24 14:47",
          "24 14:51",
          "24 14:52",
          "24 14:53",
          "24 14:58",
          "24 15:03",
          "24 15:04",
          "24 15:05",
          "24 15:07",
          "24 15:08",
          "24 15:10",
          "24 15:12",
          "24 15:14",
          "24 15:15",
          "24 15:16",
          "24 15:17",
          "24 15:19",
          "24 15:20",
          "24 15:22",
          "24 15:26",
          "24 15:32",
          "24 15:33",
          "24 15:36",
          "24 15:37",
          "24 15:38",
          "24 15:39",
          "24 15:55",
          "24 15:57",
          "24 16:00",
          "24 16:05",
          "24 16:09",
          "24 16:14",
          "24 16:15",
          "24 16:19",
          "24 16:20",
          "24 16:21",
          "24 16:22",
          "24 16:25",
          "24 16:27",
          "24 16:34",
          "24 16:41",
          "24 16:42",
          "24 16:44",
          "24 16:45",
          "24 16:46",
          "24 16:47",
          "24 16:48",
          "24 16:49",
          "24 16:50",
          "24 16:52",
          "24 16:53",
          "24 16:58",
          "24 17:00",
          "24 17:01",
          "24 17:02",
          "24 17:03",
          "24 17:04",
          "24 17:05",
          "24 17:08",
          "24 17:11",
          "24 17:15",
          "24 17:16",
          "24 17:17",
          "24 17:18",
          "24 17:19",
          "24 17:20",
          "24 17:22",
          "24 17:23",
          "24 17:26",
          "24 17:27",
          "24 17:29",
          "24 17:30",
          "24 17:32",
          "24 17:34",
          "24 17:35",
          "24 17:36",
          "24 17:42",
          "24 17:43",
          "24 17:44",
          "24 17:45",
          "24 17:47",
          "24 17:48",
          "24 17:49",
          "24 17:50",
          "24 17:51",
          "24 17:52",
          "24 17:53",
          "24 17:54",
          "24 17:55",
          "24 17:56",
          "24 17:57",
          "24 17:58",
          "24 17:59",
          "24 18:00",
          "26 14:30",
          "26 14:31",
          "26 14:32",
          "26 14:33",
          "26 14:43",
          "26 14:44",
          "26 14:45",
          "26 14:46",
          "26 14:47",
          "26 14:48",
          "26 14:51",
          "26 14:53",
          "26 14:56",
          "26 15:00",
          "26 15:03",
          "26 15:05",
          "26 15:06",
          "26 15:09",
          "26 15:11",
          "26 15:15",
          "26 15:16",
          "26 15:17",
          "26 15:21",
          "26 15:22",
          "26 15:25",
          "26 15:27",
          "26 15:29",
          "26 15:30",
          "26 15:35",
          "26 15:38",
          "26 15:39",
          "26 15:41",
          "26 15:43",
          "26 15:46",
          "26 15:50",
          "26 15:54",
          "26 15:57",
          "26 16:01",
          "26 16:06",
          "26 16:09",
          "26 16:11",
          "26 16:13",
          "26 16:15",
          "26 16:28",
          "26 16:30",
          "26 16:34",
          "26 16:36",
          "26 16:38",
          "26 16:39",
          "26 16:40",
          "26 16:42",
          "26 16:47",
          "26 16:50",
          "26 16:53",
          "26 16:56",
          "26 17:03",
          "26 17:05",
          "26 17:08",
          "26 17:10",
          "26 17:22",
          "26 17:26",
          "26 17:27",
          "26 17:32",
          "26 17:33",
          "26 17:40",
          "26 17:44",
          "26 17:54",
          "26 17:55",
          "26 18:04",
          "26 18:07",
          "26 18:10",
          "26 18:14",
          "26 18:18",
          "26 18:19",
          "26 18:20",
          "26 18:25",
          "26 18:34",
          "26 18:35",
          "26 18:37",
          "26 18:39",
          "26 18:41",
          "26 18:42",
          "26 18:43",
          "26 18:45",
          "26 18:55",
          "26 18:56",
          "26 18:57",
          "26 19:00",
          "26 19:05",
          "26 19:13",
          "26 19:17",
          "26 19:20",
          "26 19:23",
          "26 19:26",
          "26 19:30",
          "26 19:34",
          "26 19:35",
          "26 19:36",
          "26 19:38",
          "26 19:39",
          "26 19:46",
          "26 19:47",
          "26 19:51",
          "26 19:52",
          "26 19:53",
          "26 19:54",
          "26 19:55",
          "26 19:56",
          "26 19:57",
          "26 19:58",
          "26 20:00",
          "26 20:03",
          "26 20:04",
          "26 20:05",
          "26 20:06",
          "26 20:08",
          "26 20:09",
          "26 20:10",
          "26 20:11",
          "26 20:12",
          "26 20:15",
          "26 20:19",
          "26 20:20",
          "26 20:21",
          "26 20:22",
          "26 20:24",
          "26 20:25",
          "26 20:31",
          "26 20:33",
          "26 20:34",
          "26 20:35",
          "26 20:36",
          "26 20:37",
          "26 20:39",
          "26 20:40",
          "26 20:41",
          "26 20:43",
          "26 20:44",
          "26 20:45",
          "26 20:46",
          "26 20:48",
          "26 20:50",
          "26 20:53",
          "26 20:55",
          "26 20:56",
          "26 20:57",
          "26 20:58",
          "26 20:59",
          "27 14:30",
          "27 14:31",
          "27 14:32",
          "27 14:33",
          "27 14:40",
          "27 14:41",
          "27 14:44",
          "27 14:45",
          "27 14:46",
          "27 14:48",
          "27 14:49",
          "27 14:50",
          "27 14:51",
          "27 14:53",
          "27 14:56",
          "27 14:57",
          "27 14:58",
          "27 15:03",
          "27 15:04",
          "27 15:05",
          "27 15:06",
          "27 15:07",
          "27 15:08",
          "27 15:09",
          "27 15:10",
          "27 15:11",
          "27 15:16",
          "27 15:17",
          "27 15:18",
          "27 15:19",
          "27 15:20",
          "27 15:23",
          "27 15:26",
          "27 15:27",
          "27 15:31",
          "27 15:33",
          "27 15:34",
          "27 15:38",
          "27 15:40",
          "27 15:41",
          "27 15:46",
          "27 15:48",
          "27 15:49",
          "27 15:50",
          "27 15:51",
          "27 15:52",
          "27 15:55",
          "27 16:00",
          "27 16:08",
          "27 16:14",
          "27 16:16",
          "27 16:18",
          "27 16:19",
          "27 16:22",
          "27 16:24",
          "27 16:26",
          "27 16:27",
          "27 16:29",
          "27 16:31",
          "27 16:32",
          "27 16:38",
          "27 16:45",
          "27 16:51",
          "27 16:52",
          "27 16:53",
          "27 16:55",
          "27 16:59",
          "27 17:02",
          "27 17:05",
          "27 17:11",
          "27 17:14",
          "27 17:17",
          "27 17:19",
          "27 17:24",
          "27 17:26",
          "27 17:31",
          "27 17:35",
          "27 17:37",
          "27 17:43",
          "27 17:44",
          "27 17:47",
          "27 17:53",
          "27 17:54",
          "27 17:59",
          "27 18:00",
          "27 18:02",
          "27 18:03",
          "27 18:08",
          "27 18:11",
          "27 18:13",
          "27 18:16",
          "27 18:17",
          "27 18:20",
          "27 18:23",
          "27 18:25",
          "27 18:26",
          "27 18:34",
          "27 18:42",
          "27 18:45",
          "27 18:46",
          "27 18:49",
          "27 18:51",
          "27 18:52",
          "27 18:54",
          "27 18:55",
          "27 18:58",
          "27 18:59",
          "27 19:00",
          "27 19:02",
          "27 19:06",
          "27 19:07",
          "27 19:08",
          "27 19:09",
          "27 19:10",
          "27 19:11",
          "27 19:12",
          "27 19:14",
          "27 19:18",
          "27 19:21",
          "27 19:23",
          "27 19:26",
          "27 19:27",
          "27 19:29",
          "27 19:30",
          "27 19:38",
          "27 19:39",
          "27 19:44",
          "27 19:45",
          "27 19:46",
          "27 19:47",
          "27 19:49",
          "27 19:57",
          "27 19:58",
          "27 20:01",
          "27 20:03",
          "27 20:06",
          "27 20:12",
          "27 20:14",
          "27 20:15",
          "27 20:17",
          "27 20:18",
          "27 20:23",
          "27 20:25",
          "27 20:26",
          "27 20:27",
          "27 20:28",
          "27 20:29",
          "27 20:31",
          "27 20:32",
          "27 20:34",
          "27 20:35",
          "27 20:36",
          "27 20:37",
          "27 20:39",
          "27 20:40",
          "27 20:41",
          "27 20:43",
          "27 20:45",
          "27 20:46",
          "27 20:48",
          "27 20:49",
          "27 20:54",
          "27 20:57",
          "27 20:59",
          "30 14:30",
          "30 14:32",
          "30 14:33",
          "30 14:35",
          "30 14:36",
          "30 14:38",
          "30 14:39",
          "30 14:41",
          "30 14:42",
          "30 14:43",
          "30 14:44",
          "30 14:46",
          "30 14:47",
          "30 14:48",
          "30 14:50",
          "30 14:52",
          "30 14:53",
          "30 14:54",
          "30 14:56",
          "30 14:57",
          "30 15:00",
          "30 15:04",
          "30 15:05",
          "30 15:09",
          "30 15:18",
          "30 15:21",
          "30 15:22",
          "30 15:23",
          "30 15:24",
          "30 15:27",
          "30 15:32",
          "30 15:33",
          "30 15:36",
          "30 15:37",
          "30 15:45",
          "30 15:46",
          "30 15:55",
          "30 15:56",
          "30 16:02",
          "30 16:03",
          "30 16:05",
          "30 16:07",
          "30 16:08",
          "30 16:09",
          "30 16:10",
          "30 16:11",
          "30 16:18",
          "30 16:19",
          "30 16:21",
          "30 16:33",
          "30 16:36",
          "30 16:39",
          "30 16:40",
          "30 16:41",
          "30 16:47",
          "30 17:00",
          "30 17:01",
          "30 17:05",
          "30 17:09",
          "30 17:10",
          "30 17:14",
          "30 17:17",
          "30 17:19"
         ],
         "y": [
          3.005000114440918,
          3.0004000663757324,
          3.001199960708618,
          3.0000998973846436,
          3,
          3.000200033187866,
          3.005000114440918,
          3,
          3,
          3.001199960708618,
          3.009999990463257,
          3.005199909210205,
          3,
          2.9607999324798584,
          2.920099973678589,
          2.930000066757202,
          2.949399948120117,
          2.950000047683716,
          2.950000047683716,
          2.940000057220459,
          2.950000047683716,
          2.950000047683716,
          2.940000057220459,
          2.941800117492676,
          2.940000057220459,
          2.940000057220459,
          2.940000057220459,
          2.9410998821258545,
          2.940200090408325,
          2.940000057220459,
          2.944999933242798,
          2.9600000381469727,
          2.9598000049591064,
          2.9600000381469727,
          2.9595999717712402,
          2.9549999237060547,
          2.9549999237060547,
          2.9507999420166016,
          2.9593000411987305,
          2.940000057220459,
          2.950000047683716,
          2.930000066757202,
          2.946000099182129,
          2.9300999641418457,
          2.9600000381469727,
          2.9600000381469727,
          2.931999921798706,
          2.944999933242798,
          2.950000047683716,
          2.950000047683716,
          2.9600000381469727,
          2.950900077819824,
          2.944999933242798,
          2.944999933242798,
          2.956700086593628,
          2.9600000381469727,
          2.9600000381469727,
          2.950000047683716,
          2.9700000286102295,
          3,
          2.9749999046325684,
          2.9800000190734863,
          2.9065001010894775,
          2.940000057220459,
          2.9000000953674316,
          2.9184999465942383,
          2.9200000762939453,
          2.910099983215332,
          2.9800000190734863,
          2.9800000190734863,
          2.990000009536743,
          2.950000047683716,
          2.9700000286102295,
          2.930000066757202,
          2.9149999618530273,
          2.9149999618530273,
          2.9000000953674316,
          2.9072000980377197,
          2.909600019454956,
          2.8903000354766846,
          2.84879994392395,
          2.831399917602539,
          2.8399999141693115,
          2.859999895095825,
          null,
          2.7699999809265137,
          2.7639999389648438,
          2.7699999809265137,
          2.7699999809265137,
          2.805000066757202,
          2.8554999828338623,
          2.8299999237060547,
          2.8554999828338623,
          2.8499999046325684,
          2.825000047683716,
          2.819999933242798,
          2.8399999141693115,
          2.8299999237060547,
          2.8213000297546387,
          2.890000104904175,
          2.9000000953674316,
          2.9100000858306885,
          2.9149999618530273,
          2.950000047683716,
          2.9600000381469727,
          2.984999895095825,
          3.009999990463257,
          3.0199999809265137,
          3.0160999298095703,
          2.9532999992370605,
          2.9500999450683594,
          2.950000047683716,
          2.958899974822998,
          2.9600000381469727,
          2.9788999557495117,
          2.9600000381469727,
          2.9600000381469727,
          2.9600000381469727,
          2.950000047683716,
          2.940000057220459,
          2.940000057220459,
          2.950000047683716,
          2.9649999141693115,
          2.950000047683716,
          2.949700117111206,
          2.9600000381469727,
          2.9600000381469727,
          2.970099925994873,
          2.9800000190734863,
          3,
          3.0299999713897705,
          3.0192999839782715,
          3,
          3.0081000328063965,
          2.960099935531616,
          2.990000009536743,
          3.004199981689453,
          3,
          3,
          3.009999990463257,
          3,
          3,
          2.990000009536743,
          2.990000009536743,
          2.9800000190734863,
          3.0199999809265137,
          3.009999990463257,
          3.009999990463257,
          3,
          3.0136001110076904,
          3,
          3,
          3.0006000995635986,
          3,
          3.009999990463257,
          3,
          3,
          3,
          3,
          3,
          3,
          3,
          3.009999990463257,
          3.010999917984009,
          3.0299999713897705,
          3.0199999809265137,
          3.0199999809265137,
          3.009999990463257,
          3.009999990463257,
          3,
          3.0299999713897705,
          3.009999990463257,
          3.0199999809265137,
          3.0392000675201416,
          3.0299999713897705,
          3.0199999809265137,
          3.0250000953674316,
          3.0255000591278076,
          3.0255000591278076,
          3.0199999809265137,
          3.0102999210357666,
          3.009999990463257,
          3.009999990463257,
          3.009999990463257,
          3.009999990463257,
          3,
          3.0299999713897705,
          3.009999990463257,
          3,
          null,
          3,
          2.9649999141693115,
          3,
          2.9600000381469727,
          2.9600000381469727,
          2.9600000381469727,
          2.9549999237060547,
          2.9700000286102295,
          2.990000009536743,
          2.990000009536743,
          2.950000047683716,
          2.9649999141693115,
          3,
          2.990000009536743,
          3.0250000953674316,
          3.0248000621795654,
          3.029599905014038,
          3.0299999713897705,
          3.015000104904175,
          3.009999990463257,
          3.0199999809265137,
          3,
          3.0199999809265137,
          3.009999990463257,
          3.009999990463257,
          3,
          3.0199999809265137,
          3.009999990463257,
          3.015199899673462,
          3.015000104904175,
          3.009999990463257,
          2.990000009536743,
          2.990000009536743,
          2.990000009536743,
          2.990000009536743,
          2.994999885559082,
          3,
          3.009999990463257,
          2.994999885559082,
          3.005000114440918,
          3.005000114440918,
          3.0250000953674316,
          3.009999990463257,
          3,
          3.009999990463257,
          3,
          3.009999990463257,
          3,
          3,
          3,
          2.994999885559082,
          3.005000114440918,
          2.994999885559082,
          2.9909000396728516,
          3.049999952316284,
          3.0350000858306885,
          3.049999952316284,
          3.0499000549316406,
          3.0102999210357666,
          3.0385000705718994,
          3.046299934387207,
          3.0399999618530273,
          3.030600070953369,
          3.0299999713897705,
          3.0399999618530273,
          3.0350000858306885,
          3.049999952316284,
          3.049999952316284,
          3.0905001163482666,
          3.099900007247925,
          3.089400053024292,
          3.075000047683716,
          3.030100107192993,
          3.0299999713897705,
          3.030900001525879,
          3.0418999195098877,
          3.0399999618530273,
          3.0299999713897705,
          3.0199999809265137,
          3.0350000858306885,
          3.009999990463257,
          3.009999990463257,
          3,
          3.0100998878479004,
          3.01200008392334,
          3.009999990463257,
          3.0113000869750977,
          3.0199999809265137,
          3.0199999809265137,
          3.0299999713897705,
          3.049999952316284,
          3.0799999237060547,
          3.0799999237060547,
          3.049999952316284,
          3.059999942779541,
          3.049999952316284,
          3.053100109100342,
          3.069999933242798,
          3.059999942779541,
          3.0799999237060547,
          3.0850000381469727,
          3.0950000286102295,
          3.09879994392395,
          3.0950000286102295,
          3.0999999046325684,
          3.0950000286102295,
          3.0950000286102295,
          3.0899999141693115,
          3.072000026702881,
          3.0799999237060547,
          3.069999933242798,
          3.0701000690460205,
          3.069999933242798,
          3.0799999237060547,
          3.075000047683716,
          3.069999933242798,
          3.065000057220459,
          3.0199999809265137,
          3.0399999618530273,
          3.0199999809265137,
          3.049999952316284,
          3.049299955368042,
          3.0492000579833984,
          3.049799919128418,
          3.0492000579833984,
          3.0399999618530273,
          3.0399999618530273,
          3.049999952316284,
          3.0399999618530273,
          3.049999952316284,
          3.0450000762939453,
          3.0399999618530273,
          3.049999952316284,
          3.059999942779541,
          3.041300058364868,
          3.059999942779541,
          3.069999933242798,
          3.069999933242798,
          3.069999933242798,
          3.069999933242798,
          3.069999933242798,
          3.059999942779541,
          3.069999933242798,
          3.069999933242798,
          3.0799999237060547,
          3.0799999237060547,
          3.0899999141693115,
          null,
          3.059999942779541,
          3.052000045776367,
          3.065000057220459,
          3.0741000175476074,
          3.0799999237060547,
          3.069999933242798,
          3.069999933242798,
          3.109999895095825,
          3.119999885559082,
          3.109299898147583,
          3.0999999046325684,
          3.0999999046325684,
          3.0999999046325684,
          3.1500000953674316,
          3.1500000953674316,
          3.1500000953674316,
          3.1700000762939453,
          3.190000057220459,
          3.2100000381469727,
          3.1700000762939453,
          3.2242000102996826,
          3.199899911880493,
          3.2300000190734863,
          3.2300000190734863,
          3.2053000926971436,
          3.1700000762939453,
          3.1600000858306885,
          3.1700000762939453,
          3.13700008392334,
          3.1700000762939453,
          3.1700000762939453,
          3.1549999713897705,
          3.1600000858306885,
          3.1700000762939453,
          3.1600000858306885,
          3.1700000762939453,
          3.160099983215332,
          3.1600000858306885,
          3.190999984741211,
          3.185800075531006,
          3.190000057220459,
          3.1700000762939453,
          3.186500072479248,
          3.200000047683716,
          3.190000057220459,
          3.190000057220459,
          3.1600000858306885,
          3.140000104904175,
          3.1110999584198,
          3.100100040435791,
          3.119999885559082,
          3.119999885559082,
          3.1500000953674316,
          3.1463000774383545,
          3.1487998962402344,
          3.1491000652313232,
          3.130000114440918,
          3.1245999336242676,
          3.1500000953674316,
          3.119999885559082,
          3.119999885559082,
          3.1386001110076904,
          3.119999885559082,
          3.119999885559082,
          3.140000104904175,
          3.134999990463257,
          3.130000114440918,
          3.1600000858306885,
          3.190000057220459,
          3.1600000858306885,
          3.1500000953674316,
          3.151099920272827,
          3.1500000953674316,
          3.1698999404907227,
          3.1700000762939453,
          3.1503000259399414,
          3.1600000858306885,
          3.180000066757202,
          3.1798999309539795,
          3.1700000762939453,
          3.1700000762939453,
          3.160900115966797,
          3.1500000953674316,
          3.1600000858306885,
          3.1700000762939453,
          3.1600000858306885,
          3.1649999618530273,
          3.1549999713897705,
          3.1500000953674316,
          3.177500009536743,
          3.1600000858306885,
          3.1549999713897705,
          3.1500000953674316,
          3.1600000858306885,
          3.1600000858306885,
          3.174999952316284,
          3.160099983215332,
          3.1700000762939453,
          3.174999952316284,
          3.200000047683716,
          3.2058000564575195,
          3.2011001110076904,
          3.2100000381469727,
          3.2200000286102295,
          3.240000009536743,
          3.243499994277954,
          3.25,
          3.244999885559082,
          3.25,
          3.2583000659942627,
          3.259000062942505,
          3.25,
          3.2528998851776123,
          3.259999990463257,
          3.2699999809265137,
          3.259999990463257,
          3.2799999713897705,
          3.240000009536743,
          3.255000114440918,
          3.255000114440918,
          3.255000114440918,
          3.255000114440918,
          3.255000114440918,
          3.2558000087738037,
          3.2799999713897705,
          3.2750000953674316,
          3.2750000953674316,
          3.2750000953674316,
          3.2750000953674316,
          3.2799999713897705,
          3.2249999046325684,
          3.2397000789642334,
          3.2100000381469727,
          3.2200000286102295,
          3.2298998832702637,
          3.2200000286102295,
          3.2200000286102295,
          3.2200000286102295,
          3.212100028991699,
          3.2200000286102295,
          3.2200000286102295,
          3.2200000286102295,
          3.2200000286102295,
          3.2200000286102295,
          3.240000009536743,
          3.2300000190734863,
          3.2286999225616455,
          3.2298998832702637,
          3.2200000286102295,
          3.2200000286102295,
          3.2079999446868896,
          3.2200000286102295,
          3.210099935531616,
          3.2111001014709473,
          3.2399001121520996,
          3.2298998832702637,
          3.2300000190734863,
          3.2200000286102295,
          3.200000047683716,
          3.2100000381469727,
          3.200000047683716,
          3.2200000286102295,
          3.2300000190734863,
          null,
          3.180000066757202,
          3.109999895095825,
          3.109999895095825,
          3.1268999576568604,
          3.128000020980835,
          3.0799999237060547,
          3.0299999713897705,
          3.0299999713897705,
          3.055000066757202,
          3.01200008392334,
          3.0739998817443848,
          3.0799999237060547,
          3.009999990463257,
          3.0699000358581543,
          3.109999895095825,
          3.010499954223633,
          3.0199999809265137,
          3.0350000858306885,
          3.01200008392334,
          3.009999990463257,
          3.0399999618530273,
          3.0199999809265137,
          3.0199999809265137,
          3.0199999809265137,
          3.0590999126434326,
          3.049999952316284,
          3.059999942779541,
          3.073499917984009,
          3.0564000606536865,
          3.1033999919891357,
          3.0899999141693115,
          3.0889999866485596,
          3.069999933242798,
          3.069999933242798,
          3.0299999713897705,
          3.059999942779541,
          3.0887999534606934,
          3.075000047683716,
          3.0899999141693115,
          3.069999933242798,
          3.069999933242798,
          3.0799999237060547,
          3.069999933242798,
          3.059999942779541,
          3.059999942779541,
          3.059999942779541,
          3.049999952316284,
          3.059999942779541,
          3.059999942779541,
          3.0799999237060547,
          3.119999885559082,
          3.119999885559082,
          3.109499931335449,
          3.0899999141693115,
          3.0850000381469727,
          3.0999999046325684,
          3.049999952316284,
          3.065000057220459,
          3.0975000858306885,
          3.0999999046325684,
          3.081700086593628,
          3.0968000888824463
         ]
        }
       ],
       "layout": {
        "template": {
         "data": {
          "bar": [
           {
            "error_x": {
             "color": "#2a3f5f"
            },
            "error_y": {
             "color": "#2a3f5f"
            },
            "marker": {
             "line": {
              "color": "white",
              "width": 0.5
             },
             "pattern": {
              "fillmode": "overlay",
              "size": 10,
              "solidity": 0.2
             }
            },
            "type": "bar"
           }
          ],
          "barpolar": [
           {
            "marker": {
             "line": {
              "color": "white",
              "width": 0.5
             },
             "pattern": {
              "fillmode": "overlay",
              "size": 10,
              "solidity": 0.2
             }
            },
            "type": "barpolar"
           }
          ],
          "carpet": [
           {
            "aaxis": {
             "endlinecolor": "#2a3f5f",
             "gridcolor": "#C8D4E3",
             "linecolor": "#C8D4E3",
             "minorgridcolor": "#C8D4E3",
             "startlinecolor": "#2a3f5f"
            },
            "baxis": {
             "endlinecolor": "#2a3f5f",
             "gridcolor": "#C8D4E3",
             "linecolor": "#C8D4E3",
             "minorgridcolor": "#C8D4E3",
             "startlinecolor": "#2a3f5f"
            },
            "type": "carpet"
           }
          ],
          "choropleth": [
           {
            "colorbar": {
             "outlinewidth": 0,
             "ticks": ""
            },
            "type": "choropleth"
           }
          ],
          "contour": [
           {
            "colorbar": {
             "outlinewidth": 0,
             "ticks": ""
            },
            "colorscale": [
             [
              0,
              "#0d0887"
             ],
             [
              0.1111111111111111,
              "#46039f"
             ],
             [
              0.2222222222222222,
              "#7201a8"
             ],
             [
              0.3333333333333333,
              "#9c179e"
             ],
             [
              0.4444444444444444,
              "#bd3786"
             ],
             [
              0.5555555555555556,
              "#d8576b"
             ],
             [
              0.6666666666666666,
              "#ed7953"
             ],
             [
              0.7777777777777778,
              "#fb9f3a"
             ],
             [
              0.8888888888888888,
              "#fdca26"
             ],
             [
              1,
              "#f0f921"
             ]
            ],
            "type": "contour"
           }
          ],
          "contourcarpet": [
           {
            "colorbar": {
             "outlinewidth": 0,
             "ticks": ""
            },
            "type": "contourcarpet"
           }
          ],
          "heatmap": [
           {
            "colorbar": {
             "outlinewidth": 0,
             "ticks": ""
            },
            "colorscale": [
             [
              0,
              "#0d0887"
             ],
             [
              0.1111111111111111,
              "#46039f"
             ],
             [
              0.2222222222222222,
              "#7201a8"
             ],
             [
              0.3333333333333333,
              "#9c179e"
             ],
             [
              0.4444444444444444,
              "#bd3786"
             ],
             [
              0.5555555555555556,
              "#d8576b"
             ],
             [
              0.6666666666666666,
              "#ed7953"
             ],
             [
              0.7777777777777778,
              "#fb9f3a"
             ],
             [
              0.8888888888888888,
              "#fdca26"
             ],
             [
              1,
              "#f0f921"
             ]
            ],
            "type": "heatmap"
           }
          ],
          "heatmapgl": [
           {
            "colorbar": {
             "outlinewidth": 0,
             "ticks": ""
            },
            "colorscale": [
             [
              0,
              "#0d0887"
             ],
             [
              0.1111111111111111,
              "#46039f"
             ],
             [
              0.2222222222222222,
              "#7201a8"
             ],
             [
              0.3333333333333333,
              "#9c179e"
             ],
             [
              0.4444444444444444,
              "#bd3786"
             ],
             [
              0.5555555555555556,
              "#d8576b"
             ],
             [
              0.6666666666666666,
              "#ed7953"
             ],
             [
              0.7777777777777778,
              "#fb9f3a"
             ],
             [
              0.8888888888888888,
              "#fdca26"
             ],
             [
              1,
              "#f0f921"
             ]
            ],
            "type": "heatmapgl"
           }
          ],
          "histogram": [
           {
            "marker": {
             "pattern": {
              "fillmode": "overlay",
              "size": 10,
              "solidity": 0.2
             }
            },
            "type": "histogram"
           }
          ],
          "histogram2d": [
           {
            "colorbar": {
             "outlinewidth": 0,
             "ticks": ""
            },
            "colorscale": [
             [
              0,
              "#0d0887"
             ],
             [
              0.1111111111111111,
              "#46039f"
             ],
             [
              0.2222222222222222,
              "#7201a8"
             ],
             [
              0.3333333333333333,
              "#9c179e"
             ],
             [
              0.4444444444444444,
              "#bd3786"
             ],
             [
              0.5555555555555556,
              "#d8576b"
             ],
             [
              0.6666666666666666,
              "#ed7953"
             ],
             [
              0.7777777777777778,
              "#fb9f3a"
             ],
             [
              0.8888888888888888,
              "#fdca26"
             ],
             [
              1,
              "#f0f921"
             ]
            ],
            "type": "histogram2d"
           }
          ],
          "histogram2dcontour": [
           {
            "colorbar": {
             "outlinewidth": 0,
             "ticks": ""
            },
            "colorscale": [
             [
              0,
              "#0d0887"
             ],
             [
              0.1111111111111111,
              "#46039f"
             ],
             [
              0.2222222222222222,
              "#7201a8"
             ],
             [
              0.3333333333333333,
              "#9c179e"
             ],
             [
              0.4444444444444444,
              "#bd3786"
             ],
             [
              0.5555555555555556,
              "#d8576b"
             ],
             [
              0.6666666666666666,
              "#ed7953"
             ],
             [
              0.7777777777777778,
              "#fb9f3a"
             ],
             [
              0.8888888888888888,
              "#fdca26"
             ],
             [
              1,
              "#f0f921"
             ]
            ],
            "type": "histogram2dcontour"
           }
          ],
          "mesh3d": [
           {
            "colorbar": {
             "outlinewidth": 0,
             "ticks": ""
            },
            "type": "mesh3d"
           }
          ],
          "parcoords": [
           {
            "line": {
             "colorbar": {
              "outlinewidth": 0,
              "ticks": ""
             }
            },
            "type": "parcoords"
           }
          ],
          "pie": [
           {
            "automargin": true,
            "type": "pie"
           }
          ],
          "scatter": [
           {
            "fillpattern": {
             "fillmode": "overlay",
             "size": 10,
             "solidity": 0.2
            },
            "type": "scatter"
           }
          ],
          "scatter3d": [
           {
            "line": {
             "colorbar": {
              "outlinewidth": 0,
              "ticks": ""
             }
            },
            "marker": {
             "colorbar": {
              "outlinewidth": 0,
              "ticks": ""
             }
            },
            "type": "scatter3d"
           }
          ],
          "scattercarpet": [
           {
            "marker": {
             "colorbar": {
              "outlinewidth": 0,
              "ticks": ""
             }
            },
            "type": "scattercarpet"
           }
          ],
          "scattergeo": [
           {
            "marker": {
             "colorbar": {
              "outlinewidth": 0,
              "ticks": ""
             }
            },
            "type": "scattergeo"
           }
          ],
          "scattergl": [
           {
            "marker": {
             "colorbar": {
              "outlinewidth": 0,
              "ticks": ""
             }
            },
            "type": "scattergl"
           }
          ],
          "scattermapbox": [
           {
            "marker": {
             "colorbar": {
              "outlinewidth": 0,
              "ticks": ""
             }
            },
            "type": "scattermapbox"
           }
          ],
          "scatterpolar": [
           {
            "marker": {
             "colorbar": {
              "outlinewidth": 0,
              "ticks": ""
             }
            },
            "type": "scatterpolar"
           }
          ],
          "scatterpolargl": [
           {
            "marker": {
             "colorbar": {
              "outlinewidth": 0,
              "ticks": ""
             }
            },
            "type": "scatterpolargl"
           }
          ],
          "scatterternary": [
           {
            "marker": {
             "colorbar": {
              "outlinewidth": 0,
              "ticks": ""
             }
            },
            "type": "scatterternary"
           }
          ],
          "surface": [
           {
            "colorbar": {
             "outlinewidth": 0,
             "ticks": ""
            },
            "colorscale": [
             [
              0,
              "#0d0887"
             ],
             [
              0.1111111111111111,
              "#46039f"
             ],
             [
              0.2222222222222222,
              "#7201a8"
             ],
             [
              0.3333333333333333,
              "#9c179e"
             ],
             [
              0.4444444444444444,
              "#bd3786"
             ],
             [
              0.5555555555555556,
              "#d8576b"
             ],
             [
              0.6666666666666666,
              "#ed7953"
             ],
             [
              0.7777777777777778,
              "#fb9f3a"
             ],
             [
              0.8888888888888888,
              "#fdca26"
             ],
             [
              1,
              "#f0f921"
             ]
            ],
            "type": "surface"
           }
          ],
          "table": [
           {
            "cells": {
             "fill": {
              "color": "#EBF0F8"
             },
             "line": {
              "color": "white"
             }
            },
            "header": {
             "fill": {
              "color": "#C8D4E3"
             },
             "line": {
              "color": "white"
             }
            },
            "type": "table"
           }
          ]
         },
         "layout": {
          "annotationdefaults": {
           "arrowcolor": "#2a3f5f",
           "arrowhead": 0,
           "arrowwidth": 1
          },
          "autotypenumbers": "strict",
          "coloraxis": {
           "colorbar": {
            "outlinewidth": 0,
            "ticks": ""
           }
          },
          "colorscale": {
           "diverging": [
            [
             0,
             "#8e0152"
            ],
            [
             0.1,
             "#c51b7d"
            ],
            [
             0.2,
             "#de77ae"
            ],
            [
             0.3,
             "#f1b6da"
            ],
            [
             0.4,
             "#fde0ef"
            ],
            [
             0.5,
             "#f7f7f7"
            ],
            [
             0.6,
             "#e6f5d0"
            ],
            [
             0.7,
             "#b8e186"
            ],
            [
             0.8,
             "#7fbc41"
            ],
            [
             0.9,
             "#4d9221"
            ],
            [
             1,
             "#276419"
            ]
           ],
           "sequential": [
            [
             0,
             "#0d0887"
            ],
            [
             0.1111111111111111,
             "#46039f"
            ],
            [
             0.2222222222222222,
             "#7201a8"
            ],
            [
             0.3333333333333333,
             "#9c179e"
            ],
            [
             0.4444444444444444,
             "#bd3786"
            ],
            [
             0.5555555555555556,
             "#d8576b"
            ],
            [
             0.6666666666666666,
             "#ed7953"
            ],
            [
             0.7777777777777778,
             "#fb9f3a"
            ],
            [
             0.8888888888888888,
             "#fdca26"
            ],
            [
             1,
             "#f0f921"
            ]
           ],
           "sequentialminus": [
            [
             0,
             "#0d0887"
            ],
            [
             0.1111111111111111,
             "#46039f"
            ],
            [
             0.2222222222222222,
             "#7201a8"
            ],
            [
             0.3333333333333333,
             "#9c179e"
            ],
            [
             0.4444444444444444,
             "#bd3786"
            ],
            [
             0.5555555555555556,
             "#d8576b"
            ],
            [
             0.6666666666666666,
             "#ed7953"
            ],
            [
             0.7777777777777778,
             "#fb9f3a"
            ],
            [
             0.8888888888888888,
             "#fdca26"
            ],
            [
             1,
             "#f0f921"
            ]
           ]
          },
          "colorway": [
           "#636efa",
           "#EF553B",
           "#00cc96",
           "#ab63fa",
           "#FFA15A",
           "#19d3f3",
           "#FF6692",
           "#B6E880",
           "#FF97FF",
           "#FECB52"
          ],
          "font": {
           "color": "#2a3f5f"
          },
          "geo": {
           "bgcolor": "white",
           "lakecolor": "white",
           "landcolor": "white",
           "showlakes": true,
           "showland": true,
           "subunitcolor": "#C8D4E3"
          },
          "hoverlabel": {
           "align": "left"
          },
          "hovermode": "closest",
          "mapbox": {
           "style": "light"
          },
          "paper_bgcolor": "white",
          "plot_bgcolor": "white",
          "polar": {
           "angularaxis": {
            "gridcolor": "#EBF0F8",
            "linecolor": "#EBF0F8",
            "ticks": ""
           },
           "bgcolor": "white",
           "radialaxis": {
            "gridcolor": "#EBF0F8",
            "linecolor": "#EBF0F8",
            "ticks": ""
           }
          },
          "scene": {
           "xaxis": {
            "backgroundcolor": "white",
            "gridcolor": "#DFE8F3",
            "gridwidth": 2,
            "linecolor": "#EBF0F8",
            "showbackground": true,
            "ticks": "",
            "zerolinecolor": "#EBF0F8"
           },
           "yaxis": {
            "backgroundcolor": "white",
            "gridcolor": "#DFE8F3",
            "gridwidth": 2,
            "linecolor": "#EBF0F8",
            "showbackground": true,
            "ticks": "",
            "zerolinecolor": "#EBF0F8"
           },
           "zaxis": {
            "backgroundcolor": "white",
            "gridcolor": "#DFE8F3",
            "gridwidth": 2,
            "linecolor": "#EBF0F8",
            "showbackground": true,
            "ticks": "",
            "zerolinecolor": "#EBF0F8"
           }
          },
          "shapedefaults": {
           "line": {
            "color": "#2a3f5f"
           }
          },
          "ternary": {
           "aaxis": {
            "gridcolor": "#DFE8F3",
            "linecolor": "#A2B1C6",
            "ticks": ""
           },
           "baxis": {
            "gridcolor": "#DFE8F3",
            "linecolor": "#A2B1C6",
            "ticks": ""
           },
           "bgcolor": "white",
           "caxis": {
            "gridcolor": "#DFE8F3",
            "linecolor": "#A2B1C6",
            "ticks": ""
           }
          },
          "title": {
           "x": 0.05
          },
          "xaxis": {
           "automargin": true,
           "gridcolor": "#EBF0F8",
           "linecolor": "#EBF0F8",
           "ticks": "",
           "title": {
            "standoff": 15
           },
           "zerolinecolor": "#EBF0F8",
           "zerolinewidth": 2
          },
          "yaxis": {
           "automargin": true,
           "gridcolor": "#EBF0F8",
           "linecolor": "#EBF0F8",
           "ticks": "",
           "title": {
            "standoff": 15
           },
           "zerolinecolor": "#EBF0F8",
           "zerolinewidth": 2
          }
         }
        },
        "title": {
         "text": "Close values for AADI (1 Week) , +3.05%"
        },
        "xaxis": {
         "nticks": 7,
         "showgrid": true,
         "title": {
          "text": "Date"
         },
         "type": "category"
        },
        "yaxis": {
         "title": {
          "text": "Close value (in $)"
         }
        }
       }
      }
     },
     "metadata": {},
     "output_type": "display_data"
    },
    {
     "data": {
      "text/plain": [
       "<function __main__.plot_ticker_with_period(ticker, periode)>"
      ]
     },
     "execution_count": 14,
     "metadata": {},
     "output_type": "execute_result"
    }
   ],
   "source": [
    "def filter_data_by_period(ticker,periode):\n",
    "    dateToday=datetime.today()\n",
    "\n",
    "    if periode==\"1 Day\":\n",
    "        yesterday=dateToday-timedelta(days=1)\n",
    "        start_date=yesterday.replace(hour=0,minute=0,second=0,microsecond=0)\n",
    "    elif periode==\"1 Week\":\n",
    "        start_date=dateToday-timedelta(weeks=1)\n",
    "    elif periode==\"1 Month\":\n",
    "        start_date=dateToday-timedelta(weeks=4)\n",
    "    elif periode==\"6 Months\":\n",
    "        start_date=dateToday-timedelta(weeks=26)\n",
    "    elif periode==\"1 Year\":\n",
    "        start_date=dateToday-timedelta(weeks=52)\n",
    "    elif periode==\"5 Years\":\n",
    "        start_date=dateToday-timedelta(weeks=260)\n",
    "\n",
    "    if (periode==\"1 Day\") or (periode==\"1 Week\"):\n",
    "        filtered=df_min[(df_min[\"date\"]>=start_date)&(df_min[\"ticker\"]==ticker)]\n",
    "    else:\n",
    "        filtered=df_day[(df_day[\"date\"]>=start_date)&(df_day[\"ticker\"]==ticker)]\n",
    "    \n",
    "    filtered=filtered.sort_values(by=\"date\")\n",
    "    return filtered\n",
    "\n",
    "def plot_ticker_with_period(ticker,periode):\n",
    "    sub=filter_data_by_period(ticker,periode)\n",
    "\n",
    "    if not sub.empty:\n",
    "        firstClose=sub[\"close\"].iloc[0]\n",
    "        lastClose=sub[\"close\"].iloc[-1]\n",
    "        var=((lastClose-firstClose)/firstClose)*100\n",
    "    else:\n",
    "        var=0\n",
    "\n",
    "    if var>0:\n",
    "        varClose=f\"+{var:.2f}%\"\n",
    "    else:\n",
    "        varClose=f\"{var:.2f}%\"\n",
    "\n",
    "    if(periode==\"1 Day\"):\n",
    "        sub.loc[sub[\"date\"].diff()>timedelta(hours=12),\"close\"]=None\n",
    "        sub[\"heure\"]=sub[\"date\"].dt.strftime(\"%d %H:%M\")\n",
    "        sub=sub.sort_values(by=\"date\")\n",
    "        x_label=sub[\"heure\"]\n",
    "    elif(periode==\"1 Week\"):\n",
    "        sub.loc[sub[\"date\"].diff()>timedelta(hours=12),\"close\"]=None\n",
    "        sub=sub.sort_values(by=\"date\")\n",
    "        sub[\"day\"]=sub[\"date\"].dt.strftime(\"%d %H:%M\")\n",
    "        x_label=sub[\"day\"]\n",
    "    else:\n",
    "        sub=sub.sort_values(by=\"date\")\n",
    "        x_label=sub[\"date\"]\n",
    "    \n",
    "    fig=go.Figure()\n",
    "    fig.add_trace(go.Scatter(\n",
    "        x=x_label,\n",
    "        y=sub[\"close\"],\n",
    "        mode=\"lines\",\n",
    "        name=f\"Close value ({ticker})\",\n",
    "        line=dict(color=\"blue\",width=2),\n",
    "        connectgaps=False\n",
    "    ))\n",
    "    if(periode==\"1 Day\"):\n",
    "        titlex=\"Hour\"\n",
    "        ntickss=24\n",
    "    elif((periode==\"1 Week\")):\n",
    "        titlex=\"Date\"\n",
    "        ntickss=7\n",
    "    else:\n",
    "        titlex=\"Date\"\n",
    "\n",
    "    if((periode==\"1 Day\")or(periode==\"1 Week\")):\n",
    "        xaxiss=dict(title=titlex,type=\"category\",nticks=ntickss,showgrid=True)\n",
    "    else:\n",
    "        xaxiss=dict(title=titlex,showgrid=True)\n",
    "\n",
    "    fig.update_layout(\n",
    "        title=f\"Close values for {ticker} ({periode}) , {varClose}\",\n",
    "        xaxis=xaxiss,\n",
    "        yaxis_title=\"Close value (in $)\",\n",
    "        template=\"plotly_white\"\n",
    "    )\n",
    "    \n",
    "    fig.show()\n",
    "\n",
    "tickers=valid_nasdaq_list\n",
    "periode=[\"1 Day\",\"1 Week\",\"1 Month\",\"6 Months\",\"1 Year\",\"5 Years\"]\n",
    "\n",
    "interact(\n",
    "    plot_ticker_with_period,\n",
    "    ticker=widgets.Dropdown(options=tickers,description=\"Select Ticker: \"),\n",
    "    periode=widgets.Dropdown(options=periode,description=\"Select Period: \")\n",
    ")"
   ]
  }
 ],
 "metadata": {
  "kernelspec": {
   "display_name": "base",
   "language": "python",
   "name": "python3"
  },
  "language_info": {
   "codemirror_mode": {
    "name": "ipython",
    "version": 3
   },
   "file_extension": ".py",
   "mimetype": "text/x-python",
   "name": "python",
   "nbconvert_exporter": "python",
   "pygments_lexer": "ipython3",
   "version": "3.12.4"
  }
 },
 "nbformat": 4,
 "nbformat_minor": 2
}
